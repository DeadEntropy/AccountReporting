{
 "cells": [
  {
   "cell_type": "code",
   "execution_count": null,
   "metadata": {},
   "outputs": [],
   "source": [
    "from process import process, status\n",
    "from transforms import master_transform\n",
    "import pandas as pd\n",
    "import matplotlib\n",
    "float_format = '{:,.2f}'\n",
    "pd.options.display.float_format = float_format.format\n",
    "import matplotlib.pyplot as plt\n",
    "import matplotlib.dates as mdates\n",
    "from matplotlib.dates import DateFormatter\n",
    "from IPython.core.display import display, HTML\n",
    "display(HTML(\"<style>.container { width:100% !important; }</style>\"))\n",
    "import datetime"
   ]
  },
  {
   "cell_type": "code",
   "execution_count": null,
   "metadata": {},
   "outputs": [],
   "source": [
    "mt = master_transform.Loader()\n",
    "pr = process.Process()\n",
    "df = pr.process(mt.load_all())"
   ]
  },
  {
   "cell_type": "code",
   "execution_count": null,
   "metadata": {},
   "outputs": [],
   "source": [
    "outstanding_mortgage = df[df.Account == 'Lloyds Mortgage'].Amount.sum()\n",
    "flat_value = df[df.Account == 'Flat'].Amount.sum()"
   ]
  },
  {
   "cell_type": "markdown",
   "metadata": {},
   "source": [
    "### On-Going Charges\n",
    "includes Service Charge and Mortgage interest"
   ]
  },
  {
   "cell_type": "code",
   "execution_count": null,
   "metadata": {},
   "outputs": [],
   "source": [
    "setup_date = datetime.datetime(2017, 6, 1)\n",
    "now = datetime.datetime.now()\n",
    "investment_time = (now - setup_date).days/365.25\n",
    "print(f'We have owned the flat for {investment_time*12:,.0f} months.')"
   ]
  },
  {
   "cell_type": "code",
   "execution_count": null,
   "metadata": {},
   "outputs": [],
   "source": [
    "service_charge_payments = (df.FullType == 'Service Charge') & (df.Amount < 0)\n",
    "mortgage_interest_payments = (df.FullType == 'Mortgage Interest')\n",
    "total_ongoing_charges = df[service_charge_payments | mortgage_interest_payments].Amount.sum()\n",
    "print(f'The on-going charges are: £{-total_ongoing_charges/investment_time/12:,.0f} per momth.')"
   ]
  },
  {
   "cell_type": "markdown",
   "metadata": {},
   "source": [
    "### Initial Set Up Cost\n",
    "includes sollicitor fees, stamp duty, and renovation work"
   ]
  },
  {
   "cell_type": "code",
   "execution_count": null,
   "metadata": {},
   "outputs": [],
   "source": [
    "flat_purcahse_fees_payments = df.FullType == 'Flat Purchase Fees'\n",
    "flat_work_payments = df.FullType == 'FlatWork'\n",
    "total_setup_cost = df[flat_purcahse_fees_payments | flat_work_payments].Amount.sum()\n",
    "print(f'The initial setup cost was: £{-total_setup_cost:,.0f} (i.e. {-total_setup_cost/flat_value:.2%} of the flat value).')"
   ]
  },
  {
   "cell_type": "markdown",
   "metadata": {},
   "source": [
    "### Cost per Month and yearly-return"
   ]
  },
  {
   "cell_type": "code",
   "execution_count": null,
   "metadata": {},
   "outputs": [],
   "source": [
    "total_flat_costs = total_ongoing_charges + total_setup_cost\n",
    "print(f'The full cost so far was £{-total_flat_costs:,.0f} in total, or £{-total_flat_costs / investment_time / 12:,.0f} per month.')"
   ]
  },
  {
   "cell_type": "code",
   "execution_count": null,
   "metadata": {},
   "outputs": [],
   "source": [
    "expected_rent = 1950\n",
    "savings_per_year = expected_rent*12 + total_flat_costs/investment_time\n",
    "print(f'Over the same time period, the total cost of renting would have been: £{expected_rent*12*investment_time:,.0f}')\n",
    "print(f'In absolute value, the savings over the lifetime of the investment was thus: £{expected_rent*12*investment_time + total_flat_costs:,.0f}')"
   ]
  },
  {
   "cell_type": "code",
   "execution_count": null,
   "metadata": {},
   "outputs": [],
   "source": [
    "initial_asset_allocation = flat_value - df[df.FullType == 'Flat Purchase Capital'].Amount.sum()\n",
    "current_asset_allocation = flat_value + outstanding_mortgage\n",
    "average_asset_allocation = 0.5 * (initial_asset_allocation + current_asset_allocation)\n",
    "print(f'With an average capital allocation of £{average_asset_allocation:,.0f}, the average savings versus ' \\\n",
    "      + f'rents over the lifetime of the investment was: {savings_per_year / average_asset_allocation:.2%} p.a.')"
   ]
  }
 ],
 "metadata": {
  "kernelspec": {
   "display_name": "Python 3",
   "language": "python",
   "name": "python3"
  },
  "language_info": {
   "codemirror_mode": {
    "name": "ipython",
    "version": 3
   },
   "file_extension": ".py",
   "mimetype": "text/x-python",
   "name": "python",
   "nbconvert_exporter": "python",
   "pygments_lexer": "ipython3",
   "version": "3.8.2"
  }
 },
 "nbformat": 4,
 "nbformat_minor": 4
}
