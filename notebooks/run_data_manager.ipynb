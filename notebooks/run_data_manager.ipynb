{
 "cells": [
  {
   "cell_type": "code",
   "execution_count": 1,
   "metadata": {
    "ExecuteTime": {
     "end_time": "2020-11-29T21:15:25.736855Z",
     "start_time": "2020-11-29T21:15:24.817385Z"
    }
   },
   "outputs": [],
   "source": [
    "%load_ext autoreload\n",
    "%autoreload 2\n",
    "import pandas as pd\n",
    "from datetime import datetime, timedelta\n",
    "pd.options.display.float_format = '{:,.2f}'.format\n",
    "pd.set_option('future.no_silent_downcasting', True)\n",
    "from bkanalysis.manager import DataManager, MarketManager, TransformationManager, FigureManager\n",
    "\n",
    "ref_currency = 'USD'"
   ]
  },
  {
   "cell_type": "code",
   "execution_count": 2,
   "metadata": {},
   "outputs": [
    {
     "name": "stdout",
     "output_type": "stream",
     "text": [
      "Loading files from C:\\NicoFolder\\BankAccount\\Lake.\n",
      "Loading 71 CSV file(s), 0 XLS file(s), and 2 JSON file(s).\n"
     ]
    }
   ],
   "source": [
    "data_manager = DataManager()\n",
    "data_manager.load_data_from_disk()"
   ]
  },
  {
   "cell_type": "code",
   "execution_count": 3,
   "metadata": {},
   "outputs": [],
   "source": [
    "data_manager.to_disk('data_manager.csv')"
   ]
  },
  {
   "cell_type": "code",
   "execution_count": 4,
   "metadata": {},
   "outputs": [],
   "source": [
    "market_manager = MarketManager(ref_currency)\n",
    "market_manager.load_prices(data_manager)"
   ]
  },
  {
   "cell_type": "code",
   "execution_count": 5,
   "metadata": {},
   "outputs": [],
   "source": [
    "market_manager.to_disk('data_market.csv')"
   ]
  },
  {
   "cell_type": "code",
   "execution_count": 6,
   "metadata": {},
   "outputs": [],
   "source": [
    "transformation_manager = TransformationManager(data_manager, market_manager)\n",
    "figure_manager = FigureManager(transformation_manager)"
   ]
  },
  {
   "cell_type": "code",
   "execution_count": 7,
   "metadata": {},
   "outputs": [
    {
     "data": {
      "application/vnd.plotly.v1+json": {
       "config": {
        "plotlyServerURL": "https://plot.ly"
       },
       "data": [
        {
         "hovertext": [
          " 35,000: FIRST>MARCUS<br>    -80: CINTA SALON<br>    -18: UBER<br>     -7: HILTON HERB N KITCHE<br>      4: COINBASE STAKING INC<br><br>TOTAL: 34,900",
          "  1,305: NUTMEG FUND PURCHASE<br> -1,228: NUTMEG PENSION SALE<br>   -679: AIRBNB<br>   -286: DELTA AIR LINES<br>   -200: RUTH KACAN (CLEANER)<br>    -49: DEPARTURES - SFO TER<br>    -35: JET BLUE<br>    -28: UBER<br><br>TOTAL: -1,201",
          "  9,235: TRINET HR CORPORATE <br>  3,607: UBS SALARY<br>   -614: EDISON PREMIUM<br>   -400: ATM<br>   -253: SUNRISE UTILITY<br>   -224: TARGET<br>     45: AMAZON<br>    -36: UBER<br>    -16: HOBBY LOBBY<br>    -12: CIE - AFTERCARE<br>     -7: BEST BUY<br>     -6: CAR PARKING<br>     -4: CHEVRON<br>      0: UBS PENSION SAVINGS<br><br>TOTAL: 11,314",
          "    -11: AMAZON<br><br>TOTAL: -11",
          "   -154: SAZON (MIAMI BEACH)<br>    -75: KATE SPADE<br>    -30: AMAZON<br>    -12: SMALL PDF<br>      4: COINBASE STAKING INC<br><br>TOTAL: -266",
          "   -194: COLOR ME MINE<br>   -140: HAIR CUTTERY<br>    -90: PUBLIX<br>    -61: ARITZIA<br>    -31: MARATHON PETROL<br>    -18: AMAZON<br><br>TOTAL: -533",
          "-10,000: MARCUS>FIRST<br> 10,000: FIRST>MARCUS<br>    -26: AMAZON<br>      4: COINBASE STAKING INC<br>     -4: CAR PARKING<br><br>TOTAL: -25",
          "   -185: POOL - ANDRES<br>   -129: AMAZON<br><br>TOTAL: -314",
          " -1,082: MIAMI BEACH LASER<br>   -590: COSTCO<br>   -256: CIE - AFTERCARE<br>   -149: T-MOBILE<br>    -54: MINT MOBILE<br>    -41: BONJOUR BAKERY - WES<br>    -36: LINKEDIN SUBSCRIPTIO<br>    -33: AVENTURA FINEST<br>    -21: AMAZON<br>     -5: CAR PARKING<br><br>TOTAL: -2,267",
          "   -400: KAPOK HOA<br>   -400: KOSTIA (CAR RENTAL)<br>    -89: PUBLIX<br>    -43: AMAZON<br>    -29: USPS<br><br>TOTAL: -960",
          "    -24: AMAZON<br>      4: COINBASE STAKING INC<br><br>TOTAL: -20",
          "    -80: LOWES<br>    -15: AMAZON<br>    -12: CAR PARKING<br><br>TOTAL: -107",
          "   -158: ANTHROPOLOGY<br>   -128: FLAMINGO ORCHID AND <br>    -61: WEST SIDE COMEDY CLU<br>    -38: WAYFAIR<br>    -36: SUNOCO<br>    -21: AMAZON<br>    -15: JOE THE JUICE<br>     -9: FLAMINGOG<br>      4: COINBASE STAKING INC<br><br>TOTAL: -464",
          "-18,607: CITI>CHASE CREDIT CA<br> 18,607: FIRSTREPUBLIC>CREDIT<br>   -736: WILD SIDE JEWELERY<br>    -19: JO MALONE FLL<br>    -13: LILYS CHOCOLATIER<br>    -12: CNBC SMARTSHOP FLL<br>    -11: AMAZON PRIME<br>    -11: AMAZON<br><br>TOTAL: -803",
          " -8,904: CITI>CHASE CREDIT CA<br>  8,904: FIRSTREPUBLIC>CREDIT<br>   -259: SCHOOL OF ROCK<br>    -44: AMAZON<br>    -38: LILYS CHOCOLATIER<br>    -35: FOX MAR PHOTO<br>    -31: UBER<br>    -30: CO-PAYMENT<br><br>TOTAL: -436",
          " -5,000: MARCUS>FIRST<br>  5,000: FIRST>MARCUS<br>    -69: AMAZON<br>    -12: ORIGAMY<br>      3: COINBASE STAKING INC<br>     -2: GOOGLE PLAY<br><br>TOTAL: -79",
          "     30: USPS<br>    -11: UBER<br>    -10: APPLE<br><br>TOTAL: 9",
          "    -27: AMAZON<br><br>TOTAL: -27",
          "   -240: VICTORIA SECRET<br>   -207: PUBLIX<br>   -145: MICHAELS<br>   -139: UNIQLO<br>    -93: BOOKOFF (NYC)<br>    -63: WHOLE FOODS<br>    -61: AMAZON<br>    -59: UBER<br>    -33: UBER EATS<br>    -30: DELTA AIR LINES<br>     -3: MTA<br><br>TOTAL: -1,074",
          " -1,534: PROGRESSIVE INSURANC<br>    -55: COMCAST<br>    -16: JOJU NYC<br>    -16: AMAZON<br>      9: DIVIDEND<br>     -6: PEDIATRICS ASSOCIATE<br>     -3: MTA<br>     -2: UBS CAFETERIA<br><br>TOTAL: -1,624",
          "    -41: TODAY TIX<br>    -38: UBER EATS<br>    -29: CIRCLE K<br>    -26: AMAZON<br>    -15: BAO BY KAYA NYC<br>    -15: WHOLE FOODS<br>      3: COINBASE STAKING INC<br>     -3: MTA<br><br>TOTAL: -163",
          "  3,607: UBS SALARY<br>    -45: UBER EATS<br>    -35: WHOLE FOODS<br>    -21: SUN PASS<br>    -12: CVS PHARMCY<br>    -11: MEGAMART NYC<br>     -6: AMAZON<br>     -3: MTA<br>      0: INTEREST PAYMENT<br>      0: UBS PENSION SAVINGS<br><br>TOTAL: 3,474",
          "  7,654: TRINET HR CORPORATE <br> -5,310: NATIONAL SERVICE PRO<br> -5,033: FIRSTREPUBLIC>MORTGA<br>  5,033: HOME LOAN PAYMENT<br> -3,712: MORTGAGE INTEREST<br> -1,170: TREE OF LIFE<br>   -350: CAR DEPRECATION<br>   -199: PUBLIX<br>   -114: WRIGHT FLOOD INSURAN<br>    -79: FEE<br>    -28: WHOLE FOODS<br>    -25: ADOBE ACROBAT PRO SU<br>     -7: CVS PHARMCY<br>      4: COINBASE STAKING INC<br><br>TOTAL: -3,337",
          " -2,936: FIRSTREPUBLIC>DISCOV<br>  2,936: CREDIT BALANCE<br>   -283: TARGET<br>    -79: AMAZON<br>    -52: MOONSHOT EXOTIC<br>    -22: PADI DNYC<br>    -17: NETFLIX<br>    -11: CVS PHARMCY<br>     -6: KOPI FELLAS NYC<br>     -3: MTA<br><br>TOTAL: -473",
          "    -42: VINTAGE HARLEM WINE <br>    -38: LINCOLN MARKET(NYC)<br>    -31: ROSA PIZZA HARLEM<br>    -30: DELTA AIR LINES<br>    -25: BOOK CULTURE<br>    -19: HARLEM TAVERN<br>    -16: MINI MART<br>    -12: OMEGA SALAD BAR<br>     -7: CVS PHARMCY<br>     -6: DELI NYC<br>      3: COINBASE STAKING INC<br><br>TOTAL: -223",
          "    -54: UBER<br>    -27: CLASSIC NAIL AND SPA<br>    -23: LGA BUBBYS DINER<br>     19: AMAZON<br>    -16: WHOLE FOODS<br>    -10: FILOMENA BEAN COFFE<br><br>TOTAL: -110",
          "   -438: FIRSTREPUBLIC>CHASE<br>    438: CITI>CHASE CREDIT CA<br>     38: AUTOMATIC STATEMENT <br><br>TOTAL: 38",
          "   -587: GOOGLE STORE<br>   -266: WALMART<br>   -204: FLORIDA POWER AND LI<br>   -115: THAIRAPY SALON<br>    -80: DDC LANDSCAPE<br>    -30: CHEVRON<br>    -25: LADUREE (US)<br>    -11: WRIGHT FLOOD INSURAN<br>      4: COINBASE STAKING INC<br><br>TOTAL: -1,315",
          "   -107: UNIQLO<br>    -34: AVENTURA FINEST<br>    -11: JOE THE JUICE<br><br>TOTAL: -152",
          "   -545: TAG USA GYM<br>   -170: RUTH KACAN (CLEANER)<br>    -15: SPOTIFY<br>     -3: POSTER MY WALL<br><br>TOTAL: -733",
          "   -164: WALMART<br>    -94: TOTAL WINE<br>    -60: AMAZON<br>    -20: AINSLEY RODRIGUEZ (T<br><br>TOTAL: -338",
          "    -63: UBER EATS<br>    -58: SHERWIN WILLIAMS<br>    -37: HOME DEPOT<br>    -11: AMAZON<br><br>TOTAL: -169",
          "   -269: GAP<br>   -194: LOWES<br>   -193: JCREW<br>   -128: SAKS OFF 5TH<br>    -96: ANN TAYLOR<br>    -79: BLOOMINGDALES<br>    -30: CHEVRON<br>    -19: AMAZON<br>    -17: WALMART<br><br>TOTAL: -1,026",
          "   -614: EDISON PREMIUM<br>   -321: AMAZON<br>    -95: JUICE FROM RAW<br>     13: COSTCO<br><br>TOTAL: -1,016",
          " -4,600: NATIONAL SERVICE PRO<br>   -177: SUNRISE UTILITY<br>    -78: TSA PRECHECK<br>    -37: DMV<br>    -31: AMAZON<br>    -15: LOWES<br>      3: COINBASE STAKING INC<br><br>TOTAL: -4,935",
          " 45,303: UBS BONUS<br>  3,500: UBS SALARY<br>    458: UBS PENSION SAVINGS<br>   -180: LOWES<br>    -33: CHEVRON<br>    -25: PEDIATRICS ASSOCIATE<br>    -21: HOME DEPOT<br>    -11: SMALL PDF<br>      6: DIVIDEND<br>     -6: DUNKIN<br><br>TOTAL: 48,992",
          "  3,650: UBS SALARY<br>    309: CHASE CREDIT CARD RE<br>    229: UBS PENSION SAVINGS<br>    -33: CIRCLE K<br>     -6: STARBUCKS<br>      5: COINBASE STAKING INC<br><br>TOTAL: 4,155",
          "   -234: TARGET<br>   -197: TOTAL WINE<br>   -135: CORAL REEF<br>    -35: LOWES<br>     23: DIVIDEND<br>     -6: NAUGHTY COFFEE<br><br>TOTAL: -584",
          "   -190: WAYFAIR<br>    -24: LOWES<br><br>TOTAL: -215",
          "   -256: COSTCO<br>    -36: LINKEDIN SUBSCRIPTIO<br><br>TOTAL: -292",
          "   -155: HOME DEPOT<br>    -16: AMAZON<br>      5: COINBASE STAKING INC<br><br>TOTAL: -167",
          "   -643: CITI>CHASE CREDIT CA<br>    643: FIRSTREPUBLIC>CREDIT<br>   -304: POM MRI CENTRE<br>   -192: MACY<br>   -120: POOL - ANDRES<br>    -33: WHOLE FOODS<br>    -31: AMAZON<br>     15: DIVIDEND<br><br>TOTAL: -666",
          "   -168: DAVIE ADVANCED DENTI<br>    -62: AMAZON<br>      4: COINBASE STAKING INC<br><br>TOTAL: -226",
          "   -400: KOSTIA (CAR RENTAL)<br>   -150: RUTH KACAN (CLEANER)<br>   -102: MELLOW SMOKES<br>     14: WRIGHT FLOOD INSURAN<br><br>TOTAL: -638",
          "   -282: AMERICAN EAGLE<br>   -264: LOFT<br>   -255: JCREW<br>    -90: PUBLIX<br>    -58: CALVIN KLEIN<br>    -40: CHEVRON<br>    -11: AMAZON PRIME<br>     -9: PURE GREEN JUICE BAR<br>     -4: FEDEX<br><br>TOTAL: -1,013",
          "   -138: HOME DEPOT<br>   -131: RUE 57<br>    -99: HAMILTON TICKETS<br>    -84: RODGERS SANDBAR CONC<br>    -38: EVOLVE (FLL)<br>    -30: PUBLIX<br>    -11: DUANE READE<br>     -7: STARBUCKS<br>     -5: UBER<br>      5: COINBASE STAKING INC<br>     -5: HALF MOON<br>     -3: PARK ENTRY<br><br>TOTAL: -546",
          "    -65: CITY STAR HAIR SALON<br>    -50: CLASSY NAILS 38 AND <br>    -45: GOODIES EIGHTH AVE<br>    -28: GIFT SHOP NYC<br>     -9: STARBUCKS<br>     -9: CVS PHARMCY<br>     -6: DUANE READE<br>     -2: GOOGLE PLAY<br><br>TOTAL: -214",
          " 15,000: HOME LOAN PAYMENT<br>-15,000: FIRSTREPUBLIC>CHASE<br>-10,525: CITI>CHASE CREDIT CA<br> 10,525: FIRSTREPUBLIC>CREDIT<br>    -76: MARRIOTT TIME SQUARE<br>    -10: APPLE<br>     -9: MMK FOOD CORP<br>     -7: LE PAIN QUOTIDIEN<br>     -6: GIFT SHOP NYC<br><br>TOTAL: -108",
          " 10,000: CAR LOAN PREPAYMENT<br>  6,600: UBS PENSION SAVINGS<br>    -73: DRYBAR MANHATTAN TOW<br>    -64: FLORIDA NURSERY MART<br>    -12: TAXI<br>    -10: GIFT SHOP NYC<br>     -9: STARBUCKS<br><br>TOTAL: 16,432",
          " 15,375: TRINET HR CORPORATE <br>   -106: SKECHERS<br>    -55: COMCAST<br>      5: COINBASE STAKING INC<br><br>TOTAL: 15,220",
          "  3,650: UBS SALARY<br>    304: UBS PENSION SAVINGS<br>   -147: DAVIE ADVANCED DENTI<br>    -71: PUBLIX<br>    -67: UBER<br>      0: INTEREST PAYMENT<br><br>TOTAL: 3,669",
          "  5,033: HOME LOAN PAYMENT<br> -5,025: FIRSTREPUBLIC>MORTGA<br> -3,707: MORTGAGE INTEREST<br> -1,170: TREE OF LIFE<br>   -350: CAR DEPRECATION<br>   -237: PUBLIX<br>   -210: SCHOOL OF ROCK<br>   -203: AMAZON<br>   -155: AROMA MARKET AND CAT<br>   -114: WRIGHT FLOOD INSURAN<br>    -95: INTEREST PAYMENT<br>    -75: FEE<br>    -40: FIRST CLASS OB GYN<br>     35: UNIQLO<br>    -30: SHELL<br>    -25: ADOBE ACROBAT PRO SU<br>    -24: RAW2O<br>      4: COINBASE STAKING INC<br>     -2: UPS<br><br>TOTAL: -6,392",
          "    242: LOFT<br>   -117: PAPA JOHNS<br>    -52: TAG USA GYM<br>    -17: NETFLIX<br><br>TOTAL: 56",
          "   -207: AIRBNB<br>    -29: SOLIN:CREATOR PRODUC<br><br>TOTAL: -236",
          " -3,285: FIRSTREPUBLIC>DISCOV<br>  3,285: CREDIT BALANCE<br>   -233: SUSPICIOUS<br>    -74: N<br>    -47: COUNTRY ISLES PTA<br>     42: NUTMEG FUND PURCHASE<br>    -16: AMAZON<br>     -8: BONJOUR BAKERY - WES<br>     -0: NUTMEG PENSION SALE<br><br>TOTAL: -335",
          "   -440: CORAL REEF<br>   -438: FIRSTREPUBLIC>CHASE<br>    438: CITI>CHASE CREDIT CA<br>   -201: BEBA BLUE SALON<br>   -153: FLORIDA POWER AND LI<br>    -40: MSMC SURGICAL ONCOLO<br>     34: AUTOMATIC STATEMENT <br>    -18: AMAZON<br>      7: COINBASE STAKING INC<br>     -2: CAR PARKING<br><br>TOTAL: -812",
          "   -366: DAVIE ADVANCED DENTI<br>   -210: APEM<br>    -80: DDC LANDSCAPE<br>    -53: CIRCLE K<br>    -40: VALVE<br>    -32: HOME DEPOT<br>    -29: PUBLIX<br>    -26: PURA VIDA AVENTURA<br>     23: DIVIDEND<br>     -5: BONJOUR BAKERY - WES<br>     -3: DUNKIN<br><br>TOTAL: -821",
          "   -900: NSU UNIVERSITY SCHOO<br>   -150: RUTH KACAN (CLEANER)<br>    -94: HOME DEPOT<br>    -40: VEHICLE TAG RENEWAL<br>    -14: AMAZON<br><br>TOTAL: -1,198",
          "   -945: COSTCO<br>    151: CHASE CREDIT CARD RE<br>    -40: POSNER CLINIC<br>    -35: CHEVRON<br>    -15: SPOTIFY<br>     -8: MMS UOFMIAMI<br>     -8: CAR PARKING<br>      6: COINBASE STAKING INC<br><br>TOTAL: -894",
          "   -213: UNIQLO<br>    -81: AMAZON<br>    -20: AINSLEY RODRIGUEZ (T<br><br>TOTAL: -314",
          "   -363: AIRBNB<br>      7: COINBASE STAKING INC<br><br>TOTAL: -356",
          "   -150: AMAZON<br>    -68: UBER<br>    -45: SUPERCUTS<br><br>TOTAL: -262",
          "   -614: EDISON PREMIUM<br>   -115: SUNRISE UTILITY<br>   -108: AROMA MARKET AND CAT<br>    -44: UBER<br>    -20: TEMU<br>     -6: CAFE BAIT<br><br>TOTAL: -907",
          "   -125: WALMART<br>    -96: DAVIE BUILDING DEPAR<br>    -12: BONJOUR BAKERY - WES<br>      8: DIVIDEND<br>     -7: UBER<br>     -6: PEDIATRICS ASSOCIATE<br>     -3: AMS SERVICE FEE<br>      0: INTEREST PAYMENT<br><br>TOTAL: -240",
          "  2,036: NUTMEG FUND PURCHASE<br> -1,382: NUTMEG PENSION SALE<br>    -59: LOEWS MIAMI BEACH HO<br>    -26: JOE THE JUICE<br>    -12: SMALL PDF<br><br>TOTAL: 557",
          "  3,650: UBS SALARY<br>    917: UBS PENSION SAVINGS<br>   -329: BASTARD KEYBOARD<br>   -156: CVS PHARMCY<br>   -143: TOTAL WINE<br>   -123: WALMART<br>    -15: FIRST CLASS OB GYN<br>      8: NUTMEG: MY ISA<br>      6: COINBASE STAKING INC<br><br>TOTAL: 3,814",
          "    -77: TARGET<br>    -64: WALMART<br>     -6: FEDEX<br>      4: LOFT<br>     -3: PUBLIX<br><br>TOTAL: -146",
          "    -88: AMAZON<br>    -75: SOUTH MIAMI HOSPITAL<br>    -45: DANIEL RINGER KEYCAP<br>    -42: EXXON<br>      6: COINBASE STAKING INC<br><br>TOTAL: -244",
          "    -62: PUBLIX<br>    -36: LINKEDIN SUBSCRIPTIO<br>    -11: CVS PHARMCY<br>     -5: BONJOUR BAKERY - WES<br><br>TOTAL: -113",
          "   -472: MSMC CANCER CENTER<br>   -150: RUTH KACAN (CLEANER)<br>   -120: POOL - ANDRES<br>    -40: MSMC SURGICAL ONCOLO<br>    -27: JOE THE JUICE<br>      7: COINBASE STAKING INC<br><br>TOTAL: -802",
          "   -500: ELITE TRAINING<br>   -250: CITI>CHASE CREDIT CA<br>    250: FIRSTREPUBLIC>CREDIT<br>    -73: ANTHROPOLOGY<br>    -41: AVENTURA FINEST<br>    -32: PINES BUSINESS CENTE<br>    -25: PEDIATRICS ASSOCIATE<br>    -11: NAUGHTY COFFEE<br>     -2: CVS PHARMCY<br>     -1: CHEVRON<br><br>TOTAL: -685",
          "   -105: APEM<br>    -90: TOTAL WINE<br>    -15: AMAZON<br>     -6: LADUREE (US)<br><br>TOTAL: -215",
          "   -101: MAIN STREET CHILDREN<br>    -80: DDC LANDSCAPE<br>     67: CHASE CREDIT CARD RE<br>    -20: YOGA CONNECTION OF D<br>    -15: AMAZON<br><br>TOTAL: -150",
          "   -693: TORY BURCH<br>   -113: WALMART<br>    -38: CHEVRON<br>    -27: AMAZON<br>    -11: AMAZON PRIME<br>      4: COINBASE STAKING INC<br>     -3: PARK ENTRY<br><br>TOTAL: -880",
          "   -132: HARRYS<br>    -99: DAYS INNS<br>    -41: AMOCO<br>    -32: KENNEDY SPACE CENTER<br>    -22: WHETSTONE CHOCOLATES<br>    -17: SPACEFORT (KSC)<br>    -17: CAR PARKING<br><br>TOTAL: -361",
          "-20,471: CITI>CHASE CREDIT CA<br> 20,471: FIRSTREPUBLIC>CREDIT<br>    460: UBS SALARY<br>   -229: WINN DIXIE<br>    -71: PIGGLY WIGGLY<br>    -50: SCHMAGELS BAGELS<br>    -11: CAR PARKING<br>    -10: CLAUDE CHOCOLATE<br>     -9: PROHIBITION KITCHEN <br>      6: COINBASE STAKING INC<br>     -3: FRIENDLY EXPRESS (GA<br>     -2: GOOGLE PLAY<br><br>TOTAL: 80",
          "    -75: TARGET<br>    -64: BROGENS SOUTH (GA)<br>    -18: LIGHTHOUSE (GA)<br>    -10: JEKYLL ISLAND ENTRAN<br>    -10: APPLE<br>     -7: WINN DIXIE<br>     -5: SIMONS SWEET (GA)<br><br>TOTAL: -189",
          "    -85: THE GROVE SAVANNAH<br>    -34: FRIENDLY EXPRESS (GA<br>    -20: CITY MARKET<br>    -10: DOKI DOKI<br>     -7: COLLINS QUARTER (GA)<br>     -5: THE PARIS FLEA MARKE<br><br>TOTAL: -161",
          "  3,650: UBS SALARY<br>    917: UBS PENSION SAVINGS<br>    -55: COMCAST<br>    -26: PUBLIX<br>    -15: FIREPOWER COFFEE<br>    -13: LINCOLN STREE PARKIN<br>      6: COINBASE STAKING INC<br>     -4: SILVER SPRINGS PARK<br>     -2: MOTIVA<br>     -2: ZORBAS ICE CREAM<br><br>TOTAL: 4,456",
          "    -95: HARRYS<br>     89: UNIQLO<br>    -27: COSTCO GAS<br>     -5: COSTCO<br>     -5: AMAZON<br><br>TOTAL: -43",
          "   -399: COSTCO<br>   -124: BRIGHT AND SHINY<br>    -52: SUN PASS<br>     -7: AMAZON<br><br>TOTAL: -583",
          "    -34: PAYPAL<br>    -29: AMAZON<br>      0: INTEREST PAYMENT<br><br>TOTAL: -63",
          "  5,033: HOME LOAN PAYMENT<br> -5,032: FIRSTREPUBLIC>MORTGA<br> -3,702: MORTGAGE INTEREST<br> -1,445: TREE OF LIFE<br> -1,320: AUTONATION TOYOTA<br>   -700: COSTCO<br>   -400: KOSTIA (CAR RENTAL)<br>   -395: CORAL REEF<br>   -350: CAR DEPRECATION<br>   -210: SCHOOL OF ROCK<br>   -114: WRIGHT FLOOD INSURAN<br>    -59: INTEREST PAYMENT<br>    -25: ADOBE<br>     -9: AMAZON<br>     -6: LADUREE (US)<br>      5: COINBASE STAKING INC<br><br>TOTAL: -8,729",
          " -2,915: FIRSTREPUBLIC>DISCOV<br>  2,915: CREDIT BALANCE<br>   -190: WEST ELM<br>   -182: ANTHROPOLOGY<br>    -81: FEE<br>    -49: AMAZON<br>    -43: UBER<br>    -17: NETFLIX<br><br>TOTAL: -562",
          "   -438: FIRSTREPUBLIC>CHASE<br>    438: CITI>CHASE CREDIT CA<br>   -163: FLORIDA POWER AND LI<br>   -103: PUBLIX<br>    -75: SOUTH MIAMI HOSPITAL<br>    -14: AMAZON<br>     -9: STARBUCKS<br>      5: COINBASE STAKING INC<br><br>TOTAL: -360",
          "   -150: RUTH KACAN (CLEANER)<br>    -67: AMAZON<br>    -63: CVS PHARMCY<br><br>TOTAL: -281",
          "   -475: KAPOK HOA<br>   -385: AMAZON<br>   -323: WHITE LOTUS BOUTIQUE<br>   -185: HOME DEPOT<br>   -133: PUBLIX<br>    -80: DDC LANDSCAPE<br>    -43: CIRCLE K<br>     35: AUTOMATIC STATEMENT <br><br>TOTAL: -1,589",
          "   -250: TOTAL WINE<br>   -113: PADRINOS CUBAN<br>    -21: AMAZON<br>     17: HOME DEPOT<br>      5: COINBASE STAKING INC<br><br>TOTAL: -362",
          "     -3: FLAMINGOG<br><br>TOTAL: -3",
          "   -112: PUBLIX<br>    -43: CIRCLE K<br>    -13: NAUGHTY COFFEE<br><br>TOTAL: -168",
          "   -500: GEA TAX CONSULTING<br>     90: GOOGLE STORE<br>    -22: HOME DEPOT<br>    -20: AINSLEY RODRIGUEZ (T<br>    -15: SPOTIFY<br>      6: COINBASE STAKING INC<br><br>TOTAL: -462",
          "   -115: SUNRISE UTILITY<br>    -24: PUBLIX<br>     14: DIVIDEND<br><br>TOTAL: -126",
          "    -94: AMAZON<br>     -5: BONJOUR BAKERY - WES<br><br>TOTAL: -99",
          "   -614: EDISON PREMIUM<br>   -155: WHITE LOTUS BOUTIQUE<br>    -66: VENETIAN NAIL SPA<br>     32: COSTCO<br>    -10: CHEVRON<br>      4: COINBASE STAKING INC<br><br>TOTAL: -807",
          "   -288: AMAZON<br>    -59: PUBLIX<br><br>TOTAL: -347",
          "   -485: CANVASPOP LLC<br>    -11: SMALL PDF<br><br>TOTAL: -497",
          " -4,923: NUTMEG PENSION SALE<br>  4,879: NUTMEG FUND PURCHASE<br>  3,728: UBS SALARY<br>    917: UBS PENSION SAVINGS<br>    -18: AMAZON<br><br>TOTAL: 4,582",
          "   -213: AMAZON<br>    -69: BASTARD KEYBOARD<br>    -32: CIRCLE K<br>     -6: NAUGHTY COFFEE<br>      5: COINBASE STAKING INC<br><br>TOTAL: -315",
          "   -120: POOL - ANDRES<br>    -86: AMAZON<br>     -6: NAUGHTY COFFEE<br><br>TOTAL: -212",
          "   -171: PUBLIX<br>   -150: RUTH KACAN (CLEANER)<br>   -137: JCREW<br>    -36: LINKEDIN SUBSCRIPTIO<br>    -25: JOE THE JUICE<br><br>TOTAL: -519",
          "   -166: ISABEL BOUTIQUE<br>   -122: AROMA MARKET AND CAT<br>   -102: VENETIAN NAIL SPA<br>    -80: DDC LANDSCAPE<br>    -48: WHOLE FOODS<br>     -5: CAFE BAIT<br>      5: COINBASE STAKING INC<br><br>TOTAL: -519",
          "    -67: BONJOUR BAKERY - WES<br>    -59: AMAZON<br><br>TOTAL: -126",
          "   -287: TARGET<br>   -198: FLOOR AND DECOR<br>      5: COINBASE STAKING INC<br><br>TOTAL: -481",
          " -1,468: CITI>CHASE CREDIT CA<br>  1,468: FIRSTREPUBLIC>CREDIT<br>   -485: COSTCO<br>    -43: HOME DEPOT<br>    -34: CIRCLE K<br>     -6: NAUGHTY COFFEE<br>     -6: LADUREE (US)<br><br>TOTAL: -574",
          "   -160: SEPHORA<br>    -91: ALIPAYUSINC - LAMP<br>    -85: JIFFY LUBE<br>    -77: CLASSIC NAIL AND SPA<br>    -66: CVS PHARMCY<br>    -18: AMAZON<br>    -11: AMAZON PRIME<br>    -11: HOME DEPOT<br><br>TOTAL: -519",
          " -8,973: CITI>CHASE CREDIT CA<br>  8,973: FIRSTREPUBLIC>CREDIT<br>     -9: DUNKIN<br><br>TOTAL: -9",
          "   -153: AMAZON<br>    -12: LADUREE (US)<br>     -9: CAR PARKING<br>     -2: GOOGLE STORAGE<br><br>TOTAL: -176",
          "   -567: CORAL REEF<br>    -83: TOTAL WINE<br>    -80: PUBLIX<br>    -62: BOMBSHELL DRY BAR<br>    -10: APPLE<br>      5: COINBASE STAKING INC<br><br>TOTAL: -797",
          "   -337: HOME DEPOT<br>   -174: HOBBY LOBBY<br>    -98: MINT MOBILE<br>     95: FLOOR AND DECOR<br>    -55: MISSION BBQ<br>     32: AMAZON<br>      4: COINBASE STAKING INC<br><br>TOTAL: -533",
          "   -274: SPANX<br>    -28: FLL AIRPORT<br>     -8: NEWS AND GIFTS<br><br>TOTAL: -310",
          "   -120: ATM<br>   -100: CROMWELL GIADAS<br>    -55: COMCAST<br>    -44: CIRCLE K<br>    -42: UBER<br>    -19: BRIOCHE BY GUY SAVOY<br>     -3: ATM SURCHARGE<br><br>TOTAL: -383",
          "  9,603: FIRST_REPUBLIC>CHASE<br>  4,361: UBS SALARY<br>    917: UBS PENSION SAVINGS<br>   -286: JET BLUE<br>   -193: FORUM SHOPS AT CAESA<br>    -30: MICHAEL HORNBURG<br>    -17: AMAZON<br>      4: COINBASE STAKING INC<br>      3: ATM FEE<br>      0: INTEREST PAYMENT<br><br>TOTAL: 14,363",
          "  5,033: HOME LOAN PAYMENT<br> -5,032: CHASE_CHECKING>MORTG<br> -3,698: MORTGAGE INTEREST<br> -1,170: TREE OF LIFE<br>   -400: KAPOK HOA<br>   -395: CORAL REEF<br>   -350: CAR DEPRECATION<br>   -210: SCHOOL OF ROCK<br>   -114: WRIGHT FLOOD INSURAN<br>    -78: FEE<br>    -55: INTEREST PAYMENT<br>    -28: PUBLIX<br>     -0: GOOGLE STORAGE<br><br>TOTAL: -6,497",
          " -9,581: MARCUS>CHASE_AUTO<br>  9,581: CITI>CHASE CREDIT CA<br> -3,000: MARCUS>FIRST<br>  3,000: MARCUS>CHASE_CHECKIN<br> -2,880: CHASE_CHECKING>DISCO<br>  2,880: CREDIT BALANCE<br>   -150: RUTH KACAN (CLEANER)<br>     96: FORUM SHOPS AT CAESA<br>    -52: CAESARS 800 RESTAURA<br>    -27: TIJUANA FLATS BURRIT<br>    -17: NETFLIX<br>    -15: NOSH DELI<br>     -6: HUDSON NEWS<br><br>TOTAL: -171",
          "   -438: CHASE_CHECKING>CHASE<br>    438: CITI>CHASE CREDIT CA<br>   -150: JET BLUE<br>   -120: COSTCO FEE<br>    -80: DDC LANDSCAPE<br>    -75: AMAZON<br>    -57: SUGAR FACTORY<br>      5: COINBASE STAKING INC<br><br>TOTAL: -478",
          "   -486: COSTCO<br>    300: GEA TAX CONSULTING<br>   -118: AMAZON<br>    -47: UBER<br>     -4: CHEVRON<br><br>TOTAL: -355",
          "   -149: LOWES<br>    -90: TARGET<br><br>TOTAL: -238",
          "   -175: APEM<br>   -118: AMAZON<br>    -36: HEWLETT LACROSSE PAR<br>     19: AUTOMATIC STATEMENT <br>      4: COINBASE STAKING INC<br><br>TOTAL: -306",
          "   -400: KOSTIA (CAR RENTAL)<br>    -84: CVS PHARMCY<br>    -27: AMAZON<br>    -22: CHEVRON<br>    -16: WALGREENS<br>    -13: SNACK AN BANH JAPANE<br>     -7: WALMART<br><br>TOTAL: -569",
          "   -178: ELECTRICITY BILL (FP<br>    -37: CIRCLE K<br>    -16: AMAZON<br>     -5: WALMART<br><br>TOTAL: -237",
          "   -212: SUNRISE UTILITY<br>    -51: PUBLIX<br>    -31: AMAZON<br>    -20: AINSLEY RODRIGUEZ (T<br>    -15: SPOTIFY<br>     -2: FEDEX OFFICE<br><br>TOTAL: -331",
          "    -89: WHITE LOTUS BOUTIQUE<br>    -37: EXXON<br>    -32: PUBLIX<br>    -16: INTEREST PAYMENT<br>      4: COINBASE STAKING INC<br><br>TOTAL: -170",
          "   -262: SEATGEEK<br>   -146: TARGET<br>    -70: IKEA<br>    -34: ETSY<br>    -31: CAR PARKING<br><br>TOTAL: -541",
          "   -614: EDISON PREMIUM<br>   -517: COSTCO<br><br>TOTAL: -1,131",
          "   -300: ELITE TRAINING<br>      5: COINBASE STAKING INC<br><br>TOTAL: -295",
          "",
          " -6,000: MARCUS>FIRST<br>  6,000: MARCUS>CHASE_CHECKIN<br>  4,361: UBS SALARY<br>    667: UBS PENSION SAVINGS<br>   -400: KOSTIA (CAR RENTAL)<br>    -29: WALGREENS<br><br>TOTAL: 4,599",
          "   -871: TOMMY BAHAMA<br>   -150: RUTH KACAN (CLEANER)<br>   -134: ANTHROPOLOGY<br>    -21: HOME DEPOT<br><br>TOTAL: -1,177",
          "    -71: WHOLE FOODS<br>    -38: FLAMINGOG<br>     13: DIVIDEND<br><br>TOTAL: -97",
          "   -148: ANTHROPOLOGY<br>    -36: LINKEDIN SUBSCRIPTIO<br><br>TOTAL: -184",
          "    -43: CLAIRE'S<br>    -37: UBER<br>    -36: JAY EXOTICS<br>    -35: FIVE BELOW<br>    -28: KEY FOOD (LIC)<br>    -24: SAWGRASS MILLS<br>    -16: TRIPADVISOR<br>     -5: UBER EATS<br>     -3: MTA<br><br>TOTAL: -226",
          " -4,458: CHASE_CHECKING>CHASE<br>  4,458: FIRSTREPUBLIC>CREDIT<br>   -120: POOL - ANDRES<br>   -100: ATM<br>    -42: POWERHOUSE AT IC - B<br>    -37: UBER EATS<br>    -19: RAMEN SETAGAYA - BRK<br>    -15: UNIQLO<br>    -12: DUANE READE<br>    -10: BIG ALICE BREWING - <br>     -8: USPS<br>     -3: MTA<br>     -2: UBS CAFETERIA<br><br>TOTAL: -368",
          "    760: TOMMY BAHAMA<br>   -509: MACY'S<br>   -293: ABERCROMBIE AND FITC<br>   -201: REVOLVE<br>   -128: DESIGNERS JEWELRY CO<br>   -109: WALGREENS<br>    -80: DDC LANDSCAPE<br>    -60: NORDSTORM<br>    -34: GREG NORMAN<br>     20: CHASE_PRO>CHASE_CHEC<br>    -19: SWEETGREEN  - NYC<br>    -14: FIELDTRIP (NYC)<br>      5: COINBASE STAKING INC<br>     -5: KEY FOOD (LIC)<br>     -3: UBS CAFETERIA<br>     -3: MTA<br><br>TOTAL: -674",
          "   -210: WALMART<br>     40: POSNER CLINIC<br>    -35: UBER EATS<br>    -17: PITA YEERO NYC<br>    -14: TARGET<br>    -14: KEY FOOD (LIC)<br>     -6: AMAZON<br>     -5: UBS CAFETERIA<br>     -4: CHEVRON<br>     -4: USPS<br>     -3: MTA<br><br>TOTAL: -272",
          "   -870: AROMAS MEDSPA AT DOR<br>   -105: VICTORIA SECRET<br>    -92: UNIQLO<br>    -88: LULULEMON<br>    -30: AMAZON<br>    -11: AMAZON PRIME<br>    -11: LEGO<br>     -8: GONG CHA - NYC<br>     -7: BORO MARKET - BROOKL<br>     -7: HOPS HILL - BRKLN<br>     -5: FEDEX OFFICE<br>      4: COINBASE STAKING INC<br>     -3: UBS CAFETERIA<br>     -3: MTA<br><br>TOTAL: -1,235",
          " -5,930: CHASE_CHECKING>CHASE<br>  5,930: FIRSTREPUBLIC>CREDIT<br>   -150: MACY'S<br>    -52: MOONSHOT EXOTIC<br>    -50: AMAZON<br>    -22: LINCOLN MARKET(NYC)<br>    -18: LITTLE BEET (NYC)<br>    -17: PUBLIX<br>    -10: ANGEL NAIL SPA<br>     -7: BORO MARKET - BROOKL<br>     -3: UBS CAFETERIA<br>     -1: FEDEX OFFICE<br><br>TOTAL: -330",
          "   -101: ABERCROMBIE AND FITC<br>    -54: ECLAIR AFFAIRE<br>    -21: FLYING SQUIRREL WEST<br>    -19: WALGREENS<br>    -17: BAGEL PUB - BROOKLYN<br>    -16: MESS HALL - NYC<br>    -15: UBER<br>    -14: NAYA EXPRESS - NYC<br>    -10: JAY EXOTICS<br>      7: COINBASE STAKING INC<br>     -5: SUNSET MARKET - BROO<br>     -2: GOOGLE STORAGE<br><br>TOTAL: -268",
          "    -66: UBER<br>    -57: UBER EATS<br>    -18: DOS TOROS - FLUSHING<br>    -10: OVERGREENS - BROOKLY<br>      5: COINBASE STAKING INC<br><br>TOTAL: -147",
          "    -50: WALMART<br><br>TOTAL: -50",
          "  7,000: CHASE_PRO>CHASE_CHEC<br>   -150: RUTH KACAN (CLEANER)<br>    -55: COMCAST<br>    -10: APPLE<br><br>TOTAL: 6,785",
          "   -138: FETISH FACTORY<br>    -37: CHEVRON<br>    -31: AMAZON<br>    -16: PUBLIX<br>     -6: UPS<br>      5: COINBASE STAKING INC<br>     -3: BURGER KING<br><br>TOTAL: -227",
          "  6,911: NUTMEG FUND PURCHASE<br> -4,395: NUTMEG PENSION SALE<br>   -412: COSTCO<br>    164: ABERCROMBIE AND FITC<br>     95: REVOLVE<br>    -42: PUBLIX<br>    -24: AMAZON<br>    -10: BONJOUR BAKERY - WES<br>     -8: UPS<br>     -2: GOOGLE STORAGE<br><br>TOTAL: 2,278",
          "  6,323: UBS SALARY<br>    917: UBS PENSION SAVINGS<br>    269: INTEREST PAYMENT<br>   -154: TARGET<br>   -111: TOTAL WINE<br>    -52: SCHOOL OF ROCK<br>    -11: AMAZON<br><br>TOTAL: 7,180",
          "  4,016: HOME LOAN PAYMENT<br> -1,846: MORTGAGE INTEREST<br>   -350: CAR DEPRECATION<br>   -252: HOME DEPOT<br>    -99: CORAL REEF<br>    -95: CHASE CREDIT CARD FE<br>    -57: WRIGHT FLOOD INSURAN<br>     33: AMAZON<br><br>TOTAL: 1,351",
          "     86: LOWES<br>    -43: WINN DIXIE<br>    -17: NETFLIX<br><br>TOTAL: 25",
          " -4,016: CHASE_CHECKING>MORTG<br> -1,656: CHASE_CHECKING>DISCO<br>  1,656: CREDIT BALANCE<br> -1,445: TREE OF LIFE<br>   -250: JOHNSTON SURVEYOR<br>    -84: FEE<br>    -82: BONJOUR BAKERY - WES<br>     62: SOFIA GIAQUINTA<br>    -48: HOME DEPOT<br>    -37: AMAZON<br>    -27: WINN DIXIE<br>    -17: PUBLIX<br>     -0: FEDEX OFFICE<br><br>TOTAL: -5,944",
          "   -244: ELECTRICITY BILL (FP<br>   -177: PEDIATRICS ASSOCIATE<br>    -44: APPLE<br>    -32: AMAZON<br>    -23: SUPERCUTS<br><br>TOTAL: -519",
          "    -39: AMERICA HAIR STYLE<br>    -34: UBER<br>     28: AUTOMATIC STATEMENT <br><br>TOTAL: -45",
          "    -97: UBER<br>     61: ABERCROMBIE AND FITC<br>    -54: CHEVRON<br><br>TOTAL: -90",
          "    255: MACY'S<br>    -75: PUBLIX<br>    -54: UBER<br>    -47: WALGREENS<br>    -15: BONJOUR BAKERY - WES<br>     11: AMAZON<br>     -7: CVS PHARMCY<br>     -5: MCDONALDS<br><br>TOTAL: 63",
          "    -68: BONJOUR BAKERY - WES<br>    -29: AMAZON<br>    -15: LOWES<br><br>TOTAL: -113",
          "    -48: AMAZON<br>    -38: LOWES<br>    -20: AINSLEY RODRIGUEZ (T<br>    -15: SPOTIFY<br>      6: COINBASE STAKING INC<br>     -3: PARK ENTRY<br><br>TOTAL: -119",
          "   -193: COSTCO<br>   -140: APEM<br>    -16: AMAZON<br>     -6: BONJOUR BAKERY - WES<br><br>TOTAL: -355",
          "    -62: SUPERCUTS<br>    -39: PUBLIX<br>     -6: BONJOUR BAKERY - WES<br><br>TOTAL: -106",
          "   -614: EDISON PREMIUM<br>    -76: UBER<br>    -49: LOEWS MIAMI BEACH HO<br>    -12: MAMA LEONE BAKERY<br>      6: COINBASE STAKING INC<br><br>TOTAL: -745",
          "   -300: ELITE TRAINING<br>   -210: RUTH KACAN (CLEANER)<br>   -100: DDC LANDSCAPE<br>    -86: AROMAS MEDSPA AT DOR<br>    -67: AMY HALLMARK SHOP<br>    -53: AMAZON<br>     -6: MACY'S<br><br>TOTAL: -822",
          "  6,258: UBS SALARY<br>   -359: LEGOLAND<br>   -112: COSTCO<br>   -103: SUPERCUTS<br>    -30: SUNRISE UTILITY<br>    -11: AMAZON<br>     -7: EINSTEIN BROS BAGEL<br>      6: COINBASE STAKING INC<br>      0: INTEREST PAYMENT<br><br>TOTAL: 5,643",
          "  4,016: HOME LOAN PAYMENT<br> -1,846: MORTGAGE INTEREST<br>    -57: WRIGHT FLOOD INSURAN<br>    -29: LEGOLAND<br>    -17: AMAZON<br><br>TOTAL: 2,067",
          "    -53: BONJOUR BAKERY - WES<br>    -32: AMAZON<br>    -19: HOME DEPOT<br><br>TOTAL: -104",
          " -4,016: CHASE_CHECKING>MORTG<br>   -400: KOSTIA (CAR RENTAL)<br>   -165: POOL - ANDRES<br>   -155: ANTHROPOLOGY<br>    -80: DDC LANDSCAPE<br>    -40: CIRCLE K<br>    -39: AMAZON<br>    -38: EBAY<br>      6: COINBASE STAKING INC<br><br>TOTAL: -4,927",
          "   -327: DELTA AIR LINES<br>    323: CASHBACK REDEMPTION<br>   -125: TORY BURCH<br>    -72: WALMART<br>    -36: LINKEDIN SUBSCRIPTIO<br>    -27: AMAZON<br>    -20: POOL - ANDRES<br>      5: COINBASE STAKING INC<br><br>TOTAL: -279",
          "    -93: TARGET<br>     57: EBAY<br>    -57: PARIS BANH MI<br>    -45: HOME DEPOT<br>    -35: AMAZON<br>     -5: CAR PARKING<br>     -2: UPS<br><br>TOTAL: -179",
          "  7,000: CHASE_PRO>CHASE_CHEC<br> -4,462: CHASE_CHECKING>CHASE<br>  4,462: FIRSTREPUBLIC>CREDIT<br>   -107: AMAZON<br><br>TOTAL: 6,893",
          "   -265: PUBLIX<br>   -155: TOTAL WINE<br>    -80: MACY'S<br>    -20: OPENAI CHATGPT SUBSC<br>     -5: BONJOUR BAKERY - WES<br><br>TOTAL: -524",
          "    -76: ZURU RAMEN<br>    -28: AMAZON<br>    -19: WALMART<br>      6: COINBASE STAKING INC<br>     -4: UPS<br><br>TOTAL: -122",
          "    -37: WALMART<br>    -23: SUNOCO<br>    -11: AMAZON PRIME<br>      5: COINBASE STAKING INC<br><br>TOTAL: -66",
          " -6,221: CHASE_CHECKING>CHASE<br>  6,221: FIRSTREPUBLIC>CREDIT<br>    -83: VENETIAN NAIL SPA<br>    -48: PUNCHBOWL.COM<br>     -6: LITTLE HEN - WESTON<br><br>TOTAL: -137",
          "  3,500: CHASE_PRO>CHASE_CHEC<br>   -289: CVS PHARMCY<br>   -150: RUTH KACAN (CLEANER)<br>    -78: BOMBSHELL DRY BAR<br>    -75: EBAY<br>    -56: UBER<br>    -44: NEWS CONNECTIO<br>    -26: PUBLIX<br>    -10: AMAZON<br>     -2: GOOGLE STORAGE<br><br>TOTAL: 2,771",
          "   -140: AMAZON PRIME<br>    -55: EBAY<br>    -10: APPLE<br><br>TOTAL: -205",
          "    -98: MEDYCYNA DAB<br>    -55: COMCAST<br>    -26: AMAZON<br>    -10: ORIGAMY<br><br>TOTAL: -188",
          "  6,258: UBS SALARY<br>    156: DIVIDEND<br>      4: COINBASE STAKING INC<br><br>TOTAL: 6,419",
          "     27: EBAY<br>    -15: AMAZON<br>     -2: FLAMINGOG<br><br>TOTAL: 10",
          "    244: INTEREST PAYMENT<br>    -52: EBAY<br>    -28: WALMART<br>      5: COINBASE STAKING INC<br>     -2: GOOGLE STORAGE<br><br>TOTAL: 167",
          "  4,016: HOME LOAN PAYMENT<br> -4,016: CHASE_CHECKING>MORTG<br> -1,844: MORTGAGE INTEREST<br> -1,170: TREE OF LIFE<br>   -350: CAR DEPRECATION<br>    -80: FEE<br>    -57: WRIGHT FLOOD INSURAN<br><br>TOTAL: -3,501",
          " -2,260: CHASE_CHECKING>DISCO<br>  2,260: CREDIT BALANCE<br>    -17: NETFLIX<br><br>TOTAL: -17",
          "   -594: COSTCO<br>   -278: CRITICARE CLINICS IN<br>   -266: BROWARD HEALTH MEDIC<br>   -201: MINT MOBILE<br>    -80: DDC LANDSCAPE<br>    -75: SOUTH MIAMI HOSPITAL<br>    -47: PATHOLOGY ASSOCIATES<br>    -34: TOTAL WINE<br><br>TOTAL: -1,575",
          "    -22: WALMART<br>      5: COINBASE STAKING INC<br><br>TOTAL: -17",
          "    -28: AMAZON<br>     14: AUTOMATIC STATEMENT <br>     -9: FLAMINGOG<br>     -4: CHEVRON<br>      4: COINBASE STAKING INC<br><br>TOTAL: -24",
          "    -73: PUBLIX<br>    -40: BONJOUR BAKERY - WES<br><br>TOTAL: -113",
          "    -25: MEMORIAL HEALTHCARE <br>     -3: PARK ENTRY<br><br>TOTAL: -28",
          "  3,464: IRS TAX RETURN<br>   -280: ELECTRICITY BILL (FP<br>     31: UBER<br>    -30: KEY FOOD (LIC)<br>    -11: CARVEL<br>      8: UNKNOWN<br>     -5: UBS CAFETERIA<br>      4: COINBASE STAKING INC<br>     -3: MTA<br><br>TOTAL: 3,180",
          "-21,119: NUTMEG PENSION SALE<br> 16,621: NUTMEG FUND PURCHASE<br>   -500: DDC LANDSCAPE<br>    -44: GRUBHUB SUSURU RAMEN<br>    -29: BARNES & NOBLE<br>    -21: SWEETGREEN  - NYC<br>    -20: AINSLEY RODRIGUEZ (T<br>    -17: SPOTIFY<br>    -16: FOOD BAZAAR (LIC)<br>    -10: CVS PHARMCY<br>     -5: UBS CAFETERIA<br>     -3: MTA<br><br>TOTAL: -5,163",
          "    -46: WALMART<br>     -3: MTA<br><br>TOTAL: -49",
          "   -150: RUTH KACAN (CLEANER)<br>    -82: NOMADAYS<br>    -62: BROADWAY MINI MART A<br>    -60: ANTHONY PIZZA<br>    -33: GRUBHUB<br>    -16: JUST SALAD<br>    -15: LOCKWOOD PAPER ASTOR<br>    -11: KEY FOOD (LIC)<br>     -9: COCO-ASTORIA STORE<br>      5: COINBASE STAKING INC<br>     -5: UBS CAFETERIA<br>     -3: MTA<br>     -2: DUANE READE<br><br>TOTAL: -444",
          "   -614: EDISON PREMIUM<br>   -125: TREE OF LIFE<br>    -82: WALMART<br>    -40: GRUBHUB BROOKLYN DIM<br>    -22: BARCADE NYC<br>    -12: LUNETTA PIZZA RESTAU<br>     -5: GIFT SHOP NYC<br>     -4: UBS CAFETERIA<br>     -3: CVS PHARMCY<br>     -3: MTA<br>     -2: VENDING MACHINE<br><br>TOTAL: -911",
          "    -85: 8TH STREET WINECELLA<br>    -53: BUZZFEED LGA<br>    -50: SHUTERFLY<br>    -48: UBER<br>    -19: WALMART<br>    -15: CLUB GROOVE<br>    -15: THE MALT HOUSE<br><br>TOTAL: -286",
          "   -248: TARGET<br>      4: COINBASE STAKING INC<br><br>TOTAL: -244",
          "  6,258: UBS SALARY<br>  4,016: HOME LOAN PAYMENT<br> -4,016: CHASE_CHECKING>MORTG<br> -1,844: MORTGAGE INTEREST<br>   -400: KOSTIA (CAR RENTAL)<br>   -127: SUNRISE UTILITY<br>    -78: JACOBS GARAGE<br>    -57: WRIGHT FLOOD INSURAN<br>    -49: COUNTRY ISLES PTA<br>    -11: AMAZON<br>     -6: STARBUCKS<br><br>TOTAL: 3,687",
          "",
          "   -189: HAIR VENTURE HAIR SA<br>   -120: POOL - ANDRES<br>   -110: QUEST DIAGNOSTICS<br>    -80: DDC LANDSCAPE<br>    -37: VENETIAN NAIL SPA<br>    -24: PUBLIX<br>    -19: AMAZON<br>     -2: MTA PAY&GO<br><br>TOTAL: -581",
          "   -257: COSTCO<br>    -75: RUTH KACAN (CLEANER)<br>    -36: LINKEDIN SUBSCRIPTIO<br>    -17: BONJOUR BAKERY - WES<br><br>TOTAL: -385",
          "  1,500: CHASE_PRO>CHASE_CHEC<br>    -21: HOME DEPOT<br>    -14: BARNES & NOBLE<br>     -5: BONJOUR BAKERY - WES<br><br>TOTAL: 1,459",
          "   -106: TARGET<br><br>TOTAL: -106",
          "   -102: LONGHORN STEAKHOUSE<br>    -44: EXXON<br>    -20: OPENAI CHATGPT SUBSC<br>    -10: STARBUCKS<br>     -8: SUN PASS<br>      5: COINBASE STAKING INC<br><br>TOTAL: -179",
          " -3,466: GOV TAX<br>  2,500: CHASE_PRO>CHASE_CHEC<br> -1,450: CHASE_CHECKING>CHASE<br>  1,450: FIRSTREPUBLIC>CREDIT<br>   -200: MACY'S<br>   -106: WALMART<br>     78: CASHBACK REDEMPTION<br>    -25: SHELL<br>    -14: SOUTHERN CREAMERY CO<br>    -14: STARBUCKS<br>     -6: COURTYARD BY MARRIOT<br>     -3: SOUTHERN CREAMERY FA<br><br>TOTAL: -1,257",
          "   -295: WALMART<br>    -15: CAR PARKING<br>    -12: AMAZON PRIME<br><br>TOTAL: -322",
          " -6,886: CHASE_CHECKING>CHASE<br>  6,886: FIRSTREPUBLIC>CREDIT<br>    -21: SMOKY MOUNTAIN CATHO<br>    -20: SHELL<br>    -18: SAVANNAH BEE COMPANY<br>    -14: LUCKY BREWS LLC<br>     -9: OLD MILL CREAMERY<br>      6: COINBASE STAKING INC<br><br>TOTAL: -77",
          "    -29: TUCKALEECHEE CAVERNS<br>    -27: IGA<br>    -10: THE CHOCOLATE BAR OF<br>     -8: THE ABBEY AT THE HEA<br>     -2: GOOGLE STORAGE<br><br>TOTAL: -77",
          "    -98: MINT MOBILE<br>    -42: IGA<br>    -28: THE ABBEY AT THE HEA<br>    -10: APPLE<br>      5: COINBASE STAKING INC<br><br>TOTAL: -174",
          "    -91: RIVER RAT - TN<br>    -60: THE ABBEY AT THE HEA<br>    -15: THE CHOCOLATE BAR OF<br>     -5: IGA<br><br>TOTAL: -171",
          "    -23: CHEVRON<br>    -23: MAPCO EXPRESS<br>    -18: STARBUCKS<br>    -16: FOOD CITY<br><br>TOTAL: -81",
          "    -55: COMCAST<br>    -39: CIRCLE K<br>    -20: WINN DIXIE<br>    -17: STARBUCKS<br>      4: COINBASE STAKING INC<br><br>TOTAL: -128",
          "  8,637: CHASE_PRO>CHASE_CHEC<br>    550: IRS TAX RETURN<br>   -138: ISLAND TIME BAR AND <br>    -39: TARGET<br>    -25: NETFLIX<br>      5: COINBASE STAKING INC<br>     -2: GOOGLE STORAGE<br><br>TOTAL: 8,987",
          " -8,637: EDISON SETUP<br>  6,232: UBS SALARY<br> -1,517: PROGRESSIVE INSURANC<br>   -405: CORAL REEF<br>   -304: BJ WHOLESALE<br>    215: INTEREST PAYMENT<br>    -37: BONJOUR BAKERY - WES<br>    -26: PUBLIX<br>     14: REFERRAL PROMOTION<br><br>TOTAL: -4,466",
          " -3,959: CHASE_CHECKING>MORTG<br>  3,959: HOME LOAN PAYMENT<br>  3,185: NUTMEG FUND PURCHASE<br> -1,841: MORTGAGE INTEREST<br> -1,342: NUTMEG PENSION SALE<br> -1,112: TREE OF LIFE<br>   -400: KAPOK HOA<br>   -350: MIKE (EBAY)<br>   -350: CAR DEPRECATION<br>    -85: FEE<br>      3: COINBASE STAKING INC<br><br>TOTAL: -2,292",
          " -1,148: CHASE_CHECKING>DISCO<br>  1,148: CREDIT BALANCE<br>    -80: DDC LANDSCAPE<br>    -30: CIRCLE K<br>    -27: SHERWIN WILLIAMS<br>    -23: HOME DEPOT<br><br>TOTAL: -161",
          "   -275: PEDIATRICS ASSOCIATE<br>   -121: IKEA<br>    -75: SOUTH MIAMI HOSPITAL<br>    -15: TARGET<br>    -13: STARBUCKS<br><br>TOTAL: -499",
          "    -89: WALMART<br>    -54: GROUPON INC.<br>      3: COINBASE STAKING INC<br>     -3: PARK ENTRY<br><br>TOTAL: -143",
          "    -68: CORAL REEF<br>     25: AUTOMATIC STATEMENT <br><br>TOTAL: -43",
          "   -281: ELECTRICITY BILL (FP<br>   -150: RUTH KACAN (CLEANER)<br>    -79: ETSY<br>    -19: AMAZON<br>    -10: PUBLIX<br>     -2: RESUME.COM<br><br>TOTAL: -540",
          "   -187: CASABLANCA CAFE<br>    -25: AMAZON<br>    -25: MEMORIAL HEALTHCARE <br>    -12: BONJOUR BAKERY - WES<br>      3: COINBASE STAKING INC<br>     -2: SIMPLE PDF CONVERTER<br><br>TOTAL: -247",
          "",
          "   -459: COSTCO<br>    -59: CORAL REEF<br>    -36: CHEVRON<br>    -30: HAIR VENTURE HAIR SA<br>    -20: AINSLEY RODRIGUEZ (T<br>    -17: SPOTIFY<br>    -10: JESSICA (ZELLE)<br><br>TOTAL: -631",
          "   -186: HOME DEPOT<br>      4: COINBASE STAKING INC<br><br>TOTAL: -182",
          "",
          "   -720: EDISON PREMIUM<br>   -115: SUNRISE UTILITY<br>    -37: FIRST CLASS OB GYN<br>    -24: CHILL-N ICE CREAM<br>      3: COINBASE STAKING INC<br><br>TOTAL: -893",
          "",
          "    -57: CILANTRO ASIAN<br>    -40: HAIR VENTURE HAIR SA<br>      3: COINBASE STAKING INC<br><br>TOTAL: -95",
          "  6,245: UBS SALARY<br> -3,959: CHASE_CHECKING>MORTG<br>  3,959: HOME LOAN PAYMENT<br> -1,841: MORTGAGE INTEREST<br>   -400: KOSTIA (CAR RENTAL)<br>   -350: COSTCO<br>    -16: BONJOUR BAKERY - WES<br><br>TOTAL: 3,637",
          "    -59: HAIR VENTURE HAIR SA<br>    -47: TRADER JOE'S<br>    -35: THE BOCA RATON RESOR<br>    -35: TOTAL WINE<br>    -19: CHEVRON<br>    -16: AMAZON<br>     -5: BONJOUR BAKERY - WES<br><br>TOTAL: -216",
          "   -110: QUEST DIAGNOSTICS<br>    -20: WALMART<br><br>TOTAL: -130",
          "    -98: OUTBACK<br>    -76: HOME DEPOT<br>    -43: TARGET<br>    -40: EBAY<br>    -36: LINKEDIN SUBSCRIPTIO<br>    -27: AMAZON<br>     -9: PRIMARK<br><br>TOTAL: -329",
          "   -120: POOL - ANDRES<br>    -80: DDC LANDSCAPE<br>    -29: AMAZON<br>    -12: CAR PARKING<br>      3: COINBASE STAKING INC<br><br>TOTAL: -238",
          " -2,490: CHASE_CHECKING>CHASE<br>  2,490: FIRSTREPUBLIC>CREDIT<br>    -19: AMAZON<br>     10: HOME DEPOT<br><br>TOTAL: -9",
          "   -885: EXPEDIA<br>   -150: MACY'S<br>    -50: CAMILO<br>    -36: HOME DEPOT<br>    -20: OPENAI CHATGPT SUBSC<br>      3: COINBASE STAKING INC<br><br>TOTAL: -1,137",
          "   -257: COSTCO<br>   -150: RUTH KACAN (CLEANER)<br>   -123: TRADER JOE'S<br>    -24: MICHAELS<br>    -16: WHOLE FOODS<br>     -5: BONJOUR BAKERY - WES<br><br>TOTAL: -576",
          "   -219: AMAZON<br>    -35: APEM<br>    -28: HOME DEPOT<br>    -28: CHILL-N ICE CREAM<br>      3: COINBASE STAKING INC<br><br>TOTAL: -307",
          "    -86: TOTAL WINE<br>    -84: WALMART<br>    -38: SUNOCO<br>    -36: MOUSER<br>    -32: FLORIDA NURSERY MART<br><br>TOTAL: -277",
          "   -717: NEWEGG<br>     -2: GOOGLE STORAGE<br><br>TOTAL: -719",
          " -2,619: CHASE_CHECKING>CHASE<br>  2,619: FIRSTREPUBLIC>CREDIT<br>    -90: CORAL REEF<br>    -12: BONJOUR BAKERY - WES<br>    -10: APPLE<br><br>TOTAL: -112",
          "    -85: PAM LALOI<br>    -55: COMCAST<br>    -36: PUBLIX<br>    -30: YOGA FACTORY AND FIT<br>    -25: KIM LE<br>     -4: FEDEX OFFICE<br>      3: COINBASE STAKING INC<br><br>TOTAL: -232",
          "   -128: HOME DEPOT<br><br>TOTAL: -128",
          "   -609: AIR FRANCE<br>   -482: FLY NORSE<br>    -70: JESSICA (ZELLE)<br>     56: HOME DEPOT<br>    -17: PUBLIX<br>    -13: BONJOUR BAKERY - WES<br>    -11: AMAZON<br><br>TOTAL: -1,146",
          "  6,245: UBS SALARY<br>    223: INTEREST PAYMENT<br>    -35: JET BLUE<br>    -34: AMAZON<br>    -25: NETFLIX<br><br>TOTAL: 6,374",
          "   -471: BJ WHOLESALE<br>    -82: WALMART<br>    -28: HOME DEPOT<br>    -14: LOWES<br>     -2: GOOGLE STORAGE<br><br>TOTAL: -597",
          "  3,959: HOME LOAN PAYMENT<br> -1,839: MORTGAGE INTEREST<br>   -350: CAR DEPRECATION<br>    -22: PUBLIX<br>     17: HOME DEPOT<br><br>TOTAL: 1,766",
          "",
          " -2,959: CHASE_CHECKING>MORTG<br> -1,563: CHASE_CHECKING>DISCO<br>  1,563: CREDIT BALANCE<br> -1,183: TREE OF LIFE<br>   -476: CORAL REEF<br>    -75: SOUTH MIAMI HOSPITAL<br>    -13: PUBLIX<br>      3: COINBASE STAKING INC<br><br>TOTAL: -4,704",
          " -1,503: OQBC ACCOUNTING<br>   -270: ELECTRICITY BILL (FP<br>    -75: SOUTH MIAMI HOSPITAL<br>    -12: ECLAIR AFFAIRE<br>    -11: PUBLIX<br><br>TOTAL: -1,870",
          "   -150: RUTH KACAN (CLEANER)<br>    -80: DDC LANDSCAPE<br>    -70: APEM<br>    -17: BONJOUR BAKERY - WES<br>     15: AUTOMATIC STATEMENT <br>      3: COINBASE STAKING INC<br><br>TOTAL: -299",
          "    -34: TRADER JOE'S<br>    -26: SCHOLASTIC INC<br>    -10: BONJOUR BAKERY - WES<br><br>TOTAL: -70",
          "   -149: AMAZON<br>    -73: WALMART<br>    -25: MEMORIAL HEALTHCARE <br>    -10: SOURDOUGH BAKERY<br><br>TOTAL: -257",
          "    -62: DRYBAR<br>    -22: COUNTRY ISLES PTA<br>    -17: HOME DEPOT<br>    -11: AMAZON<br>     -9: DUANE READE<br>      3: COINBASE STAKING INC<br>     -2: FLAMINGOG<br><br>TOTAL: -120",
          "    -31: CHEVRON<br>    -20: AINSLEY RODRIGUEZ (T<br>    -17: SPOTIFY<br>     -5: DUANE READE<br>     -4: HOME DEPOT<br><br>TOTAL: -78",
          "   -110: THE ADULT STORE<br>    -31: PUBLIX<br>     -7: DRYBAR MANHATTAN TOW<br><br>TOTAL: -149",
          "    -93: SUNRISE UTILITY<br>    -53: PARAMOUNT HOTEL<br>      3: COINBASE STAKING INC<br><br>TOTAL: -142",
          "   -720: EDISON PREMIUM<br>    -98: VIVAIA<br><br>TOTAL: -818",
          "  6,245: UBS SALARY<br>    -33: TOTAL WINE<br>    -29: AMAZON<br>    -16: HOME DEPOT<br><br>TOTAL: 6,167",
          "    -17: BONJOUR BAKERY - WES<br>     -8: THE CHEESE COURSE<br><br>TOTAL: -25",
          "  3,959: HOME LOAN PAYMENT<br> -1,839: MORTGAGE INTEREST<br>    -72: DRYBAR MANHATTAN TOW<br>    -33: DAZZLE DIVA NAILS SP<br>    -15: WARNER BROS STUDIO E<br>    -12: CVS PHARMCY<br><br>TOTAL: 1,989",
          " -2,959: CHASE_CHECKING>MORTG<br>   -400: KOSTIA (CAR RENTAL)<br>    -26: AMAZON<br>      3: COINBASE STAKING INC<br><br>TOTAL: -3,382",
          "   -250: MSMC CANCER CENTER<br>   -182: MSMC SURGICAL ONCOLO<br>   -120: POOL - ANDRES<br>   -110: QUEST DIAGNOSTICS<br>    -55: PUBLIX<br>    -30: HOME DEPOT<br>     -9: CHILL-N ICE CREAM<br>     -4: CHEVRON<br><br>TOTAL: -760",
          " 15,000: MARCUS>CHASE_CHECKIN<br>-15,000: MARCUS>FIRST<br>    -80: DDC LANDSCAPE<br>    -64: UBER<br>    -36: LINKEDIN SUBSCRIPTIO<br>    -15: BONJOUR BAKERY - WES<br>      3: COINBASE STAKING INC<br><br>TOTAL: -192",
          "   -311: BJ WHOLESALE<br>    -84: PUBLIX<br>    -63: UBER<br>    -44: WALMART<br>    -21: CHEVRON<br><br>TOTAL: -524",
          "-12,547: CHASE_CHECKING>CHASE<br> 12,547: FIRSTREPUBLIC>CREDIT<br>     73: CASHBACK REDEMPTION<br>    -23: BAKEWELL CAFE<br>    -19: RATP<br>    -18: HAIR VENTURE HAIR SA<br>    -15: ANNA HAIRDRESSER<br>      3: COINBASE STAKING INC<br><br>TOTAL: 1",
          "    -20: OPENAI CHATGPT SUBSC<br>     -8: CAR PARKING<br><br>TOTAL: -28",
          "   -320: COUR D HONNEUR (ANNE<br>    -88: AROMA MARKET AND CAT<br><br>TOTAL: -408",
          "   -218: EUROSTAR<br>    -90: MACY'S<br>    -63: COUNTRY ISLES PTA<br>    -39: FNAC<br>    -39: PUBLIX<br>    -16: SNCF<br><br>TOTAL: -465",
          " -5,101: CHASE_CHECKING>CHASE<br>  5,101: FIRSTREPUBLIC>CREDIT<br>    -40: AMAZON<br>    -36: BULLES EN TETE<br>    -23: JEFF DE BRUGES<br>     -3: LIBERTE BOULANGERIE<br><br>TOTAL: -102",
          "   -371: TO JG BLENO<br>    -74: TO FRED VIVET<br>     45: AMAZON<br>    -43: COUNTRY ISLES PTA<br>    -33: WALMART<br>    -26: KAFFEEHAUS<br>      3: COINBASE STAKING INC<br>     -2: GOOGLE STORAGE<br><br>TOTAL: -501",
          "   -122: GALERIES LAFAYETTE<br>    -21: BOULANGERIE LEGENDRE<br>    -10: APPLE<br>      3: COINBASE STAKING INC<br><br>TOTAL: -150",
          "   -419: BRITISH SHOES<br>    -55: COMCAST<br>    -32: FLORIDA NURSERY MART<br>    -19: AMAZON<br>    -18: NEWREST WAGON LIT<br>    -10: AKI BOULANGER<br>     -1: MONOPRIX<br><br>TOTAL: -554",
          "   -233: CORAL REEF<br>    -32: FLORIDA NURSERY MART<br>    -30: SUN PASS<br>    -23: UBER<br>     -5: CASINO SUPERMARCHE<br>     -4: PHARMACIE ALBIGNY<br><br>TOTAL: -327",
          "      4: COINBASE STAKING INC<br>     -1: MONOPRIX<br><br>TOTAL: 3",
          "  6,245: UBS SALARY<br>    198: INTEREST PAYMENT<br>   -140: APEM<br>    -25: NETFLIX<br>     -2: GOOGLE STORAGE<br><br>TOTAL: 6,276",
          " -2,959: CHASE_CHECKING>MORTG<br>  2,959: HOME LOAN PAYMENT<br> -1,836: MORTGAGE INTEREST<br> -1,150: TREE OF LIFE<br> -1,012: HOTELTRAVEL.COM<br>   -482: CORAL REEF<br>   -350: CAR DEPRECATION<br>   -196: HOME DEPOT<br>    -80: DDC LANDSCAPE<br>     -6: LA POMPADOUR<br><br>TOTAL: -5,113",
          " 14,683: NAYA BIOSCIENCES PAY<br> -1,337: CHASE_CHECKING>DISCO<br>  1,337: CREDIT BALANCE<br>    -57: SHORYU<br>    -34: DELIVEROO<br>    -30: TAXI<br>    -27: BONJOUR BAKERY - WES<br>     -7: TFL<br>      3: COINBASE STAKING INC<br><br>TOTAL: 14,531",
          "   -768: KUMON<br>   -163: HOME DEPOT<br>    -96: HAKKASAN LTD<br>    -84: BARAKA RESTAURANT<br>    -77: PUBLIX<br>    -75: SOUTH MIAMI HOSPITAL<br>    -44: LULUS FASHION LOUNGE<br>    -28: DELIVEROO<br>    -12: PRIME VIDEO<br>    -11: TFL<br>     -4: CAR PARKING<br><br>TOTAL: -1,363",
          "   -392: BJ WHOLESALE<br>   -159: COSTCO<br>   -147: CYBERDOG<br>    -75: SOUTH MIAMI HOSPITAL<br>    -63: AMAZON<br>    -61: SAINSBURY'S<br>    -41: CVS PHARMCY<br>    -23: FRANCO MANCA<br>    -13: GRIND<br>     -3: BOOTS<br><br>TOTAL: -978",
          "   -184: SPIRIT HALLOWEEN<br>    -53: UNIQUE LONDON<br>    -51: DELIVEROO<br>    -35: CYBERDOG<br>    -25: AMAZON<br>    -23: SAINSBURY'S<br>    -19: NEW SOUTHERN RAILW<br>    -16: THE VEGA BURGER<br>    -14: WATERSTONES<br>    -11: TFL<br>     -9: RAFTECH<br>     -6: NARDULLI (CLAPHAM)<br>      4: AUTOMATIC STATEMENT <br><br>TOTAL: -443",
          "   -221: MAURICE WEDDING GIFT<br>    -35: KEY FOOD (LIC)<br>    -12: UBER<br>      3: COINBASE STAKING INC<br><br>TOTAL: -266",
          "   -296: ELECTRICITY BILL (FP<br>    -41: UBER EATS<br>    -33: PUBLIX<br>    -32: HAPPY SOCKS<br>    -25: DOLLARTREE<br>    -25: MEMORIAL HEALTHCARE <br>    -13: TARGET<br>     -9: PINE LAKE LAUNDRY<br>     -7: UBS CAFETERIA<br>      3: COINBASE STAKING INC<br>     -3: MTA<br>     -2: TESO LIFE LIC<br><br>TOTAL: -484",
          "   -119: KATE SPADE<br>   -108: WALMART<br>    -41: UBER EATS<br>    -14: AMAZON<br>     -5: UBS CAFETERIA<br>     -3: MTA<br><br>TOTAL: -289",
          "  6,322: MEDICAL EXPENSES REI<br>    -26: UNIQLO<br>    -22: MYSTTIK MASAALA<br>    -20: AINSLEY RODRIGUEZ (T<br>    -17: SPOTIFY<br>    -15: JUST SALAD<br>     -5: UBS CAFETERIA<br>     -3: MTA<br><br>TOTAL: 6,215",
          "    -70: DAN<br>    -49: UBER EATS<br>    -46: AROMAS MEDSPA AT DOR<br>    -32: PINE LAKE LAUNDRY<br>    -20: DUANE READE<br>    -11: WIDE LAKE 4 ASTORIA<br>     -8: COCO-ASTORIA STORE<br>     -5: UBS CAFETERIA<br>     -3: MTA<br>     -2: CITY ACRES MARKET LI<br><br>TOTAL: -246",
          "   -114: TODAY TIX<br>    -44: APPLE<br>    -21: MYSTTIK MASAALA<br>    -15: FIELDTRIP (NYC)<br>     -6: KOPI FELLAS NYC<br>     -3: UBS CAFETERIA<br>      3: COINBASE STAKING INC<br>     -3: MTA<br><br>TOTAL: -202",
          "   -720: EDISON PREMIUM<br>   -360: BJ WHOLESALE<br>   -191: SUGAR COOKIES NYC<br>   -139: COMMUNITY FOOD JUICE<br>   -105: KASHKAVAL GARDEN<br>     98: VIVAIA<br>    -68: LULULEMON<br>    -42: SIPSTERIA<br>    -16: EMERALD WORLD PRODUC<br>     -2: 4TH STREET NEWS STAN<br>     -2: DUANE READE<br>     -2: FLAMINGOG<br><br>TOTAL: -1,549",
          "    -50: HOME DEPOT<br>    -48: UBER<br>    -26: HUDSON NEWS<br>    -16: WALMART<br>    -13: AMAZON<br>     -6: BOWERY BAY SHOPS<br>      3: COINBASE STAKING INC<br><br>TOTAL: -155",
          "",
          "  6,245: UBS SALARY<br> -2,959: CHASE_CHECKING>MORTG<br>  2,959: HOME LOAN PAYMENT<br> -1,836: MORTGAGE INTEREST<br>   -400: KOSTIA (CAR RENTAL)<br>   -369: MAIN STREET CHILDREN<br>   -159: HOME DEPOT<br>    -30: DDC LANDSCAPE<br><br>TOTAL: 3,451",
          "-17,172: GOV TAX<br>    -41: AMAZON<br>      5: COINBASE STAKING INC<br><br>TOTAL: -17,208",
          "    159: HOME DEPOT<br>   -144: FLAMINGO BAMBOO AND <br>   -120: POOL - ANDRES<br>   -110: QUEST DIAGNOSTICS<br>     -8: PUBLIX<br>     -5: SUN PASS<br><br>TOTAL: -229",
          "   -402: BEAUTY BOUTIQUE 54<br>    -90: MACY'S<br>    -36: LINKEDIN SUBSCRIPTIO<br>    -31: PINE LAKE LAUNDRY<br>     -8: PUBLIX<br><br>TOTAL: -567",
          "   -214: HOME DEPOT<br>   -160: FLAMINGO BAMBOO AND <br>    -66: PUBLIX<br>    -38: UBER<br>     -6: WHARF FTL FOOD TRUCK<br>      3: COINBASE STAKING INC<br><br>TOTAL: -481",
          "     13: HOME DEPOT<br>     -5: AMAZON<br><br>TOTAL: 8",
          " -3,137: CHASE_CHECKING>CHASE<br>  3,137: FIRSTREPUBLIC>CREDIT",
          "    -70: APPLE<br>    -15: STEAM<br><br>TOTAL: -85",
          "    -80: BEAUTY BOUTIQUE 54<br>    -80: DDC LANDSCAPE<br>    -68: PUBLIX<br>    -13: EXXON<br>      3: COINBASE STAKING INC<br><br>TOTAL: -239",
          " -3,572: CHASE_CHECKING>CHASE<br>  3,572: FIRSTREPUBLIC>CREDIT<br>   -155: AROMAS MEDSPA AT DOR<br><br>TOTAL: -155",
          "   -587: COSTCO<br>    -98: MINT MOBILE<br>      3: COINBASE STAKING INC<br><br>TOTAL: -682",
          "    -96: FLAMINGO BAMBOO AND <br>    -36: DISNEY PLUS<br>    -35: LYFE ATHLETICS<br>    -10: APPLE<br><br>TOTAL: -177",
          "    -20: WALMART<br>    -15: CNBC SMARTSHOP FLL<br>     -3: COUNTRY ISLES PTA<br><br>TOTAL: -38",
          "   -239: ZENBUSINESS.COM<br>   -220: HOME DEPOT<br>   -147: ELIZABETH DANIELS<br>    -55: COMCAST<br>    -38: CIRCLE K<br>    -25: AMAZON<br>     -3: CVS PHARMCY<br>      3: COINBASE STAKING INC<br><br>TOTAL: -724",
          "   -100: ZENBUSINESS.COM<br>    -68: DRYBAR BACK BAY<br>     -6: HOME DEPOT<br><br>TOTAL: -174",
          " 14,700: NAYA BIOSCIENCES PAY<br>   -243: ANNKE<br>     -2: GOOGLE STORAGE<br><br>TOTAL: 14,455",
          " 25,000: FIRST>MARCUS<br>-25,000: CHASES>MARCUS<br>  6,245: UBS SALARY<br>   -150: RUTH KACAN (CLEANER)<br>    146: INTEREST PAYMENT<br>   -105: APEM<br>    -20: VIENNA WINE BAR<br>      3: COINBASE STAKING INC<br><br>TOTAL: 6,119",
          " -2,959: CHASE_CHECKING>MORTG<br>  2,959: HOME LOAN PAYMENT<br> -1,834: MORTGAGE INTEREST<br> -1,080: TREE OF LIFE<br>   -770: KUMON<br>   -400: KAPOK HOA<br>   -350: CAR DEPRECATION<br>   -349: CORAL REEF<br>   -241: LIBERATOR<br>   -175: BROADWAY KIDS STUDIO<br>    -25: NETFLIX<br>    -12: AMAZON<br><br>TOTAL: -5,237",
          "   -118: HOME DEPOT<br>    -19: AMAZON<br>    -16: CHEVERE GROUP LLC MI<br>    -13: TOUR WYNWOOD WALLS<br><br>TOTAL: -166",
          "   -165: LYFE ATHLETICS<br>    -75: SOUTH MIAMI HOSPITAL<br>    -11: PRIME VIDEO<br>      3: COINBASE STAKING INC<br><br>TOTAL: -248",
          "   -403: CHASE_CHECKING>DISCO<br>    403: CREDIT BALANCE<br>    -75: SOUTH MIAMI HOSPITAL<br>    -29: PUBLIX<br><br>TOTAL: -104",
          "   -237: ELECTRICITY BILL (FP<br>    -49: HOME DEPOT<br>     40: AUTOMATIC STATEMENT <br><br>TOTAL: -246",
          "   -125: PUBLIX<br>      3: COINBASE STAKING INC<br><br>TOTAL: -122",
          "   -556: COSTCO<br>    -80: DDC LANDSCAPE<br>    -30: BROWARD HEALTH MEDIC<br>    -25: MEMORIAL HEALTHCARE <br>     -2: CAR PARKING<br><br>TOTAL: -694",
          "   -160: ANTHROPOLOGY<br>    -55: ECLAIR AFFAIRE<br>    -55: WALMART<br>    -50: MEMORIAL HEALTHCARE <br>    -17: SPOTIFY<br><br>TOTAL: -337",
          "   -197: HOME DEPOT<br>   -129: AMAZON<br>   -107: T AND C NURSERY<br>    -36: DICK'S SPORT<br>    -20: AINSLEY RODRIGUEZ (T<br>    -18: TRADER JOE'S<br>      4: COINBASE STAKING INC<br><br>TOTAL: -503",
          "    -59: TOTAL WINE<br>    -44: AMAZON<br>     -0: TARGET<br><br>TOTAL: -103",
          "   -142: AMAZON<br>    -35: CIRCLE K<br>     -9: CHILL-N ICE CREAM<br><br>TOTAL: -187",
          "   -720: EDISON PREMIUM<br>   -169: MANE CHANGES SALON<br>   -118: AMAZON<br>    -80: TENNIS COACH<br>    -45: PUBLIX<br>    -25: DAVIE ADVANCED DENTI<br>      4: COINBASE STAKING INC<br><br>TOTAL: -1,153",
          "   -530: GOV TAX<br>   -140: AMAZON<br>    -72: MANE CHANGES SALON<br>     -5: AMERICAS BAKERY & RE<br><br>TOTAL: -747",
          "   -150: RUTH KACAN (CLEANER)<br>    -41: UNIVERSITY VAPE<br>    -39: AMAZON<br>     -9: HOME DEPOT<br><br>TOTAL: -238",
          "  6,245: UBS SALARY<br> -2,959: CHASE_CHECKING>MORTG<br>  2,959: HOME LOAN PAYMENT<br> -1,834: MORTGAGE INTEREST<br>   -400: KOSTIA (CAR RENTAL)<br>   -120: ANGEL NAIL SPA<br>    -68: NAIL TIP<br>    -63: A FAMILY COOPER CITY<br>     26: AMAZON<br>      4: COINBASE STAKING INC<br><br>TOTAL: 3,791",
          "   -150: AMAZON<br>    -55: WHOLE FOODS<br><br>TOTAL: -205",
          "   -548: COSTCO<br>   -110: QUEST DIAGNOSTICS<br>    -64: AMAZON<br>    -49: HOME DEPOT<br><br>TOTAL: -771",
          "    -80: TENNIS COACH<br>    -79: PUBLIX<br>    -36: LINKEDIN SUBSCRIPTIO<br>    -32: SHELL<br>      4: COINBASE STAKING INC<br><br>TOTAL: -223",
          "    -64: HOME DEPOT<br>     36: AMAZON<br>    -22: CORAL REEF<br>    -12: WALGREENS<br><br>TOTAL: -62",
          " -5,320: CHASE_CHECKING>CHASE<br>  5,320: FIRSTREPUBLIC>CREDIT<br>   -120: POOL - ANDRES<br>    -80: DDC LANDSCAPE<br>    -22: BONJOUR BAKERY - WES<br>    -15: AMAZON<br><br>TOTAL: -237",
          "   -136: DAVIE ADVANCED DENTI<br>    107: ANTHROPOLOGY<br>    -11: CAR PARKING<br>      5: COINBASE STAKING INC<br><br>TOTAL: -35",
          "    -70: APEM<br>    -25: LYFE ATHLETICS<br>    -15: MINUTE CLINIC (CVS)<br>     -5: CVS PHARMCY<br><br>TOTAL: -115",
          "    -27: AMAZON<br>    -18: BONJOUR BAKERY - WES<br>     -5: FLAMINGOG<br><br>TOTAL: -50",
          "   -216: COSTCO<br>   -176: OLD NAVY<br>    -35: MINUTE CLINIC (CVS)<br>    -18: AMAZON<br>    -10: HOME DEPOT<br>     -8: CVS PHARMCY<br>      5: COINBASE STAKING INC<br><br>TOTAL: -458",
          " -3,572: CHASE_CHECKING>CHASE<br>  3,572: FIRSTREPUBLIC>CREDIT<br>   -400: SUNRISE UTILITY<br>    -83: PUBLIX<br>    -80: TENNIS COACH<br>    -29: VENETIAN NAIL SPA<br>    -12: BONJOUR BAKERY - WES<br><br>TOTAL: -604",
          "   -150: RUTH KACAN (CLEANER)<br>    -34: AMAZON<br>    -15: SUN PASS<br>    -10: APPLE<br>     -4: CHEVRON<br><br>TOTAL: -214",
          "   -500: BROWARD HEALTH MEDIC<br>    -55: COMCAST<br>    -34: DISNEY PLUS<br>    -32: EXXON<br>    -18: CHILL-N ICE CREAM<br>    -15: CVS PHARMCY<br>      4: COINBASE STAKING INC<br><br>TOTAL: -650",
          "",
          "  6,245: UBS SALARY<br>   -105: PUBLIX<br><br>TOTAL: 6,140",
          "   -631: LOT AIRLINE<br>   -458: FRENCH BEE<br>    198: INTEREST PAYMENT<br>    -22: AMAZON<br>    -14: BONJOUR BAKERY - WES<br>      5: COINBASE STAKING INC<br>     -2: GOOGLE STORAGE<br>     -1: TENNIS PLANTATION<br><br>TOTAL: -926",
          "  2,959: HOME LOAN PAYMENT<br> -1,831: MORTGAGE INTEREST<br>   -770: KUMON<br>   -350: CAR DEPRECATION<br>    -75: BROADWAY KIDS STUDIO<br>    -56: AMAZON<br>    -55: BJ<br>    -25: NETFLIX<br>    -22: T-MOBILE<br>     -9: FLAMINGOG<br><br>TOTAL: -234",
          "-23,380: BROWARD PROPERTY TAX<br> -3,245: CHASE_CHECKING>DISCO<br>  3,245: CREDIT BALANCE<br> -2,959: CHASE_CHECKING>MORTG<br> -1,102: TREE OF LIFE<br>   -508: CORAL REEF<br>   -200: MACY'S<br>   -163: CURB MOBILITY<br>    -80: TENNIS COACH<br>     -8: BONJOUR BAKERY - WES<br><br>TOTAL: -28,401",
          "   -201: ELECTRICITY BILL (FP<br>   -165: LYFE ATHLETICS<br>   -160: LEGO<br>   -128: MICHAEL KORS<br>    -75: SOUTH MIAMI HOSPITAL<br>    -64: ETSY<br>    -48: MACY<br>    -33: AMAZON<br>    -15: MACY'S<br>    -11: PRIME VIDEO<br><br>TOTAL: -900",
          "   -107: THE NATURAL BEAUTE<br>   -106: MACY<br>    -80: DDC LANDSCAPE<br>    -75: SOUTH MIAMI HOSPITAL<br>    -17: AMAZON<br>    -15: VALVE<br>      5: COINBASE STAKING INC<br><br>TOTAL: -395",
          "    -49: DRZZS.COM<br>    -26: AMAZON<br>     11: AUTOMATIC STATEMENT <br><br>TOTAL: -64",
          "   -361: WHITE HOUSE BLK MKT<br>   -155: TYR SPORT<br>    -13: AMAZON<br>      4: COINBASE STAKING INC<br><br>TOTAL: -524",
          "   -384: AMAZON<br>    -85: NIKE<br>    -25: MEMORIAL HEALTHCARE <br>    -18: BARNES & NOBLE<br><br>TOTAL: -512",
          "   -482: COSTCO<br>    -85: BROWARD HEALTH MEDIC<br>    -35: EXXON<br>    -17: SPOTIFY<br><br>TOTAL: -619",
          "   -406: EASYJET<br>    -20: AINSLEY RODRIGUEZ (T<br>     -6: AMAZON<br>      5: COINBASE STAKING INC<br><br>TOTAL: -427",
          "    588: IRS TAX RETURN<br>    -81: AMAZON<br>    -37: WHITE HOUSE BLK MKT<br>    -37: PUBLIX<br><br>TOTAL: 432",
          "    -31: BROWARD TAG AND TITL<br>    -20: ALICE - JIYA AND MAY<br><br>TOTAL: -51",
          "   -720: EDISON PREMIUM<br>   -150: RUTH KACAN (CLEANER)<br><br>TOTAL: -870",
          "  6,246: UBS SALARY<br><br>TOTAL: 6,246",
          "",
          "  2,959: HOME LOAN PAYMENT<br> -1,831: MORTGAGE INTEREST<br><br>TOTAL: 1,128",
          "",
          "",
          "",
          "",
          "",
          "",
          "",
          "",
          "",
          "",
          "",
          "",
          "",
          "",
          "",
          "",
          "  2,959: HOME LOAN PAYMENT<br> -1,829: MORTGAGE INTEREST<br>   -350: CAR DEPRECATION<br><br>TOTAL: 780",
          "",
          "",
          "",
          "",
          "",
          "",
          ""
         ],
         "type": "scatter",
         "x": [
          "2024-01-10T00:00:00",
          "2024-01-11T00:00:00",
          "2024-01-12T00:00:00",
          "2024-01-13T00:00:00",
          "2024-01-14T00:00:00",
          "2024-01-15T00:00:00",
          "2024-01-16T00:00:00",
          "2024-01-17T00:00:00",
          "2024-01-18T00:00:00",
          "2024-01-19T00:00:00",
          "2024-01-20T00:00:00",
          "2024-01-21T00:00:00",
          "2024-01-22T00:00:00",
          "2024-01-23T00:00:00",
          "2024-01-24T00:00:00",
          "2024-01-25T00:00:00",
          "2024-01-26T00:00:00",
          "2024-01-27T00:00:00",
          "2024-01-28T00:00:00",
          "2024-01-29T00:00:00",
          "2024-01-30T00:00:00",
          "2024-01-31T00:00:00",
          "2024-02-01T00:00:00",
          "2024-02-02T00:00:00",
          "2024-02-03T00:00:00",
          "2024-02-04T00:00:00",
          "2024-02-05T00:00:00",
          "2024-02-06T00:00:00",
          "2024-02-07T00:00:00",
          "2024-02-08T00:00:00",
          "2024-02-09T00:00:00",
          "2024-02-10T00:00:00",
          "2024-02-11T00:00:00",
          "2024-02-12T00:00:00",
          "2024-02-13T00:00:00",
          "2024-02-14T00:00:00",
          "2024-02-15T00:00:00",
          "2024-02-16T00:00:00",
          "2024-02-17T00:00:00",
          "2024-02-18T00:00:00",
          "2024-02-19T00:00:00",
          "2024-02-20T00:00:00",
          "2024-02-21T00:00:00",
          "2024-02-22T00:00:00",
          "2024-02-23T00:00:00",
          "2024-02-24T00:00:00",
          "2024-02-25T00:00:00",
          "2024-02-26T00:00:00",
          "2024-02-27T00:00:00",
          "2024-02-28T00:00:00",
          "2024-02-29T00:00:00",
          "2024-03-01T00:00:00",
          "2024-03-02T00:00:00",
          "2024-03-03T00:00:00",
          "2024-03-04T00:00:00",
          "2024-03-05T00:00:00",
          "2024-03-06T00:00:00",
          "2024-03-07T00:00:00",
          "2024-03-08T00:00:00",
          "2024-03-09T00:00:00",
          "2024-03-10T00:00:00",
          "2024-03-11T00:00:00",
          "2024-03-12T00:00:00",
          "2024-03-13T00:00:00",
          "2024-03-14T00:00:00",
          "2024-03-15T00:00:00",
          "2024-03-16T00:00:00",
          "2024-03-17T00:00:00",
          "2024-03-18T00:00:00",
          "2024-03-19T00:00:00",
          "2024-03-20T00:00:00",
          "2024-03-21T00:00:00",
          "2024-03-22T00:00:00",
          "2024-03-23T00:00:00",
          "2024-03-24T00:00:00",
          "2024-03-25T00:00:00",
          "2024-03-26T00:00:00",
          "2024-03-27T00:00:00",
          "2024-03-28T00:00:00",
          "2024-03-29T00:00:00",
          "2024-03-30T00:00:00",
          "2024-03-31T00:00:00",
          "2024-04-01T00:00:00",
          "2024-04-02T00:00:00",
          "2024-04-03T00:00:00",
          "2024-04-04T00:00:00",
          "2024-04-05T00:00:00",
          "2024-04-06T00:00:00",
          "2024-04-07T00:00:00",
          "2024-04-08T00:00:00",
          "2024-04-09T00:00:00",
          "2024-04-10T00:00:00",
          "2024-04-11T00:00:00",
          "2024-04-12T00:00:00",
          "2024-04-13T00:00:00",
          "2024-04-14T00:00:00",
          "2024-04-15T00:00:00",
          "2024-04-16T00:00:00",
          "2024-04-17T00:00:00",
          "2024-04-18T00:00:00",
          "2024-04-19T00:00:00",
          "2024-04-20T00:00:00",
          "2024-04-21T00:00:00",
          "2024-04-22T00:00:00",
          "2024-04-23T00:00:00",
          "2024-04-24T00:00:00",
          "2024-04-25T00:00:00",
          "2024-04-26T00:00:00",
          "2024-04-27T00:00:00",
          "2024-04-28T00:00:00",
          "2024-04-29T00:00:00",
          "2024-04-30T00:00:00",
          "2024-05-01T00:00:00",
          "2024-05-02T00:00:00",
          "2024-05-03T00:00:00",
          "2024-05-04T00:00:00",
          "2024-05-05T00:00:00",
          "2024-05-06T00:00:00",
          "2024-05-07T00:00:00",
          "2024-05-08T00:00:00",
          "2024-05-09T00:00:00",
          "2024-05-10T00:00:00",
          "2024-05-11T00:00:00",
          "2024-05-12T00:00:00",
          "2024-05-13T00:00:00",
          "2024-05-14T00:00:00",
          "2024-05-15T00:00:00",
          "2024-05-16T00:00:00",
          "2024-05-17T00:00:00",
          "2024-05-18T00:00:00",
          "2024-05-19T00:00:00",
          "2024-05-20T00:00:00",
          "2024-05-21T00:00:00",
          "2024-05-22T00:00:00",
          "2024-05-23T00:00:00",
          "2024-05-24T00:00:00",
          "2024-05-25T00:00:00",
          "2024-05-26T00:00:00",
          "2024-05-27T00:00:00",
          "2024-05-28T00:00:00",
          "2024-05-29T00:00:00",
          "2024-05-30T00:00:00",
          "2024-05-31T00:00:00",
          "2024-06-01T00:00:00",
          "2024-06-02T00:00:00",
          "2024-06-03T00:00:00",
          "2024-06-04T00:00:00",
          "2024-06-05T00:00:00",
          "2024-06-06T00:00:00",
          "2024-06-07T00:00:00",
          "2024-06-08T00:00:00",
          "2024-06-09T00:00:00",
          "2024-06-10T00:00:00",
          "2024-06-11T00:00:00",
          "2024-06-12T00:00:00",
          "2024-06-13T00:00:00",
          "2024-06-14T00:00:00",
          "2024-06-15T00:00:00",
          "2024-06-16T00:00:00",
          "2024-06-17T00:00:00",
          "2024-06-18T00:00:00",
          "2024-06-19T00:00:00",
          "2024-06-20T00:00:00",
          "2024-06-21T00:00:00",
          "2024-06-22T00:00:00",
          "2024-06-23T00:00:00",
          "2024-06-24T00:00:00",
          "2024-06-25T00:00:00",
          "2024-06-26T00:00:00",
          "2024-06-27T00:00:00",
          "2024-06-28T00:00:00",
          "2024-06-29T00:00:00",
          "2024-06-30T00:00:00",
          "2024-07-01T00:00:00",
          "2024-07-02T00:00:00",
          "2024-07-03T00:00:00",
          "2024-07-04T00:00:00",
          "2024-07-05T00:00:00",
          "2024-07-06T00:00:00",
          "2024-07-07T00:00:00",
          "2024-07-08T00:00:00",
          "2024-07-09T00:00:00",
          "2024-07-10T00:00:00",
          "2024-07-11T00:00:00",
          "2024-07-12T00:00:00",
          "2024-07-13T00:00:00",
          "2024-07-14T00:00:00",
          "2024-07-15T00:00:00",
          "2024-07-16T00:00:00",
          "2024-07-17T00:00:00",
          "2024-07-18T00:00:00",
          "2024-07-19T00:00:00",
          "2024-07-20T00:00:00",
          "2024-07-21T00:00:00",
          "2024-07-22T00:00:00",
          "2024-07-23T00:00:00",
          "2024-07-24T00:00:00",
          "2024-07-25T00:00:00",
          "2024-07-26T00:00:00",
          "2024-07-27T00:00:00",
          "2024-07-28T00:00:00",
          "2024-07-29T00:00:00",
          "2024-07-30T00:00:00",
          "2024-07-31T00:00:00",
          "2024-08-01T00:00:00",
          "2024-08-02T00:00:00",
          "2024-08-03T00:00:00",
          "2024-08-04T00:00:00",
          "2024-08-05T00:00:00",
          "2024-08-06T00:00:00",
          "2024-08-07T00:00:00",
          "2024-08-08T00:00:00",
          "2024-08-09T00:00:00",
          "2024-08-10T00:00:00",
          "2024-08-11T00:00:00",
          "2024-08-12T00:00:00",
          "2024-08-13T00:00:00",
          "2024-08-14T00:00:00",
          "2024-08-15T00:00:00",
          "2024-08-16T00:00:00",
          "2024-08-17T00:00:00",
          "2024-08-18T00:00:00",
          "2024-08-19T00:00:00",
          "2024-08-20T00:00:00",
          "2024-08-21T00:00:00",
          "2024-08-22T00:00:00",
          "2024-08-23T00:00:00",
          "2024-08-24T00:00:00",
          "2024-08-25T00:00:00",
          "2024-08-26T00:00:00",
          "2024-08-27T00:00:00",
          "2024-08-28T00:00:00",
          "2024-08-29T00:00:00",
          "2024-08-30T00:00:00",
          "2024-08-31T00:00:00",
          "2024-09-01T00:00:00",
          "2024-09-02T00:00:00",
          "2024-09-03T00:00:00",
          "2024-09-04T00:00:00",
          "2024-09-05T00:00:00",
          "2024-09-06T00:00:00",
          "2024-09-07T00:00:00",
          "2024-09-08T00:00:00",
          "2024-09-09T00:00:00",
          "2024-09-10T00:00:00",
          "2024-09-11T00:00:00",
          "2024-09-12T00:00:00",
          "2024-09-13T00:00:00",
          "2024-09-14T00:00:00",
          "2024-09-15T00:00:00",
          "2024-09-16T00:00:00",
          "2024-09-17T00:00:00",
          "2024-09-18T00:00:00",
          "2024-09-19T00:00:00",
          "2024-09-20T00:00:00",
          "2024-09-21T00:00:00",
          "2024-09-22T00:00:00",
          "2024-09-23T00:00:00",
          "2024-09-24T00:00:00",
          "2024-09-25T00:00:00",
          "2024-09-26T00:00:00",
          "2024-09-27T00:00:00",
          "2024-09-28T00:00:00",
          "2024-09-29T00:00:00",
          "2024-09-30T00:00:00",
          "2024-10-01T00:00:00",
          "2024-10-02T00:00:00",
          "2024-10-03T00:00:00",
          "2024-10-04T00:00:00",
          "2024-10-05T00:00:00",
          "2024-10-06T00:00:00",
          "2024-10-07T00:00:00",
          "2024-10-08T00:00:00",
          "2024-10-09T00:00:00",
          "2024-10-10T00:00:00",
          "2024-10-11T00:00:00",
          "2024-10-12T00:00:00",
          "2024-10-13T00:00:00",
          "2024-10-14T00:00:00",
          "2024-10-15T00:00:00",
          "2024-10-16T00:00:00",
          "2024-10-17T00:00:00",
          "2024-10-18T00:00:00",
          "2024-10-19T00:00:00",
          "2024-10-20T00:00:00",
          "2024-10-21T00:00:00",
          "2024-10-22T00:00:00",
          "2024-10-23T00:00:00",
          "2024-10-24T00:00:00",
          "2024-10-25T00:00:00",
          "2024-10-26T00:00:00",
          "2024-10-27T00:00:00",
          "2024-10-28T00:00:00",
          "2024-10-29T00:00:00",
          "2024-10-30T00:00:00",
          "2024-10-31T00:00:00",
          "2024-11-01T00:00:00",
          "2024-11-02T00:00:00",
          "2024-11-03T00:00:00",
          "2024-11-04T00:00:00",
          "2024-11-05T00:00:00",
          "2024-11-06T00:00:00",
          "2024-11-07T00:00:00",
          "2024-11-08T00:00:00",
          "2024-11-09T00:00:00",
          "2024-11-10T00:00:00",
          "2024-11-11T00:00:00",
          "2024-11-12T00:00:00",
          "2024-11-13T00:00:00",
          "2024-11-14T00:00:00",
          "2024-11-15T00:00:00",
          "2024-11-16T00:00:00",
          "2024-11-17T00:00:00",
          "2024-11-18T00:00:00",
          "2024-11-19T00:00:00",
          "2024-11-20T00:00:00",
          "2024-11-21T00:00:00",
          "2024-11-22T00:00:00",
          "2024-11-23T00:00:00",
          "2024-11-24T00:00:00",
          "2024-11-25T00:00:00",
          "2024-11-26T00:00:00",
          "2024-11-27T00:00:00",
          "2024-11-28T00:00:00",
          "2024-11-29T00:00:00",
          "2024-11-30T00:00:00",
          "2024-12-01T00:00:00",
          "2024-12-02T00:00:00",
          "2024-12-03T00:00:00",
          "2024-12-04T00:00:00",
          "2024-12-05T00:00:00",
          "2024-12-06T00:00:00",
          "2024-12-07T00:00:00",
          "2024-12-08T00:00:00",
          "2024-12-09T00:00:00",
          "2024-12-10T00:00:00",
          "2024-12-11T00:00:00",
          "2024-12-12T00:00:00",
          "2024-12-13T00:00:00",
          "2024-12-14T00:00:00",
          "2024-12-15T00:00:00",
          "2024-12-16T00:00:00",
          "2024-12-17T00:00:00",
          "2024-12-18T00:00:00",
          "2024-12-19T00:00:00",
          "2024-12-20T00:00:00",
          "2024-12-21T00:00:00",
          "2024-12-22T00:00:00",
          "2024-12-23T00:00:00",
          "2024-12-24T00:00:00",
          "2024-12-25T00:00:00",
          "2024-12-26T00:00:00",
          "2024-12-27T00:00:00",
          "2024-12-28T00:00:00",
          "2024-12-29T00:00:00",
          "2024-12-30T00:00:00",
          "2024-12-31T00:00:00",
          "2025-01-01T00:00:00",
          "2025-01-02T00:00:00",
          "2025-01-03T00:00:00",
          "2025-01-04T00:00:00",
          "2025-01-05T00:00:00",
          "2025-01-06T00:00:00",
          "2025-01-07T00:00:00",
          "2025-01-08T00:00:00"
         ],
         "y": [
          1704086.6842326834,
          1704549.3235526418,
          1720012.7330545916,
          1720354.8537376598,
          1718840.922846464,
          1717683.8580383998,
          1711395.7650990782,
          1702637.1824406793,
          1705913.7622264074,
          1713182.5914789473,
          1713050.0454064305,
          1712774.3229449044,
          1711347.8738951487,
          1711766.0332578036,
          1712905.570381325,
          1716626.1598424977,
          1717661.4618552031,
          1717793.2303891317,
          1716477.8346876942,
          1720289.4571712718,
          1718799.628298258,
          1716778.681955623,
          1721561.9786673875,
          1725789.2175125107,
          1725346.0900028658,
          1724935.967044129,
          1718615.5531462042,
          1720324.7495195968,
          1727097.7390022986,
          1727765.0111857515,
          1732318.4949478607,
          1732496.1361446846,
          1731750.8742542674,
          1733622.0213032463,
          1716421.667930292,
          1777492.1534094696,
          1791617.0576040756,
          1790010.8425549713,
          1789426.4248970624,
          1790004.1549801049,
          1790444.295016664,
          1787475.2887143616,
          1788246.3653366677,
          1799479.5765293348,
          1799157.1966273524,
          1799489.2965176904,
          1800181.2559486006,
          1800009.9615782476,
          1810404.6813246747,
          1826099.6447765485,
          1835490.9910104417,
          1836559.0874960804,
          1836317.1981872313,
          1837133.8420806555,
          1846197.0126109647,
          1837259.7450981964,
          1845643.287912562,
          1852063.6534880728,
          1850998.4897546694,
          1850946.3898616345,
          1850618.4695536897,
          1853345.5974992828,
          1857271.0050396565,
          1855866.8081689042,
          1851954.1042191512,
          1852493.2287426244,
          1848776.1062592105,
          1850885.777082129,
          1851912.4271803154,
          1848235.9606165197,
          1860069.5021528956,
          1863081.9744356896,
          1854285.5771481458,
          1853569.0924007965,
          1855323.4111383902,
          1854411.8347385798,
          1854454.123143754,
          1858677.1498479014,
          1868060.9867409589,
          1867530.8808932672,
          1866665.148309358,
          1868599.7032315545,
          1857719.0547093179,
          1845668.7595186387,
          1848350.3726910148,
          1844306.4109381523,
          1847794.1507355615,
          1848342.3173188302,
          1849263.0057438617,
          1853302.7169183719,
          1853008.6751436095,
          1845895.7713550301,
          1845234.6962595352,
          1829627.0958854768,
          1825920.070981272,
          1827448.3103172428,
          1825791.1316517924,
          1821066.7325567193,
          1815778.028628167,
          1816821.5098725716,
          1811810.8012341168,
          1812907.7382241332,
          1812321.2280937904,
          1818116.6553707102,
          1824582.9552866658,
          1826173.9635757226,
          1824094.3490643783,
          1831021.3096915851,
          1831194.3507305162,
          1830802.4627205266,
          1834220.595583217,
          1830196.3444783024,
          1818778.7395308295,
          1830164.827843832,
          1840437.5874090935,
          1840687.727200682,
          1840656.593468155,
          1845451.1809850538,
          1844454.0134913735,
          1841076.0387669718,
          1846197.4410466538,
          1845791.8901431009,
          1845262.430749095,
          1844582.303800167,
          1846219.0678171779,
          1850176.596149787,
          1871320.1674798722,
          1870572.838188677,
          1873923.4198568114,
          1873883.3999928737,
          1872934.8418391945,
          1880658.8036534286,
          1881433.9763331674,
          1877034.1022591316,
          1869864.3823305836,
          1873516.4497213482,
          1873529.364958638,
          1873506.2532355944,
          1875632.6019034924,
          1882369.4198847702,
          1872984.088730216,
          1870800.2160828598,
          1883595.1113059646,
          1885424.159848594,
          1885162.2773428468,
          1881602.38634033,
          1882181.0202098733,
          1890189.2918411482,
          1890710.930785208,
          1885707.7683956528,
          1885549.1377153958,
          1885776.8947108467,
          1885580.4996197869,
          1882329.8224527442,
          1890094.9565978686,
          1888003.6511869237,
          1891963.6629897626,
          1894284.8162599965,
          1894747.5121362216,
          1891848.6442879864,
          1894332.69306989,
          1894172.8811902937,
          1899474.368097896,
          1894674.49215345,
          1894483.9996976505,
          1893343.9985351574,
          1890638.9679493478,
          1897454.6567575391,
          1895502.3793826324,
          1895784.5336621322,
          1901558.5385592247,
          1901851.875291299,
          1903343.9836759474,
          1901510.37770101,
          1904632.9366449325,
          1908087.8025167547,
          1906561.9202785622,
          1909710.8798776194,
          1911041.6403516282,
          1908793.8269850153,
          1914689.030812074,
          1923227.457806556,
          1929886.8807498296,
          1929997.172029417,
          1937234.3964611292,
          1937885.220887888,
          1938896.3286516918,
          1948668.9478179663,
          1954417.2272030544,
          1942916.8021778194,
          1936691.2326154183,
          1932989.872255033,
          1933208.276357187,
          1933652.6678600365,
          1938562.9696632794,
          1935312.030847431,
          1917996.8661295148,
          1913663.4927232442,
          1923069.9043926424,
          1922643.9985629038,
          1922954.1761410604,
          1921969.9682431777,
          1927778.425144513,
          1943115.7656131687,
          1926537.9706035438,
          1904967.5670190256,
          1903519.3421872845,
          1900562.857365499,
          1877162.0372631268,
          1883990.27739322,
          1876771.0501078798,
          1898750.9300032938,
          1902175.0551739149,
          1902099.3146891093,
          1900573.7208497217,
          1901598.3409722128,
          1914246.2278261327,
          1917171.9192245123,
          1931313.6802825402,
          1936167.9581208206,
          1936484.073780195,
          1935619.826744335,
          1946609.8671430976,
          1944406.5003202,
          1950512.6272172914,
          1944390.6874492436,
          1957984.9687487537,
          1957766.7294268622,
          1956984.818523667,
          1956587.8086116684,
          1953611.8894353926,
          1951058.4155520678,
          1948982.3177010426,
          1961164.0532396722,
          1960404.052734307,
          1960722.7757563582,
          1961212.5502682256,
          1939433.5167701868,
          1935510.1599780761,
          1933426.719117365,
          1919247.8172017727,
          1919493.990304089,
          1919687.001132998,
          1927566.4772542317,
          1927261.951742427,
          1933682.0822229616,
          1938550.8229801962,
          1954974.0392237634,
          1954500.5783948728,
          1955388.8355053142,
          1954053.8404757634,
          1956985.20639266,
          1954009.337969565,
          1970126.6022395708,
          1971041.4091284187,
          1971499.106371884,
          1970988.6672731305,
          1974504.1592861868,
          1982556.8397956525,
          1979488.7841376502,
          1986667.9869733327,
          1988463.5973008638,
          1988056.8288610997,
          1987804.1337764568,
          1993260.1081391429,
          1980524.5534193446,
          1993759.2970411298,
          1987674.7520273193,
          1990322.3948853398,
          1989900.4583836352,
          1990119.038625384,
          1984377.9561881428,
          1983484.3147822716,
          1991759.624835014,
          1989503.1804205764,
          1996356.771774318,
          1995456.3483469116,
          1995021.8339021963,
          2001444.2580666216,
          1998365.1540532603,
          1985958.061563247,
          1982650.636776932,
          1988104.3660761926,
          1987613.8785002658,
          1988403.4718611022,
          1984065.9986516233,
          1980043.3927804134,
          1971322.9730893588,
          1971839.7162281747,
          1970563.8804935503,
          1970846.9383516475,
          1971436.1096298324,
          1975186.989222974,
          1977311.4245236495,
          1989940.7875681364,
          1981495.5467369014,
          1976584.9638211972,
          1976175.0854938873,
          1975241.017597313,
          1975555.431656686,
          1986493.063546989,
          2007061.3018913292,
          2011487.2956802496,
          2012810.9432693666,
          2013563.6364241932,
          2015601.3028551848,
          2019535.290430489,
          2009211.9338473415,
          2003543.9126713092,
          1994740.414471706,
          1992617.948769323,
          1992405.0075517304,
          1990689.0710111896,
          1994367.4545034864,
          1999069.6914022365,
          1999991.5130175033,
          2006651.2459736313,
          2007582.0267657738,
          2007365.7135696122,
          2006798.645630174,
          2007723.6308653017,
          2005304.9296869326,
          2009691.4283034361,
          2012237.1511448543,
          2026378.838217573,
          2022836.0264233944,
          2023061.0150105928,
          1995519.0192822986,
          1994229.57456524,
          2001427.0937632862,
          2000726.0783043539,
          2006384.0392906673,
          2005834.1842210433,
          2005902.2229804173,
          2000211.7085196602,
          1994159.2292187607,
          2004628.9128918957,
          1997760.1892601654,
          2002584.6694160565,
          2002239.9868485138,
          2005439.3419860457,
          2006227.5166267944,
          2004073.4297912947,
          1975570.9242118986,
          1967863.3870716603,
          1973342.009281813,
          1972121.0844108048,
          1970626.1349292742,
          1978232.0350368838,
          1986880.4171241971,
          1987254.6558254776,
          1985046.0067328492,
          1976659.7391139977,
          1977651.549575674,
          1976482.612565068,
          1969330.7815078236,
          1966448.5217050521,
          1967878.8686994233,
          1967181.2880561873,
          1973309.364850361,
          1973745.192238348,
          1973619.188372004,
          1981825.6584030404,
          1971984.0890691124,
          1959771.469431883
         ]
        }
       ],
       "layout": {
        "annotations": [
         {
          "align": "center",
          "arrowcolor": "#636363",
          "arrowhead": 2,
          "arrowsize": 1,
          "arrowwidth": 2,
          "ax": 20,
          "ay": -100,
          "bgcolor": "#ff7f0e",
          "bordercolor": "#c7c7c7",
          "borderpad": 4,
          "borderwidth": 2,
          "font": {
           "color": "#ffffff",
           "family": "Courier New, monospace",
           "size": 12
          },
          "opacity": 0.65,
          "showarrow": true,
          "text": "PROGRESSIVE INSURANC: -1,534",
          "x": "2024-01-29T00:00:00",
          "xref": "x",
          "y": 1720289.4571712718,
          "yref": "y"
         },
         {
          "align": "center",
          "arrowcolor": "#636363",
          "arrowhead": 2,
          "arrowsize": 1,
          "arrowwidth": 2,
          "ax": 20,
          "ay": 100,
          "bgcolor": "#ff7f0e",
          "bordercolor": "#c7c7c7",
          "borderpad": 4,
          "borderwidth": 2,
          "font": {
           "color": "#ffffff",
           "family": "Courier New, monospace",
           "size": 12
          },
          "opacity": 0.65,
          "showarrow": true,
          "text": "NATIONAL SERVICE PRO: -5,310",
          "x": "2024-02-01T00:00:00",
          "xref": "x",
          "y": 1721561.9786673875,
          "yref": "y"
         },
         {
          "align": "center",
          "arrowcolor": "#636363",
          "arrowhead": 2,
          "arrowsize": 1,
          "arrowwidth": 2,
          "ax": 20,
          "ay": -50,
          "bgcolor": "#ff7f0e",
          "bordercolor": "#c7c7c7",
          "borderpad": 4,
          "borderwidth": 2,
          "font": {
           "color": "#ffffff",
           "family": "Courier New, monospace",
           "size": 12
          },
          "opacity": 0.65,
          "showarrow": true,
          "text": "NATIONAL SERVICE PRO: -4,600",
          "x": "2024-02-13T00:00:00",
          "xref": "x",
          "y": 1716421.667930292,
          "yref": "y"
         },
         {
          "align": "center",
          "arrowcolor": "#636363",
          "arrowhead": 2,
          "arrowsize": 1,
          "arrowwidth": 2,
          "ax": 20,
          "ay": 50,
          "bgcolor": "#ff7f0e",
          "bordercolor": "#c7c7c7",
          "borderpad": 4,
          "borderwidth": 2,
          "font": {
           "color": "#ffffff",
           "family": "Courier New, monospace",
           "size": 12
          },
          "opacity": 0.65,
          "showarrow": true,
          "text": "TREE OF LIFE: -1,445<br>AUTONATION TOYOTA: -1,320",
          "x": "2024-04-01T00:00:00",
          "xref": "x",
          "y": 1857719.0547093179,
          "yref": "y"
         },
         {
          "align": "center",
          "arrowcolor": "#636363",
          "arrowhead": 2,
          "arrowsize": 1,
          "arrowwidth": 2,
          "ax": 20,
          "ay": -100,
          "bgcolor": "#ff7f0e",
          "bordercolor": "#c7c7c7",
          "borderpad": 4,
          "borderwidth": 2,
          "font": {
           "color": "#ffffff",
           "family": "Courier New, monospace",
           "size": 12
          },
          "opacity": 0.65,
          "showarrow": true,
          "text": "TREE OF LIFE: -1,445",
          "x": "2024-06-03T00:00:00",
          "xref": "x",
          "y": 1881602.38634033,
          "yref": "y"
         },
         {
          "align": "center",
          "arrowcolor": "#636363",
          "arrowhead": 2,
          "arrowsize": 1,
          "arrowwidth": 2,
          "ax": 20,
          "ay": 100,
          "bgcolor": "#ff7f0e",
          "bordercolor": "#c7c7c7",
          "borderpad": 4,
          "borderwidth": 2,
          "font": {
           "color": "#ffffff",
           "family": "Courier New, monospace",
           "size": 12
          },
          "opacity": 0.65,
          "showarrow": true,
          "text": "PROGRESSIVE INSURANC: -1,517",
          "x": "2024-07-31T00:00:00",
          "xref": "x",
          "y": 1943115.7656131687,
          "yref": "y"
         },
         {
          "align": "center",
          "arrowcolor": "#636363",
          "arrowhead": 2,
          "arrowsize": 1,
          "arrowwidth": 2,
          "ax": 20,
          "ay": 50,
          "bgcolor": "#ff7f0e",
          "bordercolor": "#c7c7c7",
          "borderpad": 4,
          "borderwidth": 2,
          "font": {
           "color": "#ffffff",
           "family": "Courier New, monospace",
           "size": 12
          },
          "opacity": 0.65,
          "showarrow": true,
          "text": "TREE OF LIFE: -1,183",
          "x": "2024-09-03T00:00:00",
          "xref": "x",
          "y": 1939433.5167701868,
          "yref": "y"
         },
         {
          "align": "center",
          "arrowcolor": "#636363",
          "arrowhead": 2,
          "arrowsize": 1,
          "arrowwidth": 2,
          "ax": 20,
          "ay": 100,
          "bgcolor": "#ff7f0e",
          "bordercolor": "#c7c7c7",
          "borderpad": 4,
          "borderwidth": 2,
          "font": {
           "color": "#ffffff",
           "family": "Courier New, monospace",
           "size": 12
          },
          "opacity": 0.65,
          "showarrow": true,
          "text": "OQBC ACCOUNTING: -1,503",
          "x": "2024-09-04T00:00:00",
          "xref": "x",
          "y": 1935510.1599780761,
          "yref": "y"
         },
         {
          "align": "center",
          "arrowcolor": "#636363",
          "arrowhead": 2,
          "arrowsize": 1,
          "arrowwidth": 2,
          "ax": 20,
          "ay": -100,
          "bgcolor": "#ff7f0e",
          "bordercolor": "#c7c7c7",
          "borderpad": 4,
          "borderwidth": 2,
          "font": {
           "color": "#ffffff",
           "family": "Courier New, monospace",
           "size": 12
          },
          "opacity": 0.65,
          "showarrow": true,
          "text": "BROWARD PROPERTY TAX: -23,380",
          "x": "2024-12-02T00:00:00",
          "xref": "x",
          "y": 1995519.0192822986,
          "yref": "y"
         }
        ],
        "margin": {
         "t": 50
        },
        "template": {
         "data": {
          "bar": [
           {
            "error_x": {
             "color": "#2a3f5f"
            },
            "error_y": {
             "color": "#2a3f5f"
            },
            "marker": {
             "line": {
              "color": "#E5ECF6",
              "width": 0.5
             },
             "pattern": {
              "fillmode": "overlay",
              "size": 10,
              "solidity": 0.2
             }
            },
            "type": "bar"
           }
          ],
          "barpolar": [
           {
            "marker": {
             "line": {
              "color": "#E5ECF6",
              "width": 0.5
             },
             "pattern": {
              "fillmode": "overlay",
              "size": 10,
              "solidity": 0.2
             }
            },
            "type": "barpolar"
           }
          ],
          "carpet": [
           {
            "aaxis": {
             "endlinecolor": "#2a3f5f",
             "gridcolor": "white",
             "linecolor": "white",
             "minorgridcolor": "white",
             "startlinecolor": "#2a3f5f"
            },
            "baxis": {
             "endlinecolor": "#2a3f5f",
             "gridcolor": "white",
             "linecolor": "white",
             "minorgridcolor": "white",
             "startlinecolor": "#2a3f5f"
            },
            "type": "carpet"
           }
          ],
          "choropleth": [
           {
            "colorbar": {
             "outlinewidth": 0,
             "ticks": ""
            },
            "type": "choropleth"
           }
          ],
          "contour": [
           {
            "colorbar": {
             "outlinewidth": 0,
             "ticks": ""
            },
            "colorscale": [
             [
              0,
              "#0d0887"
             ],
             [
              0.1111111111111111,
              "#46039f"
             ],
             [
              0.2222222222222222,
              "#7201a8"
             ],
             [
              0.3333333333333333,
              "#9c179e"
             ],
             [
              0.4444444444444444,
              "#bd3786"
             ],
             [
              0.5555555555555556,
              "#d8576b"
             ],
             [
              0.6666666666666666,
              "#ed7953"
             ],
             [
              0.7777777777777778,
              "#fb9f3a"
             ],
             [
              0.8888888888888888,
              "#fdca26"
             ],
             [
              1,
              "#f0f921"
             ]
            ],
            "type": "contour"
           }
          ],
          "contourcarpet": [
           {
            "colorbar": {
             "outlinewidth": 0,
             "ticks": ""
            },
            "type": "contourcarpet"
           }
          ],
          "heatmap": [
           {
            "colorbar": {
             "outlinewidth": 0,
             "ticks": ""
            },
            "colorscale": [
             [
              0,
              "#0d0887"
             ],
             [
              0.1111111111111111,
              "#46039f"
             ],
             [
              0.2222222222222222,
              "#7201a8"
             ],
             [
              0.3333333333333333,
              "#9c179e"
             ],
             [
              0.4444444444444444,
              "#bd3786"
             ],
             [
              0.5555555555555556,
              "#d8576b"
             ],
             [
              0.6666666666666666,
              "#ed7953"
             ],
             [
              0.7777777777777778,
              "#fb9f3a"
             ],
             [
              0.8888888888888888,
              "#fdca26"
             ],
             [
              1,
              "#f0f921"
             ]
            ],
            "type": "heatmap"
           }
          ],
          "heatmapgl": [
           {
            "colorbar": {
             "outlinewidth": 0,
             "ticks": ""
            },
            "colorscale": [
             [
              0,
              "#0d0887"
             ],
             [
              0.1111111111111111,
              "#46039f"
             ],
             [
              0.2222222222222222,
              "#7201a8"
             ],
             [
              0.3333333333333333,
              "#9c179e"
             ],
             [
              0.4444444444444444,
              "#bd3786"
             ],
             [
              0.5555555555555556,
              "#d8576b"
             ],
             [
              0.6666666666666666,
              "#ed7953"
             ],
             [
              0.7777777777777778,
              "#fb9f3a"
             ],
             [
              0.8888888888888888,
              "#fdca26"
             ],
             [
              1,
              "#f0f921"
             ]
            ],
            "type": "heatmapgl"
           }
          ],
          "histogram": [
           {
            "marker": {
             "pattern": {
              "fillmode": "overlay",
              "size": 10,
              "solidity": 0.2
             }
            },
            "type": "histogram"
           }
          ],
          "histogram2d": [
           {
            "colorbar": {
             "outlinewidth": 0,
             "ticks": ""
            },
            "colorscale": [
             [
              0,
              "#0d0887"
             ],
             [
              0.1111111111111111,
              "#46039f"
             ],
             [
              0.2222222222222222,
              "#7201a8"
             ],
             [
              0.3333333333333333,
              "#9c179e"
             ],
             [
              0.4444444444444444,
              "#bd3786"
             ],
             [
              0.5555555555555556,
              "#d8576b"
             ],
             [
              0.6666666666666666,
              "#ed7953"
             ],
             [
              0.7777777777777778,
              "#fb9f3a"
             ],
             [
              0.8888888888888888,
              "#fdca26"
             ],
             [
              1,
              "#f0f921"
             ]
            ],
            "type": "histogram2d"
           }
          ],
          "histogram2dcontour": [
           {
            "colorbar": {
             "outlinewidth": 0,
             "ticks": ""
            },
            "colorscale": [
             [
              0,
              "#0d0887"
             ],
             [
              0.1111111111111111,
              "#46039f"
             ],
             [
              0.2222222222222222,
              "#7201a8"
             ],
             [
              0.3333333333333333,
              "#9c179e"
             ],
             [
              0.4444444444444444,
              "#bd3786"
             ],
             [
              0.5555555555555556,
              "#d8576b"
             ],
             [
              0.6666666666666666,
              "#ed7953"
             ],
             [
              0.7777777777777778,
              "#fb9f3a"
             ],
             [
              0.8888888888888888,
              "#fdca26"
             ],
             [
              1,
              "#f0f921"
             ]
            ],
            "type": "histogram2dcontour"
           }
          ],
          "mesh3d": [
           {
            "colorbar": {
             "outlinewidth": 0,
             "ticks": ""
            },
            "type": "mesh3d"
           }
          ],
          "parcoords": [
           {
            "line": {
             "colorbar": {
              "outlinewidth": 0,
              "ticks": ""
             }
            },
            "type": "parcoords"
           }
          ],
          "pie": [
           {
            "automargin": true,
            "type": "pie"
           }
          ],
          "scatter": [
           {
            "fillpattern": {
             "fillmode": "overlay",
             "size": 10,
             "solidity": 0.2
            },
            "type": "scatter"
           }
          ],
          "scatter3d": [
           {
            "line": {
             "colorbar": {
              "outlinewidth": 0,
              "ticks": ""
             }
            },
            "marker": {
             "colorbar": {
              "outlinewidth": 0,
              "ticks": ""
             }
            },
            "type": "scatter3d"
           }
          ],
          "scattercarpet": [
           {
            "marker": {
             "colorbar": {
              "outlinewidth": 0,
              "ticks": ""
             }
            },
            "type": "scattercarpet"
           }
          ],
          "scattergeo": [
           {
            "marker": {
             "colorbar": {
              "outlinewidth": 0,
              "ticks": ""
             }
            },
            "type": "scattergeo"
           }
          ],
          "scattergl": [
           {
            "marker": {
             "colorbar": {
              "outlinewidth": 0,
              "ticks": ""
             }
            },
            "type": "scattergl"
           }
          ],
          "scattermapbox": [
           {
            "marker": {
             "colorbar": {
              "outlinewidth": 0,
              "ticks": ""
             }
            },
            "type": "scattermapbox"
           }
          ],
          "scatterpolar": [
           {
            "marker": {
             "colorbar": {
              "outlinewidth": 0,
              "ticks": ""
             }
            },
            "type": "scatterpolar"
           }
          ],
          "scatterpolargl": [
           {
            "marker": {
             "colorbar": {
              "outlinewidth": 0,
              "ticks": ""
             }
            },
            "type": "scatterpolargl"
           }
          ],
          "scatterternary": [
           {
            "marker": {
             "colorbar": {
              "outlinewidth": 0,
              "ticks": ""
             }
            },
            "type": "scatterternary"
           }
          ],
          "surface": [
           {
            "colorbar": {
             "outlinewidth": 0,
             "ticks": ""
            },
            "colorscale": [
             [
              0,
              "#0d0887"
             ],
             [
              0.1111111111111111,
              "#46039f"
             ],
             [
              0.2222222222222222,
              "#7201a8"
             ],
             [
              0.3333333333333333,
              "#9c179e"
             ],
             [
              0.4444444444444444,
              "#bd3786"
             ],
             [
              0.5555555555555556,
              "#d8576b"
             ],
             [
              0.6666666666666666,
              "#ed7953"
             ],
             [
              0.7777777777777778,
              "#fb9f3a"
             ],
             [
              0.8888888888888888,
              "#fdca26"
             ],
             [
              1,
              "#f0f921"
             ]
            ],
            "type": "surface"
           }
          ],
          "table": [
           {
            "cells": {
             "fill": {
              "color": "#EBF0F8"
             },
             "line": {
              "color": "white"
             }
            },
            "header": {
             "fill": {
              "color": "#C8D4E3"
             },
             "line": {
              "color": "white"
             }
            },
            "type": "table"
           }
          ]
         },
         "layout": {
          "annotationdefaults": {
           "arrowcolor": "#2a3f5f",
           "arrowhead": 0,
           "arrowwidth": 1
          },
          "autotypenumbers": "strict",
          "coloraxis": {
           "colorbar": {
            "outlinewidth": 0,
            "ticks": ""
           }
          },
          "colorscale": {
           "diverging": [
            [
             0,
             "#8e0152"
            ],
            [
             0.1,
             "#c51b7d"
            ],
            [
             0.2,
             "#de77ae"
            ],
            [
             0.3,
             "#f1b6da"
            ],
            [
             0.4,
             "#fde0ef"
            ],
            [
             0.5,
             "#f7f7f7"
            ],
            [
             0.6,
             "#e6f5d0"
            ],
            [
             0.7,
             "#b8e186"
            ],
            [
             0.8,
             "#7fbc41"
            ],
            [
             0.9,
             "#4d9221"
            ],
            [
             1,
             "#276419"
            ]
           ],
           "sequential": [
            [
             0,
             "#0d0887"
            ],
            [
             0.1111111111111111,
             "#46039f"
            ],
            [
             0.2222222222222222,
             "#7201a8"
            ],
            [
             0.3333333333333333,
             "#9c179e"
            ],
            [
             0.4444444444444444,
             "#bd3786"
            ],
            [
             0.5555555555555556,
             "#d8576b"
            ],
            [
             0.6666666666666666,
             "#ed7953"
            ],
            [
             0.7777777777777778,
             "#fb9f3a"
            ],
            [
             0.8888888888888888,
             "#fdca26"
            ],
            [
             1,
             "#f0f921"
            ]
           ],
           "sequentialminus": [
            [
             0,
             "#0d0887"
            ],
            [
             0.1111111111111111,
             "#46039f"
            ],
            [
             0.2222222222222222,
             "#7201a8"
            ],
            [
             0.3333333333333333,
             "#9c179e"
            ],
            [
             0.4444444444444444,
             "#bd3786"
            ],
            [
             0.5555555555555556,
             "#d8576b"
            ],
            [
             0.6666666666666666,
             "#ed7953"
            ],
            [
             0.7777777777777778,
             "#fb9f3a"
            ],
            [
             0.8888888888888888,
             "#fdca26"
            ],
            [
             1,
             "#f0f921"
            ]
           ]
          },
          "colorway": [
           "#636efa",
           "#EF553B",
           "#00cc96",
           "#ab63fa",
           "#FFA15A",
           "#19d3f3",
           "#FF6692",
           "#B6E880",
           "#FF97FF",
           "#FECB52"
          ],
          "font": {
           "color": "#2a3f5f"
          },
          "geo": {
           "bgcolor": "white",
           "lakecolor": "white",
           "landcolor": "#E5ECF6",
           "showlakes": true,
           "showland": true,
           "subunitcolor": "white"
          },
          "hoverlabel": {
           "align": "left"
          },
          "hovermode": "closest",
          "mapbox": {
           "style": "light"
          },
          "paper_bgcolor": "white",
          "plot_bgcolor": "#E5ECF6",
          "polar": {
           "angularaxis": {
            "gridcolor": "white",
            "linecolor": "white",
            "ticks": ""
           },
           "bgcolor": "#E5ECF6",
           "radialaxis": {
            "gridcolor": "white",
            "linecolor": "white",
            "ticks": ""
           }
          },
          "scene": {
           "xaxis": {
            "backgroundcolor": "#E5ECF6",
            "gridcolor": "white",
            "gridwidth": 2,
            "linecolor": "white",
            "showbackground": true,
            "ticks": "",
            "zerolinecolor": "white"
           },
           "yaxis": {
            "backgroundcolor": "#E5ECF6",
            "gridcolor": "white",
            "gridwidth": 2,
            "linecolor": "white",
            "showbackground": true,
            "ticks": "",
            "zerolinecolor": "white"
           },
           "zaxis": {
            "backgroundcolor": "#E5ECF6",
            "gridcolor": "white",
            "gridwidth": 2,
            "linecolor": "white",
            "showbackground": true,
            "ticks": "",
            "zerolinecolor": "white"
           }
          },
          "shapedefaults": {
           "line": {
            "color": "#2a3f5f"
           }
          },
          "ternary": {
           "aaxis": {
            "gridcolor": "white",
            "linecolor": "white",
            "ticks": ""
           },
           "baxis": {
            "gridcolor": "white",
            "linecolor": "white",
            "ticks": ""
           },
           "bgcolor": "#E5ECF6",
           "caxis": {
            "gridcolor": "white",
            "linecolor": "white",
            "ticks": ""
           }
          },
          "title": {
           "x": 0.05
          },
          "xaxis": {
           "automargin": true,
           "gridcolor": "white",
           "linecolor": "white",
           "ticks": "",
           "title": {
            "standoff": 15
           },
           "zerolinecolor": "white",
           "zerolinewidth": 2
          },
          "yaxis": {
           "automargin": true,
           "gridcolor": "white",
           "linecolor": "white",
           "ticks": "",
           "title": {
            "standoff": 15
           },
           "zerolinecolor": "white",
           "zerolinewidth": 2
          }
         }
        },
        "title": {
         "text": "Total Wealth"
        },
        "xaxis": {
         "title": {
          "text": "Date"
         }
        },
        "yaxis": {
         "title": {
          "text": "Currency"
         }
        }
       }
      }
     },
     "metadata": {},
     "output_type": "display_data"
    }
   ],
   "source": [
    "figure_manager.get_figure_timeseries(date_range=[datetime.today() - timedelta(days=365), datetime.today()], annotation_count=10)"
   ]
  }
 ],
 "metadata": {
  "kernelspec": {
   "display_name": "Python 3",
   "language": "python",
   "name": "python3"
  },
  "language_info": {
   "codemirror_mode": {
    "name": "ipython",
    "version": 3
   },
   "file_extension": ".py",
   "mimetype": "text/x-python",
   "name": "python",
   "nbconvert_exporter": "python",
   "pygments_lexer": "ipython3",
   "version": "3.13.1"
  }
 },
 "nbformat": 4,
 "nbformat_minor": 4
}
