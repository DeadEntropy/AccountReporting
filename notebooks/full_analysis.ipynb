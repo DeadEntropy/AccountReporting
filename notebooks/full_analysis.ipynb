{
 "cells": [
  {
   "cell_type": "code",
   "execution_count": null,
   "metadata": {
    "ExecuteTime": {
     "end_time": "2020-09-26T21:39:37.946985Z",
     "start_time": "2020-09-26T21:39:37.266980Z"
    }
   },
   "outputs": [],
   "source": [
    "from process import process, status\n",
    "from transforms import master_transform\n",
    "import pandas as pd\n",
    "import matplotlib\n",
    "pd.options.display.float_format = '{:,.2f}'.format\n",
    "import matplotlib.pyplot as plt\n",
    "import matplotlib.dates as mdates\n",
    "from matplotlib.dates import DateFormatter\n",
    "from IPython.core.display import display, HTML\n",
    "display(HTML(\"<style>.container { width:80% !important; }</style>\"))"
   ]
  },
  {
   "cell_type": "markdown",
   "metadata": {},
   "source": [
    "## Load and Aggregate All the Data"
   ]
  },
  {
   "cell_type": "code",
   "execution_count": null,
   "metadata": {
    "ExecuteTime": {
     "end_time": "2020-09-26T21:39:38.527706Z",
     "start_time": "2020-09-26T21:39:37.947941Z"
    }
   },
   "outputs": [],
   "source": [
    "mt = master_transform.Loader()\n",
    "df_raw = mt.load_all()"
   ]
  },
  {
   "cell_type": "markdown",
   "metadata": {},
   "source": [
    "## Process a Label the Data"
   ]
  },
  {
   "cell_type": "code",
   "execution_count": null,
   "metadata": {
    "ExecuteTime": {
     "end_time": "2020-09-26T21:39:41.005742Z",
     "start_time": "2020-09-26T21:39:38.528664Z"
    },
    "scrolled": false
   },
   "outputs": [],
   "source": [
    "pr = process.Process()\n",
    "df_process = pr.process(df_raw)\n",
    "pr.__del__()"
   ]
  },
  {
   "cell_type": "markdown",
   "metadata": {},
   "source": [
    "### Check for the last time the data was updated"
   ]
  },
  {
   "cell_type": "code",
   "execution_count": null,
   "metadata": {
    "ExecuteTime": {
     "end_time": "2020-09-26T21:39:41.064256Z",
     "start_time": "2020-09-26T21:39:41.006740Z"
    },
    "scrolled": false
   },
   "outputs": [],
   "source": [
    "st = status.LastUpdate()\n",
    "st.last_update(df_process)"
   ]
  },
  {
   "cell_type": "markdown",
   "metadata": {},
   "source": [
    "## Total Wealth Time Series"
   ]
  },
  {
   "cell_type": "code",
   "execution_count": null,
   "metadata": {
    "ExecuteTime": {
     "end_time": "2020-09-26T21:39:41.102113Z",
     "start_time": "2020-09-26T21:39:41.065211Z"
    }
   },
   "outputs": [],
   "source": [
    "piv_ccy = pd.DataFrame(pd.pivot_table(df_process, values='Amount', index=['Currency', 'Date'], columns=[], aggfunc=sum).to_records())\n",
    "piv = pd.DataFrame(pd.pivot_table(df_process, values='Amount', index=['Date'], columns=[], aggfunc=sum).to_records())"
   ]
  },
  {
   "cell_type": "code",
   "execution_count": null,
   "metadata": {
    "ExecuteTime": {
     "end_time": "2020-09-26T21:39:41.291606Z",
     "start_time": "2020-09-26T21:39:41.103111Z"
    }
   },
   "outputs": [],
   "source": [
    "fig, ax = plt.subplots(figsize=(20,10))\n",
    "for ccy in piv_ccy.Currency.unique():\n",
    "    ax.plot(piv_ccy[piv_ccy.Currency == ccy]['Date'], piv_ccy[piv_ccy.Currency == ccy]['Amount'].cumsum(), label = ccy)\n",
    "\n",
    "ax.legend()\n",
    "ax.grid()\n",
    "ax.xaxis.set_major_formatter(mdates.DateFormatter(\"%Y-%m\"))\n",
    "ax.xaxis.set_minor_formatter(mdates.DateFormatter(\"%Y-%m\"))"
   ]
  },
  {
   "cell_type": "markdown",
   "metadata": {},
   "source": [
    "### Wealth Breakdown by Asset"
   ]
  },
  {
   "cell_type": "code",
   "execution_count": null,
   "metadata": {
    "ExecuteTime": {
     "end_time": "2020-09-26T21:39:41.311976Z",
     "start_time": "2020-09-26T21:39:41.292991Z"
    }
   },
   "outputs": [],
   "source": [
    "pd.DataFrame(pd.pivot_table(df_process, values='Amount', index=['AccountType', 'Currency'], columns=[], aggfunc=sum).to_records())\\\n",
    "        .sort_values('Amount', ascending=False, ignore_index=True)"
   ]
  },
  {
   "cell_type": "markdown",
   "metadata": {},
   "source": [
    "### Wealth Breakdown by Account"
   ]
  },
  {
   "cell_type": "code",
   "execution_count": null,
   "metadata": {
    "ExecuteTime": {
     "end_time": "2020-09-26T21:39:41.337870Z",
     "start_time": "2020-09-26T21:39:41.314932Z"
    }
   },
   "outputs": [],
   "source": [
    "pd.DataFrame(pd.pivot_table(df_process, values='Amount', index=['AccountType', 'Currency', 'Account'], columns=[], aggfunc=sum).to_records())"
   ]
  },
  {
   "cell_type": "markdown",
   "metadata": {},
   "source": [
    "## Spending Split"
   ]
  },
  {
   "cell_type": "code",
   "execution_count": null,
   "metadata": {
    "ExecuteTime": {
     "end_time": "2020-09-26T21:39:41.448112Z",
     "start_time": "2020-09-26T21:39:41.339864Z"
    }
   },
   "outputs": [],
   "source": [
    "import plotly.express as px\n",
    "df_expenses = df_process[(df_process.FullType != 'Savings') \n",
    "                         & (df_process.YearToDate < 1)  \n",
    "                         & (df_process.FacingAccount == '')  \n",
    "                         & (df_process.Amount < 0) \n",
    "                         & (df_process.FullType != 'Intra-Account Transfert') \n",
    "                         & (df_process.Currency == 'GBP')]\n",
    "df_expenses.Amount = (-1) * df_expenses.Amount"
   ]
  },
  {
   "cell_type": "code",
   "execution_count": null,
   "metadata": {
    "ExecuteTime": {
     "end_time": "2020-09-26T21:39:42.304941Z",
     "start_time": "2020-09-26T21:39:41.449069Z"
    }
   },
   "outputs": [],
   "source": [
    "fig = px.sunburst(df_expenses[df_expenses.Account == '20-26-77 13105881'], path=['FullType', 'MemoMapped'], values='Amount')\n",
    "fig.show()"
   ]
  },
  {
   "cell_type": "code",
   "execution_count": null,
   "metadata": {
    "ExecuteTime": {
     "end_time": "2020-09-26T21:39:42.370648Z",
     "start_time": "2020-09-26T21:39:42.305862Z"
    }
   },
   "outputs": [],
   "source": [
    "fig = px.sunburst(df_expenses[df_expenses.Account == '30-92-90 34061868'], path=['FullSubType', 'MemoMapped'], values='Amount')\n",
    "fig.show()"
   ]
  },
  {
   "cell_type": "code",
   "execution_count": null,
   "metadata": {
    "ExecuteTime": {
     "end_time": "2020-09-26T21:39:42.450405Z",
     "start_time": "2020-09-26T21:39:42.371616Z"
    }
   },
   "outputs": [],
   "source": [
    "fig = px.sunburst(df_expenses, path=['FullType', 'MemoMapped'], values='Amount')\n",
    "fig.show()"
   ]
  },
  {
   "cell_type": "code",
   "execution_count": null,
   "metadata": {
    "ExecuteTime": {
     "end_time": "2020-09-26T21:39:42.467391Z",
     "start_time": "2020-09-26T21:39:42.451362Z"
    }
   },
   "outputs": [],
   "source": [
    "pd.DataFrame(pd.pivot_table(df_process, values='Amount', index=['AccountType', 'Account'], columns=[], aggfunc=sum).to_records())\\\n",
    ".to_csv('account_wealth.csv', index=False)"
   ]
  },
  {
   "cell_type": "code",
   "execution_count": null,
   "metadata": {
    "ExecuteTime": {
     "end_time": "2020-09-26T21:39:44.252095Z",
     "start_time": "2020-09-26T21:39:42.468365Z"
    }
   },
   "outputs": [],
   "source": [
    "per_day = df_process.set_index('Date').groupby(pd.Grouper(freq='d'))['Amount'].sum()\n",
    "df_process['MemoDetailed'] = df_process.MemoMapped + \": \" + df_process.Amount.map('{:,.0f}'.format)\n",
    "\n",
    "df_agg = df_process[df_process.FacingAccount == ''].groupby(['Date', 'MemoDetailed']).agg({'Amount':sum})\n",
    "g = df_agg['Amount'].groupby(level=0, group_keys=False)\n",
    "res = g.apply(lambda x: x.sort_values(ascending=False))\n",
    "per_day_label =pd.DataFrame(res.to_frame().to_records()).groupby(pd.Grouper(key='Date', freq='d'))['MemoDetailed']\\\n",
    "            .apply(lambda x: '<br>'.join(x.unique()))"
   ]
  },
  {
   "cell_type": "code",
   "execution_count": null,
   "metadata": {
    "ExecuteTime": {
     "end_time": "2020-09-26T21:39:44.397724Z",
     "start_time": "2020-09-26T21:39:44.258080Z"
    }
   },
   "outputs": [],
   "source": [
    "import plotly.graph_objects as go\n",
    "import numpy as np\n",
    "fig = go.Figure(data=go.Scatter(x=per_day.index, y=np.cumsum(per_day.values), hovertext=per_day_label))\n",
    "\n",
    "fig.update_layout(\n",
    "    title=\"Total Wealth\",\n",
    "    xaxis_title=\"Date\")\n",
    "\n",
    "fig.show()"
   ]
  },
  {
   "cell_type": "markdown",
   "metadata": {},
   "source": [
    "## Break down the last year"
   ]
  },
  {
   "cell_type": "code",
   "execution_count": null,
   "metadata": {
    "ExecuteTime": {
     "end_time": "2020-09-26T21:39:44.459600Z",
     "start_time": "2020-09-26T21:39:44.398721Z"
    }
   },
   "outputs": [],
   "source": [
    "pd.pivot_table(df_process[(df_process.YearToDate < 1) & (df_process.FacingAccount == '') & (df_process.Currency == 'GBP')], \n",
    "               values='Amount', \n",
    "               index=['FullType'], \n",
    "               columns=['AdjustedYear', 'AdjustedMonth'], \n",
    "               aggfunc=sum,\n",
    "               margins=True,\n",
    "               fill_value = 0).sort_values('All', ascending=False, axis=0).drop('All', axis=0)"
   ]
  },
  {
   "cell_type": "markdown",
   "metadata": {},
   "source": [
    "## Project Wealth"
   ]
  },
  {
   "cell_type": "code",
   "execution_count": null,
   "metadata": {
    "ExecuteTime": {
     "end_time": "2020-09-26T21:39:44.466584Z",
     "start_time": "2020-09-26T21:39:44.460555Z"
    }
   },
   "outputs": [],
   "source": [
    "from projection import projection as pj"
   ]
  },
  {
   "cell_type": "code",
   "execution_count": null,
   "metadata": {
    "ExecuteTime": {
     "end_time": "2020-09-26T21:39:44.552352Z",
     "start_time": "2020-09-26T21:39:44.467537Z"
    }
   },
   "outputs": [],
   "source": [
    "r=range(0, 11)\n",
    "(w, w_low, w_up, w_low_ex, w_up_ex) = pj.project_full(pd.read_csv('account_wealth_projection.csv'), r)"
   ]
  },
  {
   "cell_type": "code",
   "execution_count": null,
   "metadata": {
    "ExecuteTime": {
     "end_time": "2020-09-26T21:39:44.701910Z",
     "start_time": "2020-09-26T21:39:44.553308Z"
    }
   },
   "outputs": [],
   "source": [
    "fig, ax = plt.subplots(figsize=(15,7))\n",
    "ax.plot(piv['Date'], piv['Amount'].cumsum())\n",
    "\n",
    "ax.plot([piv['Date'].values[-1] + np.timedelta64(365*i,'D') for i in r], w, '-o', color='b', label='Expected Wealth')\n",
    "ax.fill_between([piv['Date'].values[-1] + np.timedelta64(365*i,'D') for i in r], w_low, w_up, color='b', alpha=.2, label='Less Likely')\n",
    "ax.fill_between([piv['Date'].values[-1] + np.timedelta64(365*i,'D') for i in r], w_low_ex, w_up_ex, color='b', alpha=.1, label='Most Likely')\n",
    "\n",
    "ax.grid()\n",
    "ax.xaxis.set_major_formatter(mdates.DateFormatter(\"%Y-%m\"))\n",
    "ax.xaxis.set_minor_formatter(mdates.DateFormatter(\"%Y-%m\"))"
   ]
  },
  {
   "cell_type": "markdown",
   "metadata": {},
   "source": [
    "## Inter-Account Flows"
   ]
  },
  {
   "cell_type": "code",
   "execution_count": null,
   "metadata": {
    "ExecuteTime": {
     "end_time": "2020-09-26T21:39:44.717868Z",
     "start_time": "2020-09-26T21:39:44.703906Z"
    }
   },
   "outputs": [],
   "source": [
    "df_internal = df_process[(df_process.FacingAccount != '') & (df_process.Amount > 1000) & (df_process.YearToDate < 5)]\n",
    "df_internal = pd.DataFrame(pd.pivot_table(df_internal, values='Amount', index=['Account', 'FacingAccount'], columns=[], aggfunc=sum).to_records())"
   ]
  },
  {
   "cell_type": "code",
   "execution_count": null,
   "metadata": {
    "ExecuteTime": {
     "end_time": "2020-09-26T21:39:44.724850Z",
     "start_time": "2020-09-26T21:39:44.718864Z"
    }
   },
   "outputs": [],
   "source": [
    "map_list = list(set(sorted(list(set(df_internal.Account.values)) + list(set(df_internal.FacingAccount.values)))))"
   ]
  },
  {
   "cell_type": "code",
   "execution_count": null,
   "metadata": {
    "ExecuteTime": {
     "end_time": "2020-09-26T21:39:44.764784Z",
     "start_time": "2020-09-26T21:39:44.726844Z"
    },
    "scrolled": false
   },
   "outputs": [],
   "source": [
    "import plotly.graph_objects as go\n",
    "# override gray link colors with 'source' colors\n",
    "opacity = 0.4\n",
    "\n",
    "\n",
    "fig = go.Figure(data=[go.Sankey(\n",
    "    valueformat = \".0f\",\n",
    "    valuesuffix = \"£\",\n",
    "    # Define nodes\n",
    "    node = dict(\n",
    "      pad = 15,\n",
    "      thickness = 15,\n",
    "      line = dict(color = \"black\", width = 0.5),\n",
    "      label =  map_list,\n",
    "    ),\n",
    "    # Add links\n",
    "    link = dict(\n",
    "      source =  [map_list.index(s) for s in df_internal['Account'].values],\n",
    "      target =  [map_list.index(s) for s in df_internal['FacingAccount'].values],\n",
    "      value =  df_internal['Amount']\n",
    "))])\n",
    "\n",
    "fig.update_layout(font_size=10)\n",
    "fig.show()"
   ]
  }
 ],
 "metadata": {
  "kernelspec": {
   "display_name": "Python 3",
   "language": "python",
   "name": "python3"
  },
  "language_info": {
   "codemirror_mode": {
    "name": "ipython",
    "version": 3
   },
   "file_extension": ".py",
   "mimetype": "text/x-python",
   "name": "python",
   "nbconvert_exporter": "python",
   "pygments_lexer": "ipython3",
   "version": "3.8.2"
  }
 },
 "nbformat": 4,
 "nbformat_minor": 4
}
