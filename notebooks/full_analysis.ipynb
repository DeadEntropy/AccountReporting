{
 "cells": [
  {
   "cell_type": "code",
   "execution_count": null,
   "metadata": {},
   "outputs": [],
   "source": [
    "from process import process, status\n",
    "from transforms import master_transform\n",
    "import pandas as pd\n",
    "import matplotlib\n",
    "pd.options.display.float_format = '{:,.2f}'.format\n",
    "import matplotlib.pyplot as plt\n",
    "import matplotlib.dates as mdates\n",
    "from matplotlib.dates import DateFormatter"
   ]
  },
  {
   "cell_type": "markdown",
   "metadata": {},
   "source": [
    "## Load and Aggregate All the Data"
   ]
  },
  {
   "cell_type": "code",
   "execution_count": null,
   "metadata": {},
   "outputs": [],
   "source": [
    "mt = master_transform.Loader()\n",
    "df_raw = mt.load_all()"
   ]
  },
  {
   "cell_type": "markdown",
   "metadata": {},
   "source": [
    "## Process a Label the Data"
   ]
  },
  {
   "cell_type": "code",
   "execution_count": null,
   "metadata": {},
   "outputs": [],
   "source": [
    "pr = process.Process()\n",
    "df_process, map_missing, type_missing = pr.process(df_raw)"
   ]
  },
  {
   "cell_type": "markdown",
   "metadata": {},
   "source": [
    "### Check for the last time the data was updated"
   ]
  },
  {
   "cell_type": "code",
   "execution_count": null,
   "metadata": {},
   "outputs": [],
   "source": [
    "st = status.LastUpdate()\n",
    "df_lu = st.last_update(df_process)"
   ]
  },
  {
   "cell_type": "code",
   "execution_count": null,
   "metadata": {},
   "outputs": [],
   "source": [
    "piv = pd.DataFrame(pd.pivot_table(df_process, values='Amount', index=['Date'], columns=[], aggfunc=sum).to_records())"
   ]
  },
  {
   "cell_type": "code",
   "execution_count": null,
   "metadata": {},
   "outputs": [],
   "source": [
    "fig, ax = plt.subplots(figsize=(20,10))\n",
    "ax.plot(piv['Date'], piv['Amount'].cumsum())\n",
    "\n",
    "ax.grid()\n",
    "ax.xaxis.set_major_formatter(mdates.DateFormatter(\"%Y-%m\"))\n",
    "ax.xaxis.set_minor_formatter(mdates.DateFormatter(\"%Y-%m\"))"
   ]
  },
  {
   "cell_type": "code",
   "execution_count": null,
   "metadata": {},
   "outputs": [],
   "source": [
    "pd.DataFrame(pd.pivot_table(df_process, values='Amount', index=['Account'], columns=[], aggfunc=sum).to_records()).sort_values('Amount')"
   ]
  },
  {
   "cell_type": "code",
   "execution_count": null,
   "metadata": {},
   "outputs": [],
   "source": [
    "per_day = df_process.set_index('Date').groupby(pd.Grouper(freq='d'))['Amount'].sum()\n",
    "df_process['MemoDetailed'] = df_process.MemoMapped + \": \" + df_process.Amount.map('{:,.0f}'.format)\n",
    "\n",
    "df_agg = df_process.groupby(['Date', 'MemoDetailed']).agg({'Amount':sum})\n",
    "g = df_agg['Amount'].groupby(level=0, group_keys=False)\n",
    "res = g.apply(lambda x: x.sort_values(ascending=False))\n",
    "per_day_label =pd.DataFrame(res.to_frame().to_records()).groupby(pd.Grouper(key='Date', freq='d'))['MemoDetailed'].apply(lambda x: '<br>'.join(x.unique()))"
   ]
  },
  {
   "cell_type": "code",
   "execution_count": null,
   "metadata": {},
   "outputs": [],
   "source": [
    "import plotly.graph_objects as go\n",
    "import numpy as np\n",
    "fig = go.Figure(data=go.Scatter(x=per_day.index, y=np.cumsum(per_day.values), hovertext=per_day_label))\n",
    "\n",
    "fig.update_layout(\n",
    "    title=\"Total Wealth\",\n",
    "    xaxis_title=\"Date\"\n",
    ")\n",
    "#fig.update_yaxes(automargin=True)\n",
    "fig.show()"
   ]
  }
 ],
 "metadata": {
  "kernelspec": {
   "display_name": "Python 3",
   "language": "python",
   "name": "python3"
  },
  "language_info": {
   "codemirror_mode": {
    "name": "ipython",
    "version": 3
   },
   "file_extension": ".py",
   "mimetype": "text/x-python",
   "name": "python",
   "nbconvert_exporter": "python",
   "pygments_lexer": "ipython3",
   "version": "3.8.2"
  }
 },
 "nbformat": 4,
 "nbformat_minor": 4
}
