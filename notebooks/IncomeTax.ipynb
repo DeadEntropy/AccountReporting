{
 "cells": [
  {
   "cell_type": "code",
   "execution_count": null,
   "metadata": {
    "ExecuteTime": {
     "end_time": "2021-08-22T20:44:57.715023Z",
     "start_time": "2021-08-22T20:44:57.161464Z"
    }
   },
   "outputs": [],
   "source": [
    "from bkanalysis.tax import tax\n",
    "import pandas as pd"
   ]
  },
  {
   "cell_type": "code",
   "execution_count": null,
   "metadata": {
    "ExecuteTime": {
     "end_time": "2021-08-22T20:44:57.731056Z",
     "start_time": "2021-08-22T20:44:57.717024Z"
    }
   },
   "outputs": [],
   "source": [
    "payslips = pd.read_csv(r'D:\\NicoFolder\\BankAccount\\Tax\\2019-2020.csv').fillna(0)\n",
    "\n",
    "total_taxable = payslips.Bonus.sum() + payslips.Salary.sum()\n",
    "tax_already_paid = payslips['Tax Paid'].sum()\n",
    "print(f\"Tax due for 2019-2020: {tax.compute_uk_tax_return(total_taxable, tax_already_paid, tax_year='2020')[0]:,.0f}£\")"
   ]
  },
  {
   "cell_type": "code",
   "execution_count": null,
   "metadata": {
    "ExecuteTime": {
     "end_time": "2021-08-22T20:44:57.747056Z",
     "start_time": "2021-08-22T20:44:57.733057Z"
    }
   },
   "outputs": [],
   "source": [
    "payslips = pd.read_csv(r'D:\\NicoFolder\\BankAccount\\Tax\\2020-2021.csv').fillna(0)\n",
    "\n",
    "total_taxable = payslips.Bonus.sum() + payslips.Salary.sum()\n",
    "tax_already_paid = payslips['Tax Paid'].sum()\n",
    "print(f\"Tax due for 2019-2020: {tax.compute_uk_tax_return(total_taxable, tax_already_paid, tax_year='2020')[0]:,.0f}£\")"
   ]
  },
  {
   "cell_type": "code",
   "execution_count": null,
   "metadata": {
    "ExecuteTime": {
     "end_time": "2021-08-22T20:44:57.793061Z",
     "start_time": "2021-08-22T20:44:57.749058Z"
    }
   },
   "outputs": [],
   "source": [
    "tax_already_paid"
   ]
  }
 ],
 "metadata": {
  "kernelspec": {
   "display_name": "Python 3",
   "language": "python",
   "name": "python3"
  },
  "language_info": {
   "codemirror_mode": {
    "name": "ipython",
    "version": 3
   },
   "file_extension": ".py",
   "mimetype": "text/x-python",
   "name": "python",
   "nbconvert_exporter": "python",
   "pygments_lexer": "ipython3",
   "version": "3.8.2"
  }
 },
 "nbformat": 4,
 "nbformat_minor": 4
}
