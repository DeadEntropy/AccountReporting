{
 "cells": [
  {
   "cell_type": "code",
   "execution_count": null,
   "metadata": {
    "ExecuteTime": {
     "end_time": "2021-04-24T10:05:18.091828Z",
     "start_time": "2021-04-24T10:05:17.010010Z"
    }
   },
   "outputs": [],
   "source": [
    "from bkanalysis.tax import tax\n",
    "import pandas as pd"
   ]
  },
  {
   "cell_type": "code",
   "execution_count": null,
   "metadata": {
    "ExecuteTime": {
     "end_time": "2021-04-24T10:05:18.139204Z",
     "start_time": "2021-04-24T10:05:18.093828Z"
    }
   },
   "outputs": [],
   "source": [
    "payslips = pd.read_csv(r'D:\\NicoFolder\\BankAccount\\Tax\\2019-2020.csv').fillna(0)\n",
    "\n",
    "total_taxable = payslips.Bonus.sum() + payslips.Salary.sum()\n",
    "tax_already_paid = payslips['Tax Paid'].sum()\n",
    "print(f\"Tax due for 2019-2020: {tax.compute_uk_tax_return(total_taxable, tax_already_paid, tax_year='2020')[0]:,.0f}£\")"
   ]
  },
  {
   "cell_type": "code",
   "execution_count": null,
   "metadata": {
    "ExecuteTime": {
     "end_time": "2021-04-24T10:05:18.402810Z",
     "start_time": "2021-04-24T10:05:18.370248Z"
    }
   },
   "outputs": [],
   "source": [
    "payslips = pd.read_csv(r'D:\\NicoFolder\\BankAccount\\Tax\\2020-2021.csv').fillna(0)\n",
    "\n",
    "total_taxable = payslips.Bonus.sum() + payslips.Salary.sum()\n",
    "tax_already_paid = payslips['Tax Paid'].sum()\n",
    "print(f\"Tax due for 2019-2020: {tax.compute_uk_tax_return(total_taxable, tax_already_paid, tax_year='2020')[0]:,.0f}£\")"
   ]
  },
  {
   "cell_type": "code",
   "execution_count": null,
   "metadata": {
    "ExecuteTime": {
     "end_time": "2021-04-24T10:06:03.433339Z",
     "start_time": "2021-04-24T10:06:03.423791Z"
    }
   },
   "outputs": [],
   "source": [
    "tax_already_paid"
   ]
  }
 ],
 "metadata": {
  "kernelspec": {
   "display_name": "Python 3",
   "language": "python",
   "name": "python3"
  },
  "language_info": {
   "codemirror_mode": {
    "name": "ipython",
    "version": 3
   },
   "file_extension": ".py",
   "mimetype": "text/x-python",
   "name": "python",
   "nbconvert_exporter": "python",
   "pygments_lexer": "ipython3",
   "version": "3.8.2"
  }
 },
 "nbformat": 4,
 "nbformat_minor": 4
}
