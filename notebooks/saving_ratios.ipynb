{
 "cells": [
  {
   "cell_type": "code",
   "execution_count": null,
   "metadata": {
    "ExecuteTime": {
     "end_time": "2021-05-01T11:46:05.332285Z",
     "start_time": "2021-05-01T11:46:04.361788Z"
    }
   },
   "outputs": [],
   "source": [
    "from bkanalysis.ui import ui\n",
    "import pandas as pd\n",
    "import numpy as np\n",
    "pd.options.display.max_columns = None\n",
    "from datetime import datetime, timedelta"
   ]
  },
  {
   "cell_type": "code",
   "execution_count": null,
   "metadata": {
    "ExecuteTime": {
     "end_time": "2021-05-01T11:46:09.344821Z",
     "start_time": "2021-05-01T11:46:05.333276Z"
    }
   },
   "outputs": [],
   "source": [
    "df = ui.load(True)"
   ]
  },
  {
   "cell_type": "code",
   "execution_count": null,
   "metadata": {
    "ExecuteTime": {
     "end_time": "2021-05-01T11:46:10.645448Z",
     "start_time": "2021-05-01T11:46:09.346748Z"
    }
   },
   "outputs": [],
   "source": [
    "ui.project(df, 'GBP', 0, {})"
   ]
  },
  {
   "cell_type": "code",
   "execution_count": null,
   "metadata": {
    "ExecuteTime": {
     "end_time": "2021-05-01T11:46:10.692469Z",
     "start_time": "2021-05-01T11:46:10.646450Z"
    }
   },
   "outputs": [],
   "source": [
    "saving_per_year = {}\n",
    "for year in range(2016, 2021):\n",
    "    start_date = datetime(year,1,1,0,0,0,0)\n",
    "    end_date = datetime(year+1,1,1,0,0,0,0)\n",
    "\n",
    "    saving = df[(df.MasterType != 'XI') & (df.Date > start_date) & (df.Date <= end_date) & (df.FacingAccount=='')].Amount_GBP.sum()\n",
    "    income = df[(df.MasterType == 'I') & (df.Date > start_date) & (df.Date <= end_date) & (df.FacingAccount=='')].Amount_GBP.sum()\n",
    "    \n",
    "    saving_per_year[year] = (f'{income:,.0f}',f'{saving:,.0f}', f'{saving/income:,.1%}')\n",
    "\n",
    "saving_per_year"
   ]
  },
  {
   "cell_type": "code",
   "execution_count": null,
   "metadata": {
    "ExecuteTime": {
     "end_time": "2021-05-01T11:46:10.755467Z",
     "start_time": "2021-05-01T11:46:10.693469Z"
    }
   },
   "outputs": [],
   "source": [
    "accounts = ['20-26-77 13105881', '30-92-90 34061868', 'Citi', 'UBS Pension']\n",
    "pd.pivot_table(df[(df.Year>2015) & (df.Year<2022) & (df.FacingAccount=='') & (df.FullMasterType=='Income') & (df.Account.isin(accounts))],\n",
    "               index=['FullMasterType', 'Account'],\n",
    "               columns='Year',\n",
    "               values='Amount_GBP',aggfunc=np.sum, margins=True, margins_name='Total Income').fillna(0).drop('Total Income', axis=1)"
   ]
  },
  {
   "cell_type": "code",
   "execution_count": null,
   "metadata": {
    "ExecuteTime": {
     "end_time": "2021-05-01T11:46:10.801470Z",
     "start_time": "2021-05-01T11:46:10.756469Z"
    }
   },
   "outputs": [],
   "source": [
    "pd.pivot_table(df[(df.Year>2015) & (df.Year<2021) & (df.FacingAccount=='') & (df.FullMasterType!='ExIncome')],\n",
    "               index=['FullMasterType'],\n",
    "               columns='Year',\n",
    "               values='Amount_GBP',aggfunc=np.sum, margins=True, margins_name='Yearly Savings').fillna(0).drop('Yearly Savings', axis=1)"
   ]
  },
  {
   "cell_type": "code",
   "execution_count": null,
   "metadata": {
    "ExecuteTime": {
     "end_time": "2021-05-01T11:46:11.916523Z",
     "start_time": "2021-05-01T11:46:10.802471Z"
    }
   },
   "outputs": [],
   "source": [
    "for year in range(2015, 2022):\n",
    "    ui.plot_sunburst(df, ['Account', 'FullType', 'FullSubType'], date_range = [f'{year}-01-01', f'{year}-12-31']).show()"
   ]
  }
 ],
 "metadata": {
  "kernelspec": {
   "display_name": "Python 3",
   "language": "python",
   "name": "python3"
  },
  "language_info": {
   "codemirror_mode": {
    "name": "ipython",
    "version": 3
   },
   "file_extension": ".py",
   "mimetype": "text/x-python",
   "name": "python",
   "nbconvert_exporter": "python",
   "pygments_lexer": "ipython3",
   "version": "3.8.2"
  }
 },
 "nbformat": 4,
 "nbformat_minor": 4
}
