{
 "cells": [
  {
   "cell_type": "code",
   "execution_count": null,
   "metadata": {
    "ExecuteTime": {
     "end_time": "2020-11-29T21:15:25.736855Z",
     "start_time": "2020-11-29T21:15:24.817385Z"
    }
   },
   "outputs": [],
   "source": [
    "from bkanalysis.ui import ui"
   ]
  },
  {
   "cell_type": "code",
   "execution_count": null,
   "metadata": {
    "ExecuteTime": {
     "end_time": "2020-11-29T21:15:28.937866Z",
     "start_time": "2020-11-29T21:15:25.736855Z"
    }
   },
   "outputs": [],
   "source": [
    "df = ui.load()"
   ]
  },
  {
   "cell_type": "code",
   "execution_count": null,
   "metadata": {
    "ExecuteTime": {
     "end_time": "2020-11-29T21:15:50.504663Z",
     "start_time": "2020-11-29T21:15:50.484717Z"
    }
   },
   "outputs": [],
   "source": [
    "ui.get_current(df)"
   ]
  },
  {
   "cell_type": "code",
   "execution_count": null,
   "metadata": {
    "ExecuteTime": {
     "end_time": "2020-11-29T21:16:17.461412Z",
     "start_time": "2020-11-29T21:16:15.860029Z"
    }
   },
   "outputs": [],
   "source": [
    "ui.plot_wealth(df)"
   ]
  },
  {
   "cell_type": "code",
   "execution_count": null,
   "metadata": {
    "ExecuteTime": {
     "end_time": "2020-11-29T21:16:32.624427Z",
     "start_time": "2020-11-29T21:16:31.978619Z"
    }
   },
   "outputs": [],
   "source": [
    "ui.project(df)"
   ]
  },
  {
   "cell_type": "code",
   "execution_count": null,
   "metadata": {
    "ExecuteTime": {
     "end_time": "2020-11-29T21:16:53.376573Z",
     "start_time": "2020-11-29T21:16:52.990655Z"
    }
   },
   "outputs": [],
   "source": [
    "ui.internal_flows(df)"
   ]
  },
  {
   "cell_type": "code",
   "execution_count": null,
   "metadata": {
    "ExecuteTime": {
     "end_time": "2020-11-29T21:18:11.407132Z",
     "start_time": "2020-11-29T21:18:11.307546Z"
    }
   },
   "outputs": [],
   "source": [
    "ui.plot_sunburst(df, ['Account', 'FullType', 'FullSubType'])"
   ]
  }
 ],
 "metadata": {
  "kernelspec": {
   "display_name": "Python 3",
   "language": "python",
   "name": "python3"
  },
  "language_info": {
   "codemirror_mode": {
    "name": "ipython",
    "version": 3
   },
   "file_extension": ".py",
   "mimetype": "text/x-python",
   "name": "python",
   "nbconvert_exporter": "python",
   "pygments_lexer": "ipython3",
   "version": "3.8.2"
  }
 },
 "nbformat": 4,
 "nbformat_minor": 4
}
