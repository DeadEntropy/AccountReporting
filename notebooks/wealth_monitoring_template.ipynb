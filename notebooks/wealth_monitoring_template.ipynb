{
 "cells": [
  {
   "cell_type": "code",
   "execution_count": null,
   "metadata": {
    "ExecuteTime": {
     "end_time": "2020-11-29T21:15:25.736855Z",
     "start_time": "2020-11-29T21:15:24.817385Z"
    }
   },
   "outputs": [],
   "source": [
    "%load_ext autoreload\n",
    "%autoreload 2\n",
    "from bkanalysis.ui import ui"
   ]
  },
  {
   "cell_type": "code",
   "execution_count": null,
   "metadata": {
    "ExecuteTime": {
     "end_time": "2020-11-29T21:15:28.937866Z",
     "start_time": "2020-11-29T21:15:25.736855Z"
    }
   },
   "outputs": [],
   "source": [
    "df_trans = ui.load_transactions(remove_offsetting=False)\n",
    "df_trans.Account.unique()\n",
    "df_trans.shape"
   ]
  },
  {
   "cell_type": "code",
   "execution_count": null,
   "metadata": {
    "ExecuteTime": {
     "end_time": "2020-11-29T21:15:50.504663Z",
     "start_time": "2020-11-29T21:15:50.484717Z"
    }
   },
   "outputs": [],
   "source": [
    "df_values = ui.transactions_to_values(df_trans.copy())"
   ]
  },
  {
   "cell_type": "code",
   "execution_count": null,
   "metadata": {},
   "outputs": [],
   "source": [
    "df = ui.compute_price(df_values.copy(), \"USD\", linear_interpolation=False)"
   ]
  },
  {
   "cell_type": "code",
   "execution_count": null,
   "metadata": {},
   "outputs": [],
   "source": [
    "ui.plot_wealth(df)"
   ]
  },
  {
   "cell_type": "code",
   "execution_count": null,
   "metadata": {},
   "outputs": [],
   "source": [
    "from datetime import datetime, timedelta\n",
    "ui.plot_wealth(df, date_range=[datetime.today() - timedelta(days=90), datetime.today()], \\\n",
    "               by=[ui.CUMULATED_AMOUNT_CCY, ui.CUMULATED_AMOUNT_CCY_EXCL_CAPITAL], top_items_count=5)"
   ]
  },
  {
   "cell_type": "code",
   "execution_count": null,
   "metadata": {
    "ExecuteTime": {
     "end_time": "2020-11-29T21:16:32.624427Z",
     "start_time": "2020-11-29T21:16:31.978619Z"
    }
   },
   "outputs": [],
   "source": [
    "ui.project(df)"
   ]
  },
  {
   "cell_type": "code",
   "execution_count": null,
   "metadata": {},
   "outputs": [],
   "source": [
    "df_exp = ui.add_mappings(df, \"USD\")"
   ]
  },
  {
   "cell_type": "code",
   "execution_count": null,
   "metadata": {},
   "outputs": [],
   "source": [
    "from bkanalysis.ui import ui_old\n",
    "ui_old.plot_sunburst(df_exp, ['FullType', 'FullSubType','MemoMapped'], values=ui.AMOUNT_CCY)"
   ]
  }
 ],
 "metadata": {
  "kernelspec": {
   "display_name": "Python 3",
   "language": "python",
   "name": "python3"
  },
  "language_info": {
   "codemirror_mode": {
    "name": "ipython",
    "version": 3
   },
   "file_extension": ".py",
   "mimetype": "text/x-python",
   "name": "python",
   "nbconvert_exporter": "python",
   "pygments_lexer": "ipython3",
   "version": "3.11.0"
  }
 },
 "nbformat": 4,
 "nbformat_minor": 4
}
