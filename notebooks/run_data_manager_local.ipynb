{
 "cells": [
  {
   "cell_type": "code",
   "execution_count": 1,
   "metadata": {
    "ExecuteTime": {
     "end_time": "2020-11-29T21:15:25.736855Z",
     "start_time": "2020-11-29T21:15:24.817385Z"
    }
   },
   "outputs": [],
   "source": [
    "%load_ext autoreload\n",
    "%autoreload 2\n",
    "import pandas as pd\n",
    "from datetime import datetime\n",
    "pd.options.display.float_format = '{:,.2f}'.format\n",
    "pd.set_option('future.no_silent_downcasting', True)\n",
    "from bkanalysis.manager import DataManager, MarketManager, TransformationManager, FigureManager\n",
    "\n",
    "ref_currency = 'USD'"
   ]
  },
  {
   "cell_type": "code",
   "execution_count": null,
   "metadata": {},
   "outputs": [],
   "source": [
    "data_manager = DataManager()\n",
    "data_manager.load_pregenerated_data('data_manager.csv')"
   ]
  },
  {
   "cell_type": "code",
   "execution_count": 3,
   "metadata": {},
   "outputs": [],
   "source": [
    "market_manager = MarketManager(ref_currency)\n",
    "market_manager.load_pregenerated_data('data_market.csv')"
   ]
  },
  {
   "cell_type": "code",
   "execution_count": 4,
   "metadata": {},
   "outputs": [],
   "source": [
    "transformation_manager = TransformationManager(data_manager, market_manager)\n",
    "transformation_manager.group_transaction()\n",
    "figure_manager = FigureManager(transformation_manager)\n",
    "\n",
    "date_range = [datetime(2024,1,1), datetime(2024,12,31)]\n",
    "account = None"
   ]
  },
  {
   "cell_type": "code",
   "execution_count": null,
   "metadata": {},
   "outputs": [],
   "source": [
    "figure_manager.get_figure_timeseries()"
   ]
  },
  {
   "cell_type": "code",
   "execution_count": null,
   "metadata": {},
   "outputs": [],
   "source": [
    "figure_manager.get_figure_sunburst(date_range=date_range, account=account)"
   ]
  },
  {
   "cell_type": "code",
   "execution_count": null,
   "metadata": {},
   "outputs": [],
   "source": [
    "category = {'SubType': 'G'}\n",
    "label = 'MemoMapped'\n",
    "show_count = 6\n",
    "figure_manager.get_figure_bar(category, label, show_count, date_range, account)"
   ]
  },
  {
   "cell_type": "code",
   "execution_count": null,
   "metadata": {},
   "outputs": [],
   "source": [
    "figure_manager.get_figure_waterfall(date_range, account)"
   ]
  }
 ],
 "metadata": {
  "kernelspec": {
   "display_name": "Python 3",
   "language": "python",
   "name": "python3"
  },
  "language_info": {
   "codemirror_mode": {
    "name": "ipython",
    "version": 3
   },
   "file_extension": ".py",
   "mimetype": "text/x-python",
   "name": "python",
   "nbconvert_exporter": "python",
   "pygments_lexer": "ipython3",
   "version": "3.13.1"
  }
 },
 "nbformat": 4,
 "nbformat_minor": 4
}
