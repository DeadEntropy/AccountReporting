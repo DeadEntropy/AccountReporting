{
 "cells": [
  {
   "cell_type": "code",
   "execution_count": null,
   "metadata": {
    "ExecuteTime": {
     "end_time": "2020-11-29T21:15:25.736855Z",
     "start_time": "2020-11-29T21:15:24.817385Z"
    }
   },
   "outputs": [],
   "source": [
    "%load_ext autoreload\n",
    "%autoreload 2\n",
    "import pandas as pd\n",
    "from datetime import datetime\n",
    "pd.options.display.float_format = '{:,.2f}'.format\n",
    "pd.set_option('future.no_silent_downcasting', True)\n",
    "from bkanalysis.managers import DataManager, MarketManager, TransformationManager, FigureManager\n",
    "from bkanalysis.salary import Salary, create_default\n",
    "\n",
    "ref_currency = 'USD'"
   ]
  },
  {
   "cell_type": "code",
   "execution_count": null,
   "metadata": {},
   "outputs": [],
   "source": [
    "data_manager = DataManager()\n",
    "data_manager.load_pregenerated_data('data_manager.csv')"
   ]
  },
  {
   "cell_type": "code",
   "execution_count": null,
   "metadata": {},
   "outputs": [],
   "source": [
    "market_manager = MarketManager(ref_currency)\n",
    "market_manager.load_pregenerated_data('data_market.csv')"
   ]
  },
  {
   "cell_type": "code",
   "execution_count": null,
   "metadata": {},
   "outputs": [],
   "source": [
    "transformation_manager = TransformationManager(data_manager, market_manager)\n",
    "transformation_manager.group_transaction()\n",
    "figure_manager = FigureManager(transformation_manager)\n",
    "\n",
    "date_range = [datetime(2025,1,1), datetime(2025,12,31)]\n",
    "account = None"
   ]
  },
  {
   "cell_type": "code",
   "execution_count": null,
   "metadata": {},
   "outputs": [],
   "source": [
    "figure_manager.get_figure_timeseries()"
   ]
  },
  {
   "cell_type": "code",
   "execution_count": null,
   "metadata": {},
   "outputs": [],
   "source": [
    "figure_manager.get_figure_sunburst(date_range=date_range, account=account, how=\"both\")"
   ]
  },
  {
   "cell_type": "code",
   "execution_count": null,
   "metadata": {},
   "outputs": [],
   "source": [
    "category = {'FullSubType': 'Grocery'}\n",
    "label = 'MemoMapped'\n",
    "show_count = 6\n",
    "figure_manager.get_figure_bar(category, label, show_count, date_range, account)"
   ]
  },
  {
   "cell_type": "code",
   "execution_count": null,
   "metadata": {},
   "outputs": [],
   "source": [
    "category = {'FullSubType': 'Grocery'}\n",
    "label = 'MemoMapped'\n",
    "show_count = 6\n",
    "figure_manager.get_figure_bar(category, label, show_count, date_range, account, return_bar=False)"
   ]
  },
  {
   "cell_type": "code",
   "execution_count": null,
   "metadata": {},
   "outputs": [],
   "source": [
    "figure_manager.get_category_breakdown(category, label, show_count, date_range, account)"
   ]
  },
  {
   "cell_type": "code",
   "execution_count": null,
   "metadata": {},
   "outputs": [],
   "source": [
    "figure_manager.get_figure_waterfall(date_range, account)"
   ]
  },
  {
   "cell_type": "code",
   "execution_count": null,
   "metadata": {},
   "outputs": [],
   "source": [
    "figure_manager.get_figure_waterfall(date_range, account, salary_override=None, include_capital_gain=False)"
   ]
  },
  {
   "cell_type": "code",
   "execution_count": null,
   "metadata": {},
   "outputs": [],
   "source": [
    "figure_manager.get_figure_waterfall(date_range, account, salary_override=create_default(transformation_manager), include_capital_gain=False)"
   ]
  },
  {
   "cell_type": "code",
   "execution_count": null,
   "metadata": {},
   "outputs": [],
   "source": [
    "data, fig = figure_manager.get_capital_gain_brkdn(date_range, 0.99)\n",
    "fig"
   ]
  },
  {
   "cell_type": "code",
   "execution_count": null,
   "metadata": {},
   "outputs": [],
   "source": [
    "transactions = transformation_manager.data_manager.transactions.copy(deep=True)\n",
    "transactions = transactions[['Date', 'Quantity', 'FullType', 'FullSubType', 'FullMasterType']]\n",
    "transactions = transactions[transactions.Date > datetime(2024, 1, 1)]\n",
    "transactions = transactions[~transactions.FullMasterType.isin(['Intra-Account Transfers', \"Tax\"])]\n",
    "transactions[\"Month\"] = transactions[\"Date\"].dt.to_period(\"M\")\n",
    "trans_pivot = pd.pivot_table(transactions, index=['Month'], columns=\"FullMasterType\", values='Quantity', aggfunc='sum')\n",
    "trans_pivot.plot.bar(grid=True, stacked=True, figsize=(12,6))"
   ]
  },
  {
   "cell_type": "code",
   "execution_count": null,
   "metadata": {},
   "outputs": [],
   "source": [
    "transactions = transformation_manager.data_manager.transactions.copy(deep=True)\n",
    "transactions = transactions[['Date', 'Quantity', 'FullType', 'FullSubType', 'FullMasterType']]\n",
    "transactions = transactions[transactions.Date > datetime(2024, 1, 1)]\n",
    "transactions = transactions[transactions.FullMasterType.isin(['Income'])]\n",
    "transactions = transactions[transactions.FullType.isin(['Salary'])]\n",
    "transactions[\"Month\"] = transactions[\"Date\"].dt.to_period(\"M\")\n",
    "trans_pivot = pd.pivot_table(transactions, index=['Month'], columns=\"FullSubType\", values='Quantity', aggfunc='sum')\n",
    "trans_pivot.plot.bar(grid=True, stacked=True, figsize=(12,6))"
   ]
  },
  {
   "cell_type": "code",
   "execution_count": null,
   "metadata": {},
   "outputs": [],
   "source": [
    "def get_saving_ratio(year=2025, month=None, include_capital=False, include_bonus=False):\n",
    "    transactions = transformation_manager.data_manager.transactions.copy(deep=True)\n",
    "    transactions = transactions[['Date', 'Quantity', 'FullType', 'FullSubType', 'FullMasterType']]\n",
    "    transactions = transactions[transactions.Date.dt.year == year]\n",
    "    if month is not None:\n",
    "        transactions = transactions[transactions.Date.dt.month == month]\n",
    "    df_income = transactions[transactions.FullMasterType.isin(['Income'])]\n",
    "    transactions = transactions[~transactions.FullMasterType.isin(['Income', 'Intra-Account Transfers', 'Ex. Income'])]\n",
    "\n",
    "    expenses = transactions.Quantity.sum()\n",
    "    \n",
    "    if not include_capital:\n",
    "        df_income = df_income[(df_income.FullType == 'Salary')]\n",
    "    if not include_bonus:\n",
    "        df_income = df_income[(df_income.FullSubType != 'UBS Bonus')]\n",
    "\n",
    "    income = df_income.Quantity.sum()\n",
    "    return (income + expenses) / income\n"
   ]
  },
  {
   "cell_type": "code",
   "execution_count": null,
   "metadata": {},
   "outputs": [],
   "source": [
    "yearly_saving_ratios = {}\n",
    "for y in range(2014, 2026):\n",
    "    yearly_saving_ratios[y] = get_saving_ratio(y)"
   ]
  },
  {
   "cell_type": "code",
   "execution_count": null,
   "metadata": {},
   "outputs": [],
   "source": [
    "monthly_saving_ratios = {}\n",
    "for m in range(1, 6):\n",
    "    monthly_saving_ratios[m] = get_saving_ratio(2025, m)"
   ]
  },
  {
   "cell_type": "code",
   "execution_count": null,
   "metadata": {},
   "outputs": [],
   "source": [
    "monthly_saving_ratios"
   ]
  },
  {
   "cell_type": "code",
   "execution_count": null,
   "metadata": {},
   "outputs": [],
   "source": [
    "pd.Series(yearly_saving_ratios).plot.bar(grid=True, figsize=(10,5), title='Yearly Saving Ratio')"
   ]
  },
  {
   "cell_type": "code",
   "execution_count": null,
   "metadata": {},
   "outputs": [],
   "source": [
    "pd.Series(monthly_saving_ratios).plot.bar(grid=True, figsize=(10,5), title='Monthly Saving Ratio')"
   ]
  },
  {
   "cell_type": "code",
   "execution_count": null,
   "metadata": {},
   "outputs": [],
   "source": [
    "figure_manager.get_saving_rate_gauge(28, 25)"
   ]
  }
 ],
 "metadata": {
  "kernelspec": {
   "display_name": "Python 3",
   "language": "python",
   "name": "python3"
  },
  "language_info": {
   "codemirror_mode": {
    "name": "ipython",
    "version": 3
   },
   "file_extension": ".py",
   "mimetype": "text/x-python",
   "name": "python",
   "nbconvert_exporter": "python",
   "pygments_lexer": "ipython3",
   "version": "3.13.1"
  }
 },
 "nbformat": 4,
 "nbformat_minor": 4
}
