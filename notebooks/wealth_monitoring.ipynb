{
 "cells": [
  {
   "cell_type": "code",
   "execution_count": null,
   "metadata": {
    "ExecuteTime": {
     "end_time": "2021-08-22T20:34:10.715588Z",
     "start_time": "2021-08-22T20:34:09.658453Z"
    }
   },
   "outputs": [],
   "source": [
    "from bkanalysis.ui import ui\n",
    "import pandas as pd\n",
    "pd.options.display.max_columns = None\n",
    "from datetime import datetime, timedelta\n",
    "from bkanalysis.config import config_helper as ch"
   ]
  },
  {
   "cell_type": "code",
   "execution_count": null,
   "metadata": {
    "ExecuteTime": {
     "end_time": "2021-08-22T20:34:15.824496Z",
     "start_time": "2021-08-22T20:34:10.716633Z"
    }
   },
   "outputs": [],
   "source": [
    "df = ui.load(True)\n",
    "ui.get_status(df)"
   ]
  },
  {
   "cell_type": "code",
   "execution_count": null,
   "metadata": {
    "ExecuteTime": {
     "end_time": "2021-08-22T20:34:35.702083Z",
     "start_time": "2021-08-22T20:34:15.827454Z"
    }
   },
   "outputs": [],
   "source": [
    "print(f\"Current Total Wealth: {ui.convert_fx_spot(ui.get_current(df), 'GBP').sum():,.0f}£\")\n",
    "ui.get_current(df, ref_currency='GBP')"
   ]
  },
  {
   "cell_type": "code",
   "execution_count": null,
   "metadata": {
    "ExecuteTime": {
     "end_time": "2021-08-22T20:34:36.421914Z",
     "start_time": "2021-08-22T20:34:35.799206Z"
    }
   },
   "outputs": [],
   "source": [
    "ui.plot_wealth(df, include_labels=False)"
   ]
  },
  {
   "cell_type": "code",
   "execution_count": null,
   "metadata": {
    "ExecuteTime": {
     "end_time": "2021-08-22T20:34:36.577044Z",
     "start_time": "2021-08-22T20:34:36.424842Z"
    }
   },
   "outputs": [],
   "source": [
    "ui.plot_wealth(df, freq='d', date_range=[datetime.today() - timedelta(days=45), datetime.today()], include_labels=True)"
   ]
  },
  {
   "cell_type": "code",
   "execution_count": null,
   "metadata": {
    "ExecuteTime": {
     "end_time": "2021-08-22T20:34:36.593116Z",
     "start_time": "2021-08-22T20:34:36.578045Z"
    }
   },
   "outputs": [],
   "source": [
    "proj_data = {}\n",
    "print(f'Expected Yearly Savings: {sum([v[2] for k,v in proj_data.items()]):,.0f}£')"
   ]
  },
  {
   "cell_type": "code",
   "execution_count": null,
   "metadata": {
    "ExecuteTime": {
     "end_time": "2021-08-22T20:34:37.074129Z",
     "start_time": "2021-08-22T20:34:36.594045Z"
    }
   },
   "outputs": [],
   "source": [
    "ui.project(df, 'GBP', 10, proj_data)"
   ]
  },
  {
   "cell_type": "code",
   "execution_count": null,
   "metadata": {
    "ExecuteTime": {
     "end_time": "2021-08-22T20:34:37.137080Z",
     "start_time": "2021-08-22T20:34:37.075058Z"
    }
   },
   "outputs": [],
   "source": [
    "ui.internal_flows(df)"
   ]
  },
  {
   "cell_type": "code",
   "execution_count": null,
   "metadata": {
    "ExecuteTime": {
     "end_time": "2021-08-22T20:34:37.757152Z",
     "start_time": "2021-08-22T20:34:37.138081Z"
    },
    "scrolled": false
   },
   "outputs": [],
   "source": [
    "ui.plot_sunburst(df, ['Account', 'FullType', 'FullSubType'])"
   ]
  },
  {
   "cell_type": "code",
   "execution_count": null,
   "metadata": {
    "ExecuteTime": {
     "end_time": "2021-08-22T20:34:37.772696Z",
     "start_time": "2021-08-22T20:34:37.758081Z"
    }
   },
   "outputs": [],
   "source": [
    "df.Account.unique()"
   ]
  },
  {
   "cell_type": "code",
   "execution_count": null,
   "metadata": {
    "ExecuteTime": {
     "end_time": "2021-08-22T20:34:38.373343Z",
     "start_time": "2021-08-22T20:34:37.773701Z"
    }
   },
   "outputs": [],
   "source": [
    "proj_data_2 = {}\n",
    "print(f'Expected Yearly Savings (Alternative): {sum([v[2] for k,v in proj_data.items()]):,.0f}£')\n",
    "ui.project_compare(df, 'GBP', 10, proj_data, proj_data_2)"
   ]
  },
  {
   "cell_type": "code",
   "execution_count": null,
   "metadata": {
    "ExecuteTime": {
     "end_time": "2021-08-22T20:34:38.485384Z",
     "start_time": "2021-08-22T20:34:38.374343Z"
    }
   },
   "outputs": [],
   "source": [
    "# ui.plot_sunburst(df, ['FullType', 'FullSubType'])"
   ]
  },
  {
   "cell_type": "code",
   "execution_count": null,
   "metadata": {},
   "outputs": [],
   "source": [
    "# for year in range(2015, 2022):\n",
    "#     ui.plot_sunburst(df, ['Account', 'FullType', 'FullSubType'], date_range = [f'{year}-01-01', f'{year}-12-31']).show()"
   ]
  }
 ],
 "metadata": {
  "kernelspec": {
   "display_name": "Python 3",
   "language": "python",
   "name": "python3"
  },
  "language_info": {
   "codemirror_mode": {
    "name": "ipython",
    "version": 3
   },
   "file_extension": ".py",
   "mimetype": "text/x-python",
   "name": "python",
   "nbconvert_exporter": "python",
   "pygments_lexer": "ipython3",
   "version": "3.8.2"
  }
 },
 "nbformat": 4,
 "nbformat_minor": 4
}
