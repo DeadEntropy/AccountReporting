{
 "cells": [
  {
   "cell_type": "code",
   "execution_count": null,
   "metadata": {
    "ExecuteTime": {
     "end_time": "2021-05-01T12:30:24.683233Z",
     "start_time": "2021-05-01T12:30:23.731188Z"
    }
   },
   "outputs": [],
   "source": [
    "from bkanalysis.ui import ui\n",
    "import pandas as pd\n",
    "pd.options.display.max_columns = None\n",
    "from datetime import datetime, timedelta"
   ]
  },
  {
   "cell_type": "code",
   "execution_count": null,
   "metadata": {
    "ExecuteTime": {
     "end_time": "2021-05-01T12:31:56.830357Z",
     "start_time": "2021-05-01T12:31:52.748376Z"
    },
    "scrolled": true
   },
   "outputs": [],
   "source": [
    "df = ui.load(True)\n",
    "#ui.get_status(df)"
   ]
  },
  {
   "cell_type": "code",
   "execution_count": null,
   "metadata": {
    "ExecuteTime": {
     "end_time": "2021-05-01T12:30:29.244891Z",
     "start_time": "2021-05-01T12:30:28.867818Z"
    }
   },
   "outputs": [],
   "source": [
    "print(f\"Current Total Wealth: {ui.convert_fx(ui.get_current(df), 'GBP').sum():,.0f}£\")\n",
    "ui.get_current(df)"
   ]
  },
  {
   "cell_type": "code",
   "execution_count": null,
   "metadata": {
    "ExecuteTime": {
     "end_time": "2021-05-01T12:35:11.196699Z",
     "start_time": "2021-05-01T12:35:11.162699Z"
    }
   },
   "outputs": [],
   "source": [
    "ui.get_current(df, ['Account', 'Currency'])"
   ]
  },
  {
   "cell_type": "code",
   "execution_count": null,
   "metadata": {
    "ExecuteTime": {
     "end_time": "2021-05-01T12:30:31.886382Z",
     "start_time": "2021-05-01T12:30:29.278942Z"
    }
   },
   "outputs": [],
   "source": [
    "ui.plot_wealth(df)"
   ]
  },
  {
   "cell_type": "code",
   "execution_count": null,
   "metadata": {
    "ExecuteTime": {
     "end_time": "2021-05-01T12:30:34.460064Z",
     "start_time": "2021-05-01T12:30:31.888387Z"
    }
   },
   "outputs": [],
   "source": [
    "ui.plot_wealth(df, freq='d', date_range=[datetime.today() - timedelta(days=45), datetime.today()])"
   ]
  },
  {
   "cell_type": "code",
   "execution_count": null,
   "metadata": {
    "ExecuteTime": {
     "end_time": "2021-05-01T12:30:34.476088Z",
     "start_time": "2021-05-01T12:30:34.462064Z"
    }
   },
   "outputs": [],
   "source": [
    "proj_data = {\n",
    " 'UBS Pension': [0.06, 0.18, 18000],\n",
    " 'Nutmeg: Rainy day pot': [0.03, 0.09, 20000],\n",
    " 'Lloyds Mortgage': [0, 0, 20000],\n",
    " 'Instant Access - Paragon Bank PLC': [0.006, 0, 0],\n",
    " \"Nutmeg: Zoey's Junior ISA\": [0.06, 0.18, 2500],\n",
    " \"Nutmeg: Lucy's Junior ISA\": [0.06, 0.18, 2500],\n",
    " 'Nutmeg: My ISA': [0.04, 0.12, 20000],\n",
    " 'Nutmeg: My Nutmeg pension': [0.06, 0.18, 20000],\n",
    " 'Flat': [0.01, 0, 0]}\n",
    "print(f'Expected Yearly Savings: {sum([v[2] for k,v in proj_data.items()]):,.0f}£')"
   ]
  },
  {
   "cell_type": "code",
   "execution_count": null,
   "metadata": {
    "ExecuteTime": {
     "end_time": "2021-05-01T12:30:35.272298Z",
     "start_time": "2021-05-01T12:30:34.479089Z"
    }
   },
   "outputs": [],
   "source": [
    "ui.project(df, 'GBP', 10, proj_data)"
   ]
  },
  {
   "cell_type": "code",
   "execution_count": null,
   "metadata": {
    "ExecuteTime": {
     "end_time": "2021-05-01T12:30:35.334897Z",
     "start_time": "2021-05-01T12:30:35.273859Z"
    }
   },
   "outputs": [],
   "source": [
    "ui.internal_flows(df)"
   ]
  },
  {
   "cell_type": "code",
   "execution_count": null,
   "metadata": {
    "ExecuteTime": {
     "end_time": "2021-05-01T12:30:35.950887Z",
     "start_time": "2021-05-01T12:30:35.335854Z"
    }
   },
   "outputs": [],
   "source": [
    "ui.plot_sunburst(df, ['Account', 'FullType', 'FullSubType'])"
   ]
  },
  {
   "cell_type": "code",
   "execution_count": null,
   "metadata": {
    "ExecuteTime": {
     "end_time": "2021-05-01T12:30:36.966186Z",
     "start_time": "2021-05-01T12:30:35.951891Z"
    }
   },
   "outputs": [],
   "source": [
    "proj_data_2 = {\n",
    " 'UBS Pension': [0.0, 0.0, 18000],\n",
    " 'Nutmeg: Rainy day pot': [0.0, 0.0, 20000],\n",
    " 'Lloyds Mortgage': [0, 0, 20000],\n",
    " 'Instant Access - Paragon Bank PLC': [0.0, 0.0, 0],\n",
    " \"Nutmeg: Zoey's Junior ISA\": [0.0, 0.0, 2500],\n",
    " \"Nutmeg: Lucy's Junior ISA\": [0.0, 0.0, 2500],\n",
    " 'Nutmeg: My ISA': [0.0, 0.0, 20000],\n",
    " 'Nutmeg: My Nutmeg pension': [0.0, 0.0, 20000],\n",
    " 'Flat': [0.0, 0.0, 0]}\n",
    "print(f'Expected Yearly Savings (Alternative): {sum([v[2] for k,v in proj_data.items()]):,.0f}£')\n",
    "ui.project_compare(df, 'GBP', 10, proj_data, proj_data_2)"
   ]
  }
 ],
 "metadata": {
  "kernelspec": {
   "display_name": "Python 3",
   "language": "python",
   "name": "python3"
  },
  "language_info": {
   "codemirror_mode": {
    "name": "ipython",
    "version": 3
   },
   "file_extension": ".py",
   "mimetype": "text/x-python",
   "name": "python",
   "nbconvert_exporter": "python",
   "pygments_lexer": "ipython3",
   "version": "3.8.2"
  }
 },
 "nbformat": 4,
 "nbformat_minor": 4
}
