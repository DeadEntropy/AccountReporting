{
 "cells": [
  {
   "cell_type": "code",
   "execution_count": null,
   "metadata": {
    "ExecuteTime": {
     "end_time": "2020-11-29T21:45:20.464483Z",
     "start_time": "2020-11-29T21:45:19.528494Z"
    }
   },
   "outputs": [],
   "source": [
    "from bkanalysis.ui import ui"
   ]
  },
  {
   "cell_type": "code",
   "execution_count": null,
   "metadata": {
    "ExecuteTime": {
     "end_time": "2020-11-29T21:45:23.740919Z",
     "start_time": "2020-11-29T21:45:20.464483Z"
    }
   },
   "outputs": [],
   "source": [
    "df = ui.load()"
   ]
  },
  {
   "cell_type": "code",
   "execution_count": null,
   "metadata": {
    "ExecuteTime": {
     "end_time": "2020-11-29T21:45:23.766475Z",
     "start_time": "2020-11-29T21:45:23.740919Z"
    }
   },
   "outputs": [],
   "source": [
    "ui.get_current(df)"
   ]
  },
  {
   "cell_type": "code",
   "execution_count": null,
   "metadata": {
    "ExecuteTime": {
     "end_time": "2020-11-29T21:45:26.159804Z",
     "start_time": "2020-11-29T21:45:23.767475Z"
    }
   },
   "outputs": [],
   "source": [
    "ui.plot_wealth(df)"
   ]
  },
  {
   "cell_type": "code",
   "execution_count": null,
   "metadata": {
    "ExecuteTime": {
     "end_time": "2020-11-29T21:48:16.078869Z",
     "start_time": "2020-11-29T21:48:16.072826Z"
    }
   },
   "outputs": [],
   "source": [
    "proj_data = {\n",
    " 'MyAccount': [0.06, 0.18, 18000],\n",
    " 'MyOtherAccount': [0.03, 0.09, 20000]}"
   ]
  },
  {
   "cell_type": "code",
   "execution_count": null,
   "metadata": {
    "ExecuteTime": {
     "end_time": "2020-11-29T21:48:36.045995Z",
     "start_time": "2020-11-29T21:48:35.565900Z"
    }
   },
   "outputs": [],
   "source": [
    "ui.project(df, 'GBP', 10, proj_data)"
   ]
  },
  {
   "cell_type": "code",
   "execution_count": null,
   "metadata": {
    "ExecuteTime": {
     "end_time": "2020-11-29T21:45:26.718199Z",
     "start_time": "2020-11-29T21:45:26.671645Z"
    }
   },
   "outputs": [],
   "source": [
    "ui.internal_flows(df)"
   ]
  },
  {
   "cell_type": "code",
   "execution_count": null,
   "metadata": {
    "ExecuteTime": {
     "end_time": "2020-11-29T21:45:49.959587Z",
     "start_time": "2020-11-29T21:45:49.867437Z"
    }
   },
   "outputs": [],
   "source": [
    "ui.plot_sunburst(df, ['Account', 'FullType', 'FullSubType'])"
   ]
  },
  {
   "cell_type": "code",
   "execution_count": null,
   "metadata": {
    "ExecuteTime": {
     "end_time": "2020-11-29T21:48:45.477510Z",
     "start_time": "2020-11-29T21:48:44.618017Z"
    }
   },
   "outputs": [],
   "source": [
    "proj_data = {\n",
    " 'MyAccount': [0.0, 0.0, 18000],\n",
    " 'MyOtherAccount': [0.0, 0.0, 20000]}\n",
    "ui.project_compare(df, 'GBP', 10, proj_data, proj_data_2)"
   ]
  }
 ],
 "metadata": {
  "kernelspec": {
   "display_name": "Python 3",
   "language": "python",
   "name": "python3"
  },
  "language_info": {
   "codemirror_mode": {
    "name": "ipython",
    "version": 3
   },
   "file_extension": ".py",
   "mimetype": "text/x-python",
   "name": "python",
   "nbconvert_exporter": "python",
   "pygments_lexer": "ipython3",
   "version": "3.8.2"
  }
 },
 "nbformat": 4,
 "nbformat_minor": 4
}
