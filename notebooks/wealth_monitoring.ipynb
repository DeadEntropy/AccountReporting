{
 "cells": [
  {
   "cell_type": "code",
   "execution_count": null,
   "metadata": {
    "ExecuteTime": {
     "end_time": "2021-04-11T13:20:31.660723Z",
     "start_time": "2021-04-11T13:20:30.667188Z"
    }
   },
   "outputs": [],
   "source": [
    "from bkanalysis.ui import ui\n",
    "import pandas as pd\n",
    "pd.options.display.max_columns = None\n",
    "from datetime import datetime, timedelta"
   ]
  },
  {
   "cell_type": "code",
   "execution_count": null,
   "metadata": {
    "ExecuteTime": {
     "end_time": "2021-04-11T13:20:35.927519Z",
     "start_time": "2021-04-11T13:20:31.661723Z"
    },
    "scrolled": true
   },
   "outputs": [],
   "source": [
    "df = ui.load(True)\n",
    "ui.get_status(df)"
   ]
  },
  {
   "cell_type": "code",
   "execution_count": null,
   "metadata": {
    "ExecuteTime": {
     "end_time": "2021-04-11T13:20:36.256178Z",
     "start_time": "2021-04-11T13:20:35.928476Z"
    }
   },
   "outputs": [],
   "source": [
    "print(f\"Current Total Wealth: {ui.convert_fx(ui.get_current(df), 'GBP').sum():,.0f}£\")\n",
    "ui.get_current(df)"
   ]
  },
  {
   "cell_type": "code",
   "execution_count": null,
   "metadata": {
    "ExecuteTime": {
     "end_time": "2021-04-11T13:20:36.302171Z",
     "start_time": "2021-04-11T13:20:36.258133Z"
    }
   },
   "outputs": [],
   "source": [
    "ui.get_current(df, ['Account', 'Currency'])"
   ]
  },
  {
   "cell_type": "code",
   "execution_count": null,
   "metadata": {
    "ExecuteTime": {
     "end_time": "2021-04-11T13:20:39.054683Z",
     "start_time": "2021-04-11T13:20:36.304169Z"
    }
   },
   "outputs": [],
   "source": [
    "ui.plot_wealth(df)"
   ]
  },
  {
   "cell_type": "code",
   "execution_count": null,
   "metadata": {
    "ExecuteTime": {
     "end_time": "2021-04-11T13:20:41.705518Z",
     "start_time": "2021-04-11T13:20:39.056613Z"
    }
   },
   "outputs": [],
   "source": [
    "ui.plot_wealth(df, freq='d', date_range=[datetime.today() - timedelta(days=30), datetime.today()])"
   ]
  },
  {
   "cell_type": "code",
   "execution_count": null,
   "metadata": {
    "ExecuteTime": {
     "end_time": "2021-04-11T13:20:41.721504Z",
     "start_time": "2021-04-11T13:20:41.707476Z"
    }
   },
   "outputs": [],
   "source": [
    "proj_data = {\n",
    " 'UBS Pension': [0.06, 0.18, 18000],\n",
    " 'Nutmeg: Rainy day pot': [0.03, 0.09, 20000],\n",
    " 'Lloyds Mortgage': [0, 0, 20000],\n",
    " 'Instant Access - Paragon Bank PLC': [0.006, 0, 0],\n",
    " \"Nutmeg: Zoey's Junior ISA\": [0.06, 0.18, 2500],\n",
    " \"Nutmeg: Lucy's Junior ISA\": [0.06, 0.18, 2500],\n",
    " 'Nutmeg: My ISA': [0.04, 0.12, 20000],\n",
    " 'Nutmeg: My Nutmeg pension': [0.06, 0.18, 20000],\n",
    " 'Flat': [0.01, 0, 0]}\n",
    "print(f'Expected Yearly Savings: {sum([v[2] for k,v in proj_data.items()]):,.0f}£')"
   ]
  },
  {
   "cell_type": "code",
   "execution_count": null,
   "metadata": {
    "ExecuteTime": {
     "end_time": "2021-04-11T13:20:42.332470Z",
     "start_time": "2021-04-11T13:20:41.724512Z"
    }
   },
   "outputs": [],
   "source": [
    "ui.project(df, 'GBP', 10, proj_data)"
   ]
  },
  {
   "cell_type": "code",
   "execution_count": null,
   "metadata": {
    "ExecuteTime": {
     "end_time": "2021-04-11T13:20:42.394466Z",
     "start_time": "2021-04-11T13:20:42.334424Z"
    }
   },
   "outputs": [],
   "source": [
    "ui.internal_flows(df)"
   ]
  },
  {
   "cell_type": "code",
   "execution_count": null,
   "metadata": {
    "ExecuteTime": {
     "end_time": "2021-04-11T13:20:43.054582Z",
     "start_time": "2021-04-11T13:20:42.396427Z"
    }
   },
   "outputs": [],
   "source": [
    "ui.plot_sunburst(df, ['Account', 'FullType', 'FullSubType'])"
   ]
  },
  {
   "cell_type": "code",
   "execution_count": null,
   "metadata": {
    "ExecuteTime": {
     "end_time": "2021-04-11T13:20:43.707721Z",
     "start_time": "2021-04-11T13:20:43.055580Z"
    }
   },
   "outputs": [],
   "source": [
    "proj_data_2 = {\n",
    " 'UBS Pension': [0.0, 0.0, 18000],\n",
    " 'Nutmeg: Rainy day pot': [0.0, 0.0, 20000],\n",
    " 'Lloyds Mortgage': [0, 0, 20000],\n",
    " 'Instant Access - Paragon Bank PLC': [0.0, 0.0, 0],\n",
    " \"Nutmeg: Zoey's Junior ISA\": [0.0, 0.0, 2500],\n",
    " \"Nutmeg: Lucy's Junior ISA\": [0.0, 0.0, 2500],\n",
    " 'Nutmeg: My ISA': [0.0, 0.0, 20000],\n",
    " 'Nutmeg: My Nutmeg pension': [0.0, 0.0, 20000],\n",
    " 'Flat': [0.0, 0.0, 0]}\n",
    "print(f'Expected Yearly Savings (Alternative): {sum([v[2] for k,v in proj_data.items()]):,.0f}£')\n",
    "ui.project_compare(df, 'GBP', 10, proj_data, proj_data_2)"
   ]
  },
  {
   "cell_type": "code",
   "execution_count": null,
   "metadata": {
    "ExecuteTime": {
     "end_time": "2021-04-11T13:21:26.668889Z",
     "start_time": "2021-04-11T13:21:26.614287Z"
    }
   },
   "outputs": [],
   "source": [
    "import datetime\n",
    "\n",
    "saving_per_year = {}\n",
    "\n",
    "for year in range(2016, 2021):\n",
    "    start_date = datetime.datetime(year,1,1,0,0,0,0)\n",
    "    end_date = datetime.datetime(year+1,1,1,0,0,0,0)\n",
    "\n",
    "    saving = df[(df.MasterType != 'XI') & (df.Date > start_date) & (df.Date <= end_date) & (df.FacingAccount=='')].Amount_GBP.sum()\n",
    "    income = df[(df.MasterType == 'I') & (df.Date > start_date) & (df.Date <= end_date) & (df.FacingAccount=='')].Amount_GBP.sum()\n",
    "    \n",
    "    saving_per_year[year] = (f'{income:,.0f}',f'{saving:,.0f}', f'{saving/income:,.1%}')\n",
    "\n",
    "saving_per_year"
   ]
  },
  {
   "cell_type": "code",
   "execution_count": null,
   "metadata": {
    "ExecuteTime": {
     "end_time": "2021-04-11T13:20:43.833586Z",
     "start_time": "2021-04-11T13:20:43.773232Z"
    }
   },
   "outputs": [],
   "source": [
    "import pandas as pd\n",
    "import numpy as np\n",
    "accounts = ['20-26-77 13105881', '30-92-90 34061868', 'Citi', 'UBS Pension']\n",
    "pd.pivot_table(df[(df.Year>2015) & (df.Year<2022) & (df.FacingAccount=='') & (df.FullMasterType=='Income') & (df.Account.isin(accounts))],\n",
    "               index=['FullMasterType', 'Account'],\n",
    "               columns='Year',\n",
    "               values='Amount_GBP',aggfunc=np.sum, margins=True, margins_name='Total Income').fillna(0).drop('Total Income', axis=1)"
   ]
  },
  {
   "cell_type": "code",
   "execution_count": null,
   "metadata": {
    "ExecuteTime": {
     "end_time": "2021-04-11T13:20:43.897596Z",
     "start_time": "2021-04-11T13:20:43.835590Z"
    }
   },
   "outputs": [],
   "source": [
    "import pandas as pd\n",
    "import numpy as np\n",
    "pd.pivot_table(df[(df.Year>2015) & (df.Year<2021) & (df.FacingAccount=='') & (df.FullMasterType!='ExIncome')],\n",
    "               index=['FullMasterType'],\n",
    "               columns='Year',\n",
    "               values='Amount_GBP',aggfunc=np.sum, margins=True, margins_name='Yearly Savings').fillna(0).drop('Yearly Savings', axis=1)"
   ]
  },
  {
   "cell_type": "code",
   "execution_count": null,
   "metadata": {
    "ExecuteTime": {
     "end_time": "2021-04-11T13:25:33.906554Z",
     "start_time": "2021-04-11T13:25:33.188715Z"
    },
    "scrolled": false
   },
   "outputs": [],
   "source": [
    "for year in range(2015, 2022):\n",
    "    ui.plot_sunburst(df, ['Account', 'FullType', 'FullSubType'], date_range = [f'{year}-01-01', f'{year}-12-31']).show()"
   ]
  },
  {
   "cell_type": "code",
   "execution_count": null,
   "metadata": {
    "ExecuteTime": {
     "end_time": "2021-04-11T13:26:42.361628Z",
     "start_time": "2021-04-11T13:26:42.324123Z"
    }
   },
   "outputs": [],
   "source": [
    "df[(df.Account == 'Citi') & (df.Year == 2021) & (df.Type == 'ATM')]"
   ]
  }
 ],
 "metadata": {
  "kernelspec": {
   "display_name": "Python 3",
   "language": "python",
   "name": "python3"
  },
  "language_info": {
   "codemirror_mode": {
    "name": "ipython",
    "version": 3
   },
   "file_extension": ".py",
   "mimetype": "text/x-python",
   "name": "python",
   "nbconvert_exporter": "python",
   "pygments_lexer": "ipython3",
   "version": "3.8.2"
  }
 },
 "nbformat": 4,
 "nbformat_minor": 4
}
