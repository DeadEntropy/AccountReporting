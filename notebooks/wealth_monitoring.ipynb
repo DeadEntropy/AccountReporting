{
 "cells": [
  {
   "cell_type": "code",
   "execution_count": null,
   "metadata": {
    "ExecuteTime": {
     "end_time": "2020-11-29T21:23:54.158753Z",
     "start_time": "2020-11-29T21:23:53.246668Z"
    }
   },
   "outputs": [],
   "source": [
    "from bkanalysis.ui import ui"
   ]
  },
  {
   "cell_type": "code",
   "execution_count": null,
   "metadata": {
    "ExecuteTime": {
     "end_time": "2020-11-29T21:23:57.357145Z",
     "start_time": "2020-11-29T21:23:54.158753Z"
    }
   },
   "outputs": [],
   "source": [
    "df = ui.load()"
   ]
  },
  {
   "cell_type": "code",
   "execution_count": null,
   "metadata": {
    "ExecuteTime": {
     "end_time": "2020-11-29T21:23:57.384332Z",
     "start_time": "2020-11-29T21:23:57.357145Z"
    }
   },
   "outputs": [],
   "source": [
    "ui.get_current(df)"
   ]
  },
  {
   "cell_type": "code",
   "execution_count": null,
   "metadata": {
    "ExecuteTime": {
     "end_time": "2020-11-29T21:23:59.808863Z",
     "start_time": "2020-11-29T21:23:57.386318Z"
    }
   },
   "outputs": [],
   "source": [
    "ui.plot_wealth(df)"
   ]
  },
  {
   "cell_type": "code",
   "execution_count": null,
   "metadata": {
    "ExecuteTime": {
     "end_time": "2020-11-29T21:24:09.957610Z",
     "start_time": "2020-11-29T21:24:09.939447Z"
    }
   },
   "outputs": [],
   "source": [
    "# t = ui.get_projection_template(df)"
   ]
  },
  {
   "cell_type": "code",
   "execution_count": null,
   "metadata": {
    "ExecuteTime": {
     "end_time": "2020-11-29T21:24:00.325669Z",
     "start_time": "2020-11-29T21:23:59.835512Z"
    }
   },
   "outputs": [],
   "source": [
    "ui.project(df)"
   ]
  },
  {
   "cell_type": "code",
   "execution_count": null,
   "metadata": {
    "ExecuteTime": {
     "end_time": "2020-11-29T21:24:00.372713Z",
     "start_time": "2020-11-29T21:24:00.326671Z"
    }
   },
   "outputs": [],
   "source": [
    "ui.internal_flows(df)"
   ]
  },
  {
   "cell_type": "code",
   "execution_count": null,
   "metadata": {
    "ExecuteTime": {
     "end_time": "2020-11-29T21:24:00.913457Z",
     "start_time": "2020-11-29T21:24:00.374712Z"
    }
   },
   "outputs": [],
   "source": [
    "ui.plot_sunburst(df, ['Account', 'FullType', 'FullSubType'])"
   ]
  }
 ],
 "metadata": {
  "kernelspec": {
   "display_name": "Python 3",
   "language": "python",
   "name": "python3"
  },
  "language_info": {
   "codemirror_mode": {
    "name": "ipython",
    "version": 3
   },
   "file_extension": ".py",
   "mimetype": "text/x-python",
   "name": "python",
   "nbconvert_exporter": "python",
   "pygments_lexer": "ipython3",
   "version": "3.8.2"
  }
 },
 "nbformat": 4,
 "nbformat_minor": 4
}
