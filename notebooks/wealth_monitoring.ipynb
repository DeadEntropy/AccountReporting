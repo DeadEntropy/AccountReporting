{
 "cells": [
  {
   "cell_type": "code",
   "execution_count": null,
   "metadata": {
    "ExecuteTime": {
     "end_time": "2021-02-07T11:11:45.469693Z",
     "start_time": "2021-02-07T11:11:44.571685Z"
    }
   },
   "outputs": [],
   "source": [
    "from bkanalysis.ui import ui\n",
    "from datetime import datetime, timedelta"
   ]
  },
  {
   "cell_type": "code",
   "execution_count": null,
   "metadata": {
    "ExecuteTime": {
     "end_time": "2021-02-07T11:11:49.354398Z",
     "start_time": "2021-02-07T11:11:45.469693Z"
    },
    "scrolled": true
   },
   "outputs": [],
   "source": [
    "df = ui.load(True)\n",
    "# ui.get_status(df)"
   ]
  },
  {
   "cell_type": "code",
   "execution_count": null,
   "metadata": {
    "ExecuteTime": {
     "end_time": "2021-02-07T11:11:49.379530Z",
     "start_time": "2021-02-07T11:11:49.354398Z"
    }
   },
   "outputs": [],
   "source": [
    "ui.get_current(df)"
   ]
  },
  {
   "cell_type": "code",
   "execution_count": null,
   "metadata": {
    "ExecuteTime": {
     "end_time": "2021-02-07T11:11:49.399529Z",
     "start_time": "2021-02-07T11:11:49.380529Z"
    }
   },
   "outputs": [],
   "source": [
    "ui.get_current(df, ['Account'])"
   ]
  },
  {
   "cell_type": "code",
   "execution_count": null,
   "metadata": {
    "ExecuteTime": {
     "end_time": "2021-02-07T11:11:52.551508Z",
     "start_time": "2021-02-07T11:11:49.400529Z"
    }
   },
   "outputs": [],
   "source": [
    "ui.plot_wealth(df)"
   ]
  },
  {
   "cell_type": "code",
   "execution_count": null,
   "metadata": {
    "ExecuteTime": {
     "end_time": "2021-02-07T11:11:55.064099Z",
     "start_time": "2021-02-07T11:11:52.551508Z"
    }
   },
   "outputs": [],
   "source": [
    "ui.plot_wealth(df, freq='d', date_range=[datetime.today() - timedelta(days=30), datetime.today()])"
   ]
  },
  {
   "cell_type": "code",
   "execution_count": null,
   "metadata": {
    "ExecuteTime": {
     "end_time": "2021-02-07T11:11:55.071101Z",
     "start_time": "2021-02-07T11:11:55.065100Z"
    }
   },
   "outputs": [],
   "source": [
    "proj_data = {\n",
    " 'UBS Pension': [0.06, 0.18, 18000],\n",
    " 'Nutmeg: Rainy day pot': [0.03, 0.09, 20000],\n",
    " 'Lloyds Mortgage': [0, 0, 20000],\n",
    " 'Instant Access - Paragon Bank PLC': [0.006, 0, 0],\n",
    " \"Nutmeg: Zoey's Junior ISA\": [0.06, 0.18, 2500],\n",
    " \"Nutmeg: Lucy's Junior ISA\": [0.06, 0.18, 2500],\n",
    " 'Nutmeg: My ISA': [0.04, 0.12, 20000],\n",
    " 'Nutmeg: My Nutmeg pension': [0.06, 0.18, 20000],\n",
    " 'Flat': [0.01, 0, 0]}"
   ]
  },
  {
   "cell_type": "code",
   "execution_count": null,
   "metadata": {
    "ExecuteTime": {
     "end_time": "2021-02-07T11:11:56.010450Z",
     "start_time": "2021-02-07T11:11:55.074097Z"
    }
   },
   "outputs": [],
   "source": [
    "ui.project(df, 'GBP', 10, proj_data)"
   ]
  },
  {
   "cell_type": "code",
   "execution_count": null,
   "metadata": {
    "ExecuteTime": {
     "end_time": "2021-02-07T11:11:56.060749Z",
     "start_time": "2021-02-07T11:11:56.012450Z"
    }
   },
   "outputs": [],
   "source": [
    "ui.internal_flows(df)"
   ]
  },
  {
   "cell_type": "code",
   "execution_count": null,
   "metadata": {
    "ExecuteTime": {
     "end_time": "2021-02-07T11:11:56.620650Z",
     "start_time": "2021-02-07T11:11:56.061750Z"
    }
   },
   "outputs": [],
   "source": [
    "ui.plot_sunburst(df, ['Account', 'FullType', 'FullSubType'])"
   ]
  },
  {
   "cell_type": "code",
   "execution_count": null,
   "metadata": {
    "ExecuteTime": {
     "end_time": "2021-02-07T11:11:57.606526Z",
     "start_time": "2021-02-07T11:11:56.621608Z"
    }
   },
   "outputs": [],
   "source": [
    "proj_data_2 = {\n",
    " 'UBS Pension': [0.0, 0.0, 18000],\n",
    " 'Nutmeg: Rainy day pot': [0.0, 0.0, 20000],\n",
    " 'Lloyds Mortgage': [0, 0, 20000],\n",
    " 'Instant Access - Paragon Bank PLC': [0.0, 0.0, 0],\n",
    " \"Nutmeg: Zoey's Junior ISA\": [0.0, 0.0, 2500],\n",
    " \"Nutmeg: Lucy's Junior ISA\": [0.0, 0.0, 2500],\n",
    " 'Nutmeg: My ISA': [0.0, 0.0, 20000],\n",
    " 'Nutmeg: My Nutmeg pension': [0.0, 0.0, 20000],\n",
    " 'Flat': [0.0, 0.0, 0]}\n",
    "ui.project_compare(df, 'GBP', 10, proj_data, proj_data_2)"
   ]
  },
  {
   "cell_type": "code",
   "execution_count": null,
   "metadata": {
    "ExecuteTime": {
     "end_time": "2021-02-07T11:11:57.644193Z",
     "start_time": "2021-02-07T11:11:57.606526Z"
    }
   },
   "outputs": [],
   "source": [
    "import datetime\n",
    "\n",
    "saving_per_year = {}\n",
    "\n",
    "for year in range(2016, 2021):\n",
    "    start_date = datetime.datetime(year,1,1,0,0,0,0)\n",
    "    end_date = datetime.datetime(year+1,1,1,0,0,0,0)\n",
    "\n",
    "    saving = df[(df.MasterType != 'XI') & (df.Date > start_date) & (df.Date <= end_date)].Amount.cumsum()[-1:].iloc[0]/((end_date - start_date).days/365.25)\n",
    "    income = df[(df.MasterType == 'I') & (df.Date > start_date) & (df.Date <= end_date)].Amount.cumsum()[-1:].iloc[0]/((end_date - start_date).days/365.25)\n",
    "    \n",
    "    saving_per_year[year] = (f'{saving:,.0f}', f'{saving/income:,.1%}')\n",
    "\n",
    "saving_per_year"
   ]
  },
  {
   "cell_type": "code",
   "execution_count": null,
   "metadata": {
    "ExecuteTime": {
     "end_time": "2021-02-07T11:11:57.657192Z",
     "start_time": "2021-02-07T11:11:57.645208Z"
    }
   },
   "outputs": [],
   "source": [
    "df[(df.MasterType == 'XI')][['Date', 'Account', 'Amount', 'MemoMapped']]"
   ]
  }
 ],
 "metadata": {
  "kernelspec": {
   "display_name": "Python 3",
   "language": "python",
   "name": "python3"
  },
  "language_info": {
   "codemirror_mode": {
    "name": "ipython",
    "version": 3
   },
   "file_extension": ".py",
   "mimetype": "text/x-python",
   "name": "python",
   "nbconvert_exporter": "python",
   "pygments_lexer": "ipython3",
   "version": "3.8.2"
  }
 },
 "nbformat": 4,
 "nbformat_minor": 4
}
