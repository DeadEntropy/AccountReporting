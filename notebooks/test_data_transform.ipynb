{
 "cells": [
  {
   "cell_type": "code",
   "execution_count": 1,
   "metadata": {},
   "outputs": [
    {
     "name": "stdout",
     "output_type": "stream",
     "text": [
      "found 1 CSV files.\n"
     ]
    }
   ],
   "source": [
    "import lloyds_mortgage_transform\n",
    "lloyds_mortgage_transform.load_save_default()"
   ]
  },
  {
   "cell_type": "code",
   "execution_count": 2,
   "metadata": {},
   "outputs": [
    {
     "name": "stdout",
     "output_type": "stream",
     "text": [
      "found 5 CSV files.\n"
     ]
    }
   ],
   "source": [
    "import lloyds_current_transform\n",
    "lloyds_current_transform.load_save_default()"
   ]
  },
  {
   "cell_type": "code",
   "execution_count": 3,
   "metadata": {},
   "outputs": [
    {
     "name": "stdout",
     "output_type": "stream",
     "text": [
      "found 2 CSV files.\n"
     ]
    }
   ],
   "source": [
    "import nutmeg_isa_transform\n",
    "nutmeg_isa_transform.load_save_default()"
   ]
  },
  {
   "cell_type": "code",
   "execution_count": 4,
   "metadata": {},
   "outputs": [
    {
     "name": "stdout",
     "output_type": "stream",
     "text": [
      "found 2 CSV files.\n"
     ]
    }
   ],
   "source": [
    "import revolut_transform\n",
    "revolut_transform.load_save_default()"
   ]
  },
  {
   "cell_type": "code",
   "execution_count": 5,
   "metadata": {},
   "outputs": [
    {
     "name": "stdout",
     "output_type": "stream",
     "text": [
      "found 4 CSV files.\n"
     ]
    }
   ],
   "source": [
    "import barclays_transform\n",
    "barclays_transform.load_save_default()"
   ]
  },
  {
   "cell_type": "code",
   "execution_count": 6,
   "metadata": {},
   "outputs": [
    {
     "name": "stdout",
     "output_type": "stream",
     "text": [
      "found 2 CSV files.\n"
     ]
    }
   ],
   "source": [
    "import citi_transform\n",
    "citi_transform.load_save_default()"
   ]
  },
  {
   "cell_type": "code",
   "execution_count": 7,
   "metadata": {},
   "outputs": [
    {
     "name": "stdout",
     "output_type": "stream",
     "text": [
      "found 18 CSV files.\n",
      "Loading D:\\NicoFolder\\BankAccount\\Lake\\34061868_20203126_0903.csv\n",
      "Loading D:\\NicoFolder\\BankAccount\\Lake\\34061868_20203326_0903.csv\n",
      "Loading D:\\NicoFolder\\BankAccount\\Lake\\34061868_20203426_0903.csv\n",
      "Loading D:\\NicoFolder\\BankAccount\\Lake\\34061868_20203526_0903.csv\n",
      "Loading D:\\NicoFolder\\BankAccount\\Lake\\34061868_20203626_0903.csv\n",
      "Loading D:\\NicoFolder\\BankAccount\\Lake\\Barclays_EUR.csv\n",
      "Loading D:\\NicoFolder\\BankAccount\\Lake\\Barclays_GBP_1.csv\n",
      "Loading D:\\NicoFolder\\BankAccount\\Lake\\Barclays_GBP_Past.csv\n",
      "Loading D:\\NicoFolder\\BankAccount\\Lake\\Barclays_Savings.csv\n",
      "Loading D:\\NicoFolder\\BankAccount\\Lake\\CHK_0146_CURRENT_VIEW.csv\n",
      "Loading D:\\NicoFolder\\BankAccount\\Lake\\Flat_Value.csv\n",
      "Loading D:\\NicoFolder\\BankAccount\\Lake\\HSBC_Mortgage.csv\n",
      "Loading D:\\NicoFolder\\BankAccount\\Lake\\Mortgage.csv\n",
      "Loading D:\\NicoFolder\\BankAccount\\Lake\\Nutmeg_SavingsContributions-26-Mar-20.csv\n",
      "Loading D:\\NicoFolder\\BankAccount\\Lake\\Nutmeg_SavingsContributions_ZoeyISA-26-Mar-20.csv\n",
      "Loading D:\\NicoFolder\\BankAccount\\Lake\\Revolut-EUR-Statement-Feb – Mar 2020.csv\n",
      "Loading D:\\NicoFolder\\BankAccount\\Lake\\Revolut-GBP-Statement-Feb – Mar 2020.csv\n",
      "Loading D:\\NicoFolder\\BankAccount\\Lake\\SAV_0154_CURRENT_VIEW.csv\n"
     ]
    }
   ],
   "source": [
    "import master_transform\n",
    "df = master_transform.load_save_default()"
   ]
  }
 ],
 "metadata": {
  "kernelspec": {
   "display_name": "Python 3",
   "language": "python",
   "name": "python3"
  },
  "language_info": {
   "codemirror_mode": {
    "name": "ipython",
    "version": 3
   },
   "file_extension": ".py",
   "mimetype": "text/x-python",
   "name": "python",
   "nbconvert_exporter": "python",
   "pygments_lexer": "ipython3",
   "version": "3.8.2"
  }
 },
 "nbformat": 4,
 "nbformat_minor": 4
}
