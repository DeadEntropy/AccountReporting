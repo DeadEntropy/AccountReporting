{
 "cells": [
  {
   "cell_type": "code",
   "execution_count": null,
   "id": "cc5c4d66",
   "metadata": {
    "ExecuteTime": {
     "end_time": "2023-04-11T13:39:30.439817Z",
     "start_time": "2023-04-11T13:39:23.809530Z"
    }
   },
   "outputs": [],
   "source": [
    "import numpy as np\n",
    "import pandas as pd\n",
    "import matplotlib.pyplot as plt\n",
    "pd.options.mode.chained_assignment = None  # default='warn'\n",
    "from bkanalysis.tax import nutmeg"
   ]
  },
  {
   "cell_type": "code",
   "execution_count": null,
   "id": "5a0dc962",
   "metadata": {
    "ExecuteTime": {
     "end_time": "2023-04-11T13:39:30.469394Z",
     "start_time": "2023-04-11T13:39:30.465974Z"
    }
   },
   "outputs": [],
   "source": [
    "# Asset Code is a SEDOL\n",
    "IN_USD = True"
   ]
  },
  {
   "cell_type": "code",
   "execution_count": null,
   "id": "e2f5c243",
   "metadata": {
    "ExecuteTime": {
     "end_time": "2023-04-11T13:39:30.615817Z",
     "start_time": "2023-04-11T13:39:30.471322Z"
    }
   },
   "outputs": [],
   "source": [
    "df_activity = pd.read_csv(r'', parse_dates=['Date'])"
   ]
  },
  {
   "cell_type": "code",
   "execution_count": null,
   "id": "c43afb45",
   "metadata": {},
   "outputs": [],
   "source": [
    "df_piv = nutmeg.clean_nutmeg_activity_report(df_activity)\n",
    "\n",
    "if IN_USD:\n",
    "    df_gbpusd = pd.read_csv(r'', parse_dates=['Date'])\n",
    "    gbpusd_close = df_gbpusd.set_index('Date')['Close']\n",
    "\n",
    "    df_piv['fx'] = [gbpusd_close[d] for d in df_piv.index]\n",
    "    df_piv['Unitary Value'] = df_piv['Unitary Value'] * df_piv['fx']"
   ]
  },
  {
   "cell_type": "code",
   "execution_count": null,
   "id": "358069eb",
   "metadata": {},
   "outputs": [],
   "source": [
    "tax_tables = []\n",
    "for asset_code in df_piv['Asset Code'].unique():\n",
    "    if asset_code == 'CASH':\n",
    "        continue\n",
    "    df_small = df_piv[(df_piv.Narrative.str.contains(asset_code)) & (df_piv['Asset Code'] != 'CASH')]\n",
    "    df_mini = pd.pivot_table(pd.DataFrame(df_small.to_records()), index='Date', values=['Units', 'Unitary Value'], aggfunc={'Units': sum, 'Unitary Value': np.mean})\n",
    "    df_mini = df_mini[abs(df_mini.Units) > 0.0001]\n",
    "    try:\n",
    "        tax_tbl = nutmeg.get_taxable_event_from_single_asset(df_mini)\n",
    "        tax_tbl['Asset Code'] = asset_code\n",
    "        tax_tables.append(tax_tbl)\n",
    "    except Exception as e:\n",
    "        print(f\"Failed to process: {asset_code}: {e}\")\n",
    "tax_tbl = pd.concat(tax_tables).sort_index()"
   ]
  },
  {
   "cell_type": "code",
   "execution_count": null,
   "id": "0684cabb",
   "metadata": {},
   "outputs": [],
   "source": [
    "tax_2022 = tax_tbl[(tax_tbl.index <= '2022-12-01') & (tax_tbl.index > '2021-12-01')]\n",
    "tax_2022 = pd.DataFrame(tax_2022.to_records())\n",
    "tax_2022.shape"
   ]
  },
  {
   "cell_type": "code",
   "execution_count": null,
   "id": "37c52f9e",
   "metadata": {},
   "outputs": [],
   "source": [
    "def adjust_for_fees(tax_df, fee:float):\n",
    "    tax_df['fee'] = fee/len(tax_df)\n",
    "    return tax_df"
   ]
  },
  {
   "cell_type": "code",
   "execution_count": null,
   "id": "23916910",
   "metadata": {},
   "outputs": [],
   "source": [
    "fee_for_avg_holding_period = df_piv[(df_piv.Type == 'FEE') & (df_piv.index <= '2022-12-01') & (df_piv.index > '2021-6-01')].Value.sum()\n",
    "avg_fx = gbpusd_close['2021-6-01':'2022-12-01'].mean()\n",
    "fee_for_avg_holding_period = fee_for_avg_holding_period * (avg_fx if IN_USD else 1.0)"
   ]
  },
  {
   "cell_type": "code",
   "execution_count": null,
   "id": "f03702dc",
   "metadata": {},
   "outputs": [],
   "source": [
    "tax_2022 = adjust_for_fees(tax_2022, fee_for_avg_holding_period)"
   ]
  },
  {
   "cell_type": "code",
   "execution_count": null,
   "id": "73c29eda",
   "metadata": {},
   "outputs": [],
   "source": [
    "tax_2022_small = pd.pivot_table(tax_2022, index='Asset Code', values=['units_sold', 'sale_price', 'purchase_price', 'purchase_date', 'taxable_amount', 'holding_period', 'fee'],\\\n",
    "         aggfunc={'units_sold':sum, 'sale_price':np.mean, 'purchase_price':np.mean, 'taxable_amount':sum, 'holding_period':np.mean, 'fee': sum})\n",
    "\n",
    "tax_2022_small.holding_period = tax_2022_small.holding_period.round('1D')\n",
    "tax_2022_small.taxable_amount = tax_2022_small.taxable_amount + tax_2022_small.fee\n",
    "tax_2022_small = tax_2022_small.astype({'taxable_amount': 'float', 'units_sold': 'float'}).round(2)\n",
    "tax_2022_small = tax_2022_small[['units_sold', 'purchase_price', 'sale_price', 'taxable_amount', 'holding_period']]\n",
    "print(f'Total Capital Gain in 2022 ({\"USD\" if IN_USD else \"GBP\"}): {tax_2022_small.taxable_amount.sum():,.2f}')\n"
   ]
  },
  {
   "cell_type": "code",
   "execution_count": null,
   "id": "a6114db4",
   "metadata": {},
   "outputs": [],
   "source": [
    "tax_2022[tax_2022['Asset Code'] == ''].to_csv(f'{\"USD\" if IN_USD else \"GBP\"}_taxable_amounts_details_.csv', index=False)"
   ]
  },
  {
   "cell_type": "code",
   "execution_count": null,
   "id": "676c0be4",
   "metadata": {},
   "outputs": [],
   "source": [
    "tax_2022_small.to_csv(f'{\"USD\" if IN_USD else \"GBP\"}_taxable_amounts_at_asset.csv')"
   ]
  },
  {
   "cell_type": "code",
   "execution_count": null,
   "id": "df99a6e5",
   "metadata": {},
   "outputs": [],
   "source": [
    "tax_2022_small"
   ]
  },
  {
   "cell_type": "code",
   "execution_count": null,
   "id": "b54bb533",
   "metadata": {},
   "outputs": [],
   "source": [
    "df_plot = df_piv[(df_piv.Narrative.str.contains('')) & (df_piv['Asset Code'] != 'CASH')]\n",
    "\n",
    "fig, ax1 = plt.subplots()\n",
    "\n",
    "ax2 = ax1.twinx()\n",
    "ax1.plot(df_plot['Unitary Value'], 'gx-')\n",
    "ax2.bar(x=df_plot['Units'].index, height=list(df_plot['Units']), width=10)\n",
    "\n",
    "ax1.set_xlabel('X data')\n",
    "ax1.set_ylabel('Y1 data', color='g')\n",
    "ax2.set_ylabel('Y2 data', color='b')\n",
    "\n",
    "plt.grid()\n",
    "plt.show()"
   ]
  }
 ],
 "metadata": {
  "kernelspec": {
   "display_name": "Python 3 (ipykernel)",
   "language": "python",
   "name": "python3"
  },
  "language_info": {
   "codemirror_mode": {
    "name": "ipython",
    "version": 3
   },
   "file_extension": ".py",
   "mimetype": "text/x-python",
   "name": "python",
   "nbconvert_exporter": "python",
   "pygments_lexer": "ipython3",
   "version": "3.11.0"
  }
 },
 "nbformat": 4,
 "nbformat_minor": 5
}
