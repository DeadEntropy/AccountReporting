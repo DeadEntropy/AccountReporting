{
 "cells": [
  {
   "cell_type": "code",
   "execution_count": null,
   "metadata": {
    "ExecuteTime": {
     "end_time": "2021-04-11T13:30:51.332980Z",
     "start_time": "2021-04-11T13:30:50.353402Z"
    }
   },
   "outputs": [],
   "source": [
    "from bkanalysis.ui import ui\n",
    "from datetime import datetime, timedelta\n",
    "import plotly.express as px"
   ]
  },
  {
   "cell_type": "code",
   "execution_count": null,
   "metadata": {
    "ExecuteTime": {
     "end_time": "2021-04-11T13:30:55.481348Z",
     "start_time": "2021-04-11T13:30:51.334629Z"
    }
   },
   "outputs": [],
   "source": [
    "df = ui.load(True)"
   ]
  },
  {
   "cell_type": "code",
   "execution_count": null,
   "metadata": {
    "ExecuteTime": {
     "end_time": "2021-04-11T13:30:56.690770Z",
     "start_time": "2021-04-11T13:30:55.485348Z"
    }
   },
   "outputs": [],
   "source": [
    "df_llc = df[(df.FullType.isin(['Flat Living Cost', 'Service Charge'])) & (df.FacingAccount == '')]\n",
    "df_llc.Amount = (-1) * df_llc.Amount\n",
    "px.sunburst(df_llc, path=['FullSubType'], values='Amount', title=f'Flat Living Costs Split (Total: {df_llc.Amount.sum():,.0f}£)').show()"
   ]
  },
  {
   "cell_type": "code",
   "execution_count": null,
   "metadata": {
    "ExecuteTime": {
     "end_time": "2021-04-11T13:30:56.706773Z",
     "start_time": "2021-04-11T13:30:56.691771Z"
    }
   },
   "outputs": [],
   "source": [
    "rent = 1900 * 48\n",
    "full_purchase = df_llc.Amount.sum()\n",
    "flat_purchase_price = df[df.Account == 'Flat'].Amount.sum()\n",
    "flat_selling_price = 665000\n",
    "flat_selling_fees = flat_selling_price * 0.0125 * 1.2\n",
    "savings = rent-full_purchase-flat_selling_fees + flat_selling_price-flat_purchase_price\n",
    "print(f'--------')\n",
    "print(f'Flat Purchase Price:\\t{flat_purchase_price:,.0f}£')\n",
    "print(f'Flat Resell Price:\\t{flat_selling_price:,.0f}£')\n",
    "print(f'--------')\n",
    "print(f'Rent over 4 years:\\t{rent:,.0f}£')\n",
    "print(f'Buying over 4 years:\\t{full_purchase + flat_selling_fees:,.0f}£')\n",
    "print(f'\\tOf which:')\n",
    "print(f'\\tPurchase Fees:\\t{df_llc[df_llc.FullSubType == \"Flat Purchase Fees\"].Amount.sum():,.0f}£')\n",
    "print(f'\\tStamp Duty:\\t{df_llc[df_llc.FullSubType == \"Stamp Duty\"].Amount.sum():,.0f}£')\n",
    "print(f'\\tFlat Work Cost:\\t{df_llc[df_llc.FullSubType == \"FlatWork\"].Amount.sum():,.0f}£')\n",
    "print(f'\\tMortgage Cost:\\t{df_llc[df_llc.FullSubType == \"Mortgage Interest\"].Amount.sum():,.0f}£')\n",
    "print(f'\\tService Charge:\\t{df_llc[df_llc.FullSubType == \"Service Charge\"].Amount.sum():,.0f}£')\n",
    "print(f'\\tSelling Fees:\\t{flat_selling_fees:,.0f}£')\n",
    "print(f'--------')\n",
    "print(f'Savings:\\t\\t{savings:,.0f}£')"
   ]
  },
  {
   "cell_type": "code",
   "execution_count": null,
   "metadata": {
    "ExecuteTime": {
     "end_time": "2021-04-11T13:30:56.722775Z",
     "start_time": "2021-04-11T13:30:56.709770Z"
    }
   },
   "outputs": [],
   "source": [
    "initial_investment = 160000\n",
    "final_investment = 300000\n",
    "print(f'Based on an initial investment of {initial_investment:,.0f}£, the annualised ROI is {savings/initial_investment/4:,.1%}')\n",
    "print(f'Based on an terminal investment of {final_investment:,.0f}£, the annualised ROI is {savings/final_investment/4:,.1%}')"
   ]
  }
 ],
 "metadata": {
  "kernelspec": {
   "display_name": "Python 3",
   "language": "python",
   "name": "python3"
  },
  "language_info": {
   "codemirror_mode": {
    "name": "ipython",
    "version": 3
   },
   "file_extension": ".py",
   "mimetype": "text/x-python",
   "name": "python",
   "nbconvert_exporter": "python",
   "pygments_lexer": "ipython3",
   "version": "3.8.2"
  }
 },
 "nbformat": 4,
 "nbformat_minor": 4
}
