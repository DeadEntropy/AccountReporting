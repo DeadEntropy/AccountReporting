{
 "cells": [
  {
   "cell_type": "markdown",
   "metadata": {},
   "source": [
    "# Wealth Projection\n",
    "#### Accounting for contribution, rate of return and volatility"
   ]
  },
  {
   "cell_type": "code",
   "execution_count": null,
   "metadata": {},
   "outputs": [],
   "source": [
    "import numpy as np\n",
    "import pandas as pd\n",
    "import matplotlib.pyplot as plt\n",
    "from matplotlib.ticker import FuncFormatter\n",
    "from projection import projection as pj"
   ]
  },
  {
   "cell_type": "markdown",
   "metadata": {},
   "source": [
    "## Projected Wealth"
   ]
  },
  {
   "cell_type": "code",
   "execution_count": null,
   "metadata": {},
   "outputs": [],
   "source": [
    "r=range(0, 11)\n",
    "(w, w_low, w_up, w_low_ex, w_up_ex) = pj.project_full(pd.read_csv('account_wealth_projection.csv'), r)\n",
    "pj.project_plot(w, w_low, w_up, w_low_ex, w_up_ex, r)"
   ]
  },
  {
   "cell_type": "markdown",
   "metadata": {},
   "source": [
    "## Projected Wealth (No Investment)"
   ]
  },
  {
   "cell_type": "code",
   "execution_count": null,
   "metadata": {},
   "outputs": [],
   "source": [
    "(w_2, w_low_2, w_up_2, w_low_ex_2, w_up_ex_2) = pj.project_full(pd.read_csv('account_wealth_projection.csv'), r, ignore_growth=True)\n",
    "pj.project_plot_compare(w, w_low, w_up, w_low_ex, w_up_ex, w_2, w_low_2, w_up_2, w_low_ex_2, w_up_ex_2, r, ignore_fill=False)"
   ]
  },
  {
   "cell_type": "code",
   "execution_count": null,
   "metadata": {},
   "outputs": [],
   "source": [
    "df = pd.read_csv('account_wealth_projection.csv')"
   ]
  },
  {
   "cell_type": "code",
   "execution_count": null,
   "metadata": {},
   "outputs": [],
   "source": [
    "wealth_incr_full = [t - s for s, t in zip(w, w[1:])]\n",
    "wealth_incr_contrib = [t - s for s, t in zip(w_2, w_2[1:])]\n",
    "wealth_incr_interest = [t - s for s,t in zip(wealth_incr_contrib, wealth_incr_full)]"
   ]
  },
  {
   "cell_type": "code",
   "execution_count": null,
   "metadata": {},
   "outputs": [],
   "source": [
    "fig, ax = plt.subplots(figsize=(12, 6))\n",
    "formatter = FuncFormatter(pj.thousands)\n",
    "ax.yaxis.set_major_formatter(formatter)\n",
    "ax.set(xlabel='Years', ylabel='Wealth Increase', title='Wealth Increase')\n",
    "labels = [\"Contribution\", \"Interest\"]\n",
    "ax.stackplot(r[1:], wealth_incr_contrib, wealth_incr_interest, labels=labels, alpha=0.75)\n",
    "ax.legend(loc='upper left')\n",
    "plt.show()"
   ]
  }
 ],
 "metadata": {
  "kernelspec": {
   "display_name": "Python 3",
   "language": "python",
   "name": "python3"
  },
  "language_info": {
   "codemirror_mode": {
    "name": "ipython",
    "version": 3
   },
   "file_extension": ".py",
   "mimetype": "text/x-python",
   "name": "python",
   "nbconvert_exporter": "python",
   "pygments_lexer": "ipython3",
   "version": "3.8.2"
  }
 },
 "nbformat": 4,
 "nbformat_minor": 4
}
