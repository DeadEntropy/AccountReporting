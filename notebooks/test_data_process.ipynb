{
 "cells": [
  {
   "cell_type": "code",
   "execution_count": 1,
   "metadata": {},
   "outputs": [],
   "source": [
    "import pandas as pd\n",
    "import datetime\n",
    "from process import process\n",
    "import re"
   ]
  },
  {
   "cell_type": "code",
   "execution_count": 2,
   "metadata": {},
   "outputs": [],
   "source": [
    "original_file = r'D:\\NicoFolder\\BankAccount\\Utils\\MemoMapping_Original.csv'"
   ]
  },
  {
   "cell_type": "code",
   "execution_count": 4,
   "metadata": {},
   "outputs": [],
   "source": [
    "# process.process_save()"
   ]
  },
  {
   "cell_type": "code",
   "execution_count": 9,
   "metadata": {},
   "outputs": [],
   "source": [
    "df = pd.read_csv(process.default_override_path)"
   ]
  },
  {
   "cell_type": "code",
   "execution_count": 10,
   "metadata": {},
   "outputs": [
    {
     "data": {
      "text/html": [
       "<div>\n",
       "<style scoped>\n",
       "    .dataframe tbody tr th:only-of-type {\n",
       "        vertical-align: middle;\n",
       "    }\n",
       "\n",
       "    .dataframe tbody tr th {\n",
       "        vertical-align: top;\n",
       "    }\n",
       "\n",
       "    .dataframe thead th {\n",
       "        text-align: right;\n",
       "    }\n",
       "</style>\n",
       "<table border=\"1\" class=\"dataframe\">\n",
       "  <thead>\n",
       "    <tr style=\"text-align: right;\">\n",
       "      <th></th>\n",
       "      <th>Date</th>\n",
       "      <th>Account</th>\n",
       "      <th>MemoMapped</th>\n",
       "      <th>OverridesType</th>\n",
       "      <th>OverrideSubType</th>\n",
       "    </tr>\n",
       "  </thead>\n",
       "  <tbody>\n",
       "    <tr>\n",
       "      <th>0</th>\n",
       "      <td>08-Jul-19</td>\n",
       "      <td>20-26-77 13105881</td>\n",
       "      <td>Londis</td>\n",
       "      <td>E</td>\n",
       "      <td>Rb</td>\n",
       "    </tr>\n",
       "    <tr>\n",
       "      <th>1</th>\n",
       "      <td>03-Jul-19</td>\n",
       "      <td>20-26-77 13105881</td>\n",
       "      <td>Amazon</td>\n",
       "      <td>E</td>\n",
       "      <td>Cul</td>\n",
       "    </tr>\n",
       "    <tr>\n",
       "      <th>2</th>\n",
       "      <td>14-Jun-19</td>\n",
       "      <td>20-26-77 13105881</td>\n",
       "      <td>Heathrow Express</td>\n",
       "      <td>NaN</td>\n",
       "      <td>Aix19</td>\n",
       "    </tr>\n",
       "    <tr>\n",
       "      <th>3</th>\n",
       "      <td>28-May-19</td>\n",
       "      <td>20-26-77 13105881</td>\n",
       "      <td>EasyJet</td>\n",
       "      <td>NaN</td>\n",
       "      <td>Britt19</td>\n",
       "    </tr>\n",
       "    <tr>\n",
       "      <th>4</th>\n",
       "      <td>25-May-19</td>\n",
       "      <td>20-26-77 13105881</td>\n",
       "      <td>Flat Early Repayment</td>\n",
       "      <td>R</td>\n",
       "      <td>L</td>\n",
       "    </tr>\n",
       "  </tbody>\n",
       "</table>\n",
       "</div>"
      ],
      "text/plain": [
       "        Date            Account            MemoMapped OverridesType  \\\n",
       "0  08-Jul-19  20-26-77 13105881                Londis             E   \n",
       "1  03-Jul-19  20-26-77 13105881                Amazon             E   \n",
       "2  14-Jun-19  20-26-77 13105881      Heathrow Express           NaN   \n",
       "3  28-May-19  20-26-77 13105881               EasyJet           NaN   \n",
       "4  25-May-19  20-26-77 13105881  Flat Early Repayment             R   \n",
       "\n",
       "  OverrideSubType  \n",
       "0              Rb  \n",
       "1             Cul  \n",
       "2           Aix19  \n",
       "3         Britt19  \n",
       "4               L  "
      ]
     },
     "execution_count": 10,
     "metadata": {},
     "output_type": "execute_result"
    }
   ],
   "source": [
    "df.head()"
   ]
  },
  {
   "cell_type": "code",
   "execution_count": 17,
   "metadata": {},
   "outputs": [],
   "source": [
    "subset_values = df[['OverridesType', 'OverrideSubType']]\n",
    "subset_keys = df[['Date', 'Account', 'MemoMapped']]\n",
    "dict_overrides = pd.Series([tuple(x) for x in subset_values.to_numpy()], index=[tuple(x) for x in subset_keys.to_numpy()]).to_dict()"
   ]
  },
  {
   "cell_type": "code",
   "execution_count": 35,
   "metadata": {},
   "outputs": [],
   "source": [
    "for index, row in df.iterrows():\n",
    "    # row['Account'] = 'Hello Again'\n",
    "    df.iloc[index]['Account'] = ''"
   ]
  },
  {
   "cell_type": "code",
   "execution_count": 36,
   "metadata": {},
   "outputs": [
    {
     "data": {
      "text/html": [
       "<div>\n",
       "<style scoped>\n",
       "    .dataframe tbody tr th:only-of-type {\n",
       "        vertical-align: middle;\n",
       "    }\n",
       "\n",
       "    .dataframe tbody tr th {\n",
       "        vertical-align: top;\n",
       "    }\n",
       "\n",
       "    .dataframe thead th {\n",
       "        text-align: right;\n",
       "    }\n",
       "</style>\n",
       "<table border=\"1\" class=\"dataframe\">\n",
       "  <thead>\n",
       "    <tr style=\"text-align: right;\">\n",
       "      <th></th>\n",
       "      <th>Date</th>\n",
       "      <th>Account</th>\n",
       "      <th>MemoMapped</th>\n",
       "      <th>OverridesType</th>\n",
       "      <th>OverrideSubType</th>\n",
       "    </tr>\n",
       "  </thead>\n",
       "  <tbody>\n",
       "    <tr>\n",
       "      <th>0</th>\n",
       "      <td>08-Jul-19</td>\n",
       "      <td></td>\n",
       "      <td>Londis</td>\n",
       "      <td>E</td>\n",
       "      <td>Rb</td>\n",
       "    </tr>\n",
       "    <tr>\n",
       "      <th>1</th>\n",
       "      <td>03-Jul-19</td>\n",
       "      <td></td>\n",
       "      <td>Amazon</td>\n",
       "      <td>E</td>\n",
       "      <td>Cul</td>\n",
       "    </tr>\n",
       "    <tr>\n",
       "      <th>2</th>\n",
       "      <td>14-Jun-19</td>\n",
       "      <td></td>\n",
       "      <td>Heathrow Express</td>\n",
       "      <td>NaN</td>\n",
       "      <td>Aix19</td>\n",
       "    </tr>\n",
       "    <tr>\n",
       "      <th>3</th>\n",
       "      <td>28-May-19</td>\n",
       "      <td></td>\n",
       "      <td>EasyJet</td>\n",
       "      <td>NaN</td>\n",
       "      <td>Britt19</td>\n",
       "    </tr>\n",
       "    <tr>\n",
       "      <th>4</th>\n",
       "      <td>25-May-19</td>\n",
       "      <td></td>\n",
       "      <td>Flat Early Repayment</td>\n",
       "      <td>R</td>\n",
       "      <td>L</td>\n",
       "    </tr>\n",
       "  </tbody>\n",
       "</table>\n",
       "</div>"
      ],
      "text/plain": [
       "        Date Account            MemoMapped OverridesType OverrideSubType\n",
       "0  08-Jul-19                        Londis             E              Rb\n",
       "1  03-Jul-19                        Amazon             E             Cul\n",
       "2  14-Jun-19              Heathrow Express           NaN           Aix19\n",
       "3  28-May-19                       EasyJet           NaN         Britt19\n",
       "4  25-May-19          Flat Early Repayment             R               L"
      ]
     },
     "execution_count": 36,
     "metadata": {},
     "output_type": "execute_result"
    }
   ],
   "source": [
    "df.head()"
   ]
  },
  {
   "cell_type": "code",
   "execution_count": 30,
   "metadata": {},
   "outputs": [],
   "source": [
    "tup = ('elt_1', 'dfg', 'tyu')"
   ]
  },
  {
   "cell_type": "code",
   "execution_count": 31,
   "metadata": {},
   "outputs": [
    {
     "data": {
      "text/plain": [
       "'elt_1'"
      ]
     },
     "execution_count": 31,
     "metadata": {},
     "output_type": "execute_result"
    }
   ],
   "source": [
    "tup[0]"
   ]
  },
  {
   "cell_type": "code",
   "execution_count": null,
   "metadata": {},
   "outputs": [],
   "source": []
  }
 ],
 "metadata": {
  "kernelspec": {
   "display_name": "Python 3",
   "language": "python",
   "name": "python3"
  },
  "language_info": {
   "codemirror_mode": {
    "name": "ipython",
    "version": 3
   },
   "file_extension": ".py",
   "mimetype": "text/x-python",
   "name": "python",
   "nbconvert_exporter": "python",
   "pygments_lexer": "ipython3",
   "version": "3.8.2"
  }
 },
 "nbformat": 4,
 "nbformat_minor": 4
}
